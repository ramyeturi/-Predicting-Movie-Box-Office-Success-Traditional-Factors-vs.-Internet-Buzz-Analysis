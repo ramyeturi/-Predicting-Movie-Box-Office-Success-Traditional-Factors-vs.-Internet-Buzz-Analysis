{
 "cells": [
  {
   "attachments": {},
   "cell_type": "markdown",
   "metadata": {},
   "source": [
    "# Regression models for Internet Buzz and the Movie Box Office Dataset involving the principal components"
   ]
  },
  {
   "cell_type": "markdown",
   "metadata": {},
   "source": [
    "# Importing DataSet to Jupyter Notebooks"
   ]
  },
  {
   "cell_type": "markdown",
   "metadata": {},
   "source": [
    "<b><u> NOTE TO PROFESSOR </u></b><br>\n",
    "Dataset needs to be imported as per the pathway in your system. Please update the pathway accordingly to allow the code to run. \n"
   ]
  },
  {
   "cell_type": "code",
   "execution_count": null,
   "metadata": {},
   "outputs": [],
   "source": [
    "DataSet = pd.read_csv(\"C:\\\\My Files\\\\UTD Masters\\\\Work Files\\\\Fall 2022 - Yr 1 Sem 1\\\\BUAN 6383 - Modelling for Business Analytics\\\\Homework Assignments\\\\Homework 1\\\\boxOffice.csv\")\n",
    "Data = pd.read_csv(\"C:\\\\My Files\\\\UTD Masters\\\\Work Files\\\\Fall 2022 - Yr 1 Sem 1\\\\BUAN 6383 - Modelling for Business Analytics\\\\Homework Assignments\\\\Homework 1\\\\boxOffice.csv\")"
   ]
  },
  {
   "cell_type": "markdown",
   "metadata": {},
   "source": [
    "# Basic Information on the attributes in the initial DataSet"
   ]
  },
  {
   "cell_type": "markdown",
   "metadata": {},
   "source": [
    "<b><u> TYPES OF ATTRIBUTES </u></b>\n"
   ]
  },
  {
   "cell_type": "code",
   "execution_count": null,
   "metadata": {},
   "outputs": [
    {
     "data": {
      "text/plain": [
       "box           int64\n",
       "G             int64\n",
       "PG            int64\n",
       "PG13          int64\n",
       "budget      float64\n",
       "starpowr    float64\n",
       "sequel        int64\n",
       "action        int64\n",
       "comedy        int64\n",
       "animated      int64\n",
       "horror        int64\n",
       "addict      float64\n",
       "cmngsoon      int64\n",
       "fandango      int64\n",
       "cntwait3    float64\n",
       "dtype: object"
      ]
     },
     "metadata": {},
     "output_type": "display_data"
    }
   ],
   "source": [
    "DataSet.dtypes"
   ]
  },
  {
   "cell_type": "markdown",
   "metadata": {},
   "source": [
    "<b><u> MISSING VALUES IN DATASET </u></b>\n"
   ]
  },
  {
   "cell_type": "code",
   "execution_count": null,
   "metadata": {},
   "outputs": [
    {
     "data": {
      "text/plain": [
       "box         0\n",
       "G           0\n",
       "PG          0\n",
       "PG13        0\n",
       "budget      0\n",
       "starpowr    0\n",
       "sequel      0\n",
       "action      0\n",
       "comedy      0\n",
       "animated    0\n",
       "horror      0\n",
       "addict      0\n",
       "cmngsoon    0\n",
       "fandango    0\n",
       "cntwait3    0\n",
       "dtype: int64"
      ]
     },
     "metadata": {},
     "output_type": "display_data"
    }
   ],
   "source": [
    "DataSet.isnull().sum()"
   ]
  },
  {
   "cell_type": "markdown",
   "metadata": {},
   "source": [
    "<b><u> SUMMARIZED DATASET </u></b>\n"
   ]
  },
  {
   "cell_type": "code",
   "execution_count": null,
   "metadata": {},
   "outputs": [
    {
     "data": {
      "text/html": [
       "<div>\n",
       "<style scoped>\n",
       "    .dataframe tbody tr th:only-of-type {\n",
       "        vertical-align: middle;\n",
       "    }\n",
       "\n",
       "    .dataframe tbody tr th {\n",
       "        vertical-align: top;\n",
       "    }\n",
       "\n",
       "    .dataframe thead th {\n",
       "        text-align: right;\n",
       "    }\n",
       "</style>\n",
       "<table border=\"1\" class=\"dataframe\">\n",
       "  <thead>\n",
       "    <tr style=\"text-align: right;\">\n",
       "      <th></th>\n",
       "      <th>box</th>\n",
       "      <th>G</th>\n",
       "      <th>PG</th>\n",
       "      <th>PG13</th>\n",
       "      <th>budget</th>\n",
       "      <th>starpowr</th>\n",
       "      <th>sequel</th>\n",
       "      <th>action</th>\n",
       "      <th>comedy</th>\n",
       "      <th>animated</th>\n",
       "      <th>horror</th>\n",
       "      <th>addict</th>\n",
       "      <th>cmngsoon</th>\n",
       "      <th>fandango</th>\n",
       "      <th>cntwait3</th>\n",
       "    </tr>\n",
       "  </thead>\n",
       "  <tbody>\n",
       "    <tr>\n",
       "      <th>count</th>\n",
       "      <td>6.200000e+01</td>\n",
       "      <td>62.000000</td>\n",
       "      <td>62.000000</td>\n",
       "      <td>62.000000</td>\n",
       "      <td>62.000000</td>\n",
       "      <td>62.000000</td>\n",
       "      <td>62.000000</td>\n",
       "      <td>62.000000</td>\n",
       "      <td>62.000000</td>\n",
       "      <td>62.000000</td>\n",
       "      <td>62.000000</td>\n",
       "      <td>62.000000</td>\n",
       "      <td>62.000000</td>\n",
       "      <td>62.000000</td>\n",
       "      <td>62.000000</td>\n",
       "    </tr>\n",
       "    <tr>\n",
       "      <th>mean</th>\n",
       "      <td>2.072065e+07</td>\n",
       "      <td>0.032258</td>\n",
       "      <td>0.241935</td>\n",
       "      <td>0.451613</td>\n",
       "      <td>53.287097</td>\n",
       "      <td>18.031613</td>\n",
       "      <td>0.145161</td>\n",
       "      <td>0.225806</td>\n",
       "      <td>0.322581</td>\n",
       "      <td>0.096774</td>\n",
       "      <td>0.096774</td>\n",
       "      <td>5933.807212</td>\n",
       "      <td>78.209677</td>\n",
       "      <td>522.338710</td>\n",
       "      <td>0.482419</td>\n",
       "    </tr>\n",
       "    <tr>\n",
       "      <th>std</th>\n",
       "      <td>1.749244e+07</td>\n",
       "      <td>0.178127</td>\n",
       "      <td>0.431751</td>\n",
       "      <td>0.501716</td>\n",
       "      <td>42.870772</td>\n",
       "      <td>8.874605</td>\n",
       "      <td>0.355139</td>\n",
       "      <td>0.421526</td>\n",
       "      <td>0.471280</td>\n",
       "      <td>0.298064</td>\n",
       "      <td>0.298064</td>\n",
       "      <td>7674.608892</td>\n",
       "      <td>124.552726</td>\n",
       "      <td>390.670208</td>\n",
       "      <td>0.156631</td>\n",
       "    </tr>\n",
       "    <tr>\n",
       "      <th>min</th>\n",
       "      <td>5.119200e+05</td>\n",
       "      <td>0.000000</td>\n",
       "      <td>0.000000</td>\n",
       "      <td>0.000000</td>\n",
       "      <td>5.000000</td>\n",
       "      <td>0.000000</td>\n",
       "      <td>0.000000</td>\n",
       "      <td>0.000000</td>\n",
       "      <td>0.000000</td>\n",
       "      <td>0.000000</td>\n",
       "      <td>0.000000</td>\n",
       "      <td>568.000000</td>\n",
       "      <td>2.000000</td>\n",
       "      <td>35.000000</td>\n",
       "      <td>0.150000</td>\n",
       "    </tr>\n",
       "    <tr>\n",
       "      <th>25%</th>\n",
       "      <td>6.956492e+06</td>\n",
       "      <td>0.000000</td>\n",
       "      <td>0.000000</td>\n",
       "      <td>0.000000</td>\n",
       "      <td>30.500000</td>\n",
       "      <td>12.162500</td>\n",
       "      <td>0.000000</td>\n",
       "      <td>0.000000</td>\n",
       "      <td>0.000000</td>\n",
       "      <td>0.000000</td>\n",
       "      <td>0.000000</td>\n",
       "      <td>1670.568750</td>\n",
       "      <td>19.250000</td>\n",
       "      <td>254.750000</td>\n",
       "      <td>0.360000</td>\n",
       "    </tr>\n",
       "    <tr>\n",
       "      <th>50%</th>\n",
       "      <td>1.693093e+07</td>\n",
       "      <td>0.000000</td>\n",
       "      <td>0.000000</td>\n",
       "      <td>0.000000</td>\n",
       "      <td>37.400000</td>\n",
       "      <td>18.065000</td>\n",
       "      <td>0.000000</td>\n",
       "      <td>0.000000</td>\n",
       "      <td>0.000000</td>\n",
       "      <td>0.000000</td>\n",
       "      <td>0.000000</td>\n",
       "      <td>3480.000000</td>\n",
       "      <td>36.500000</td>\n",
       "      <td>430.500000</td>\n",
       "      <td>0.485000</td>\n",
       "    </tr>\n",
       "    <tr>\n",
       "      <th>75%</th>\n",
       "      <td>2.669614e+07</td>\n",
       "      <td>0.000000</td>\n",
       "      <td>0.000000</td>\n",
       "      <td>1.000000</td>\n",
       "      <td>60.000000</td>\n",
       "      <td>24.092500</td>\n",
       "      <td>0.000000</td>\n",
       "      <td>0.000000</td>\n",
       "      <td>1.000000</td>\n",
       "      <td>0.000000</td>\n",
       "      <td>0.000000</td>\n",
       "      <td>7835.541667</td>\n",
       "      <td>66.000000</td>\n",
       "      <td>663.500000</td>\n",
       "      <td>0.587500</td>\n",
       "    </tr>\n",
       "    <tr>\n",
       "      <th>max</th>\n",
       "      <td>7.095050e+07</td>\n",
       "      <td>1.000000</td>\n",
       "      <td>1.000000</td>\n",
       "      <td>1.000000</td>\n",
       "      <td>200.000000</td>\n",
       "      <td>36.760000</td>\n",
       "      <td>1.000000</td>\n",
       "      <td>1.000000</td>\n",
       "      <td>1.000000</td>\n",
       "      <td>1.000000</td>\n",
       "      <td>1.000000</td>\n",
       "      <td>45865.692310</td>\n",
       "      <td>594.000000</td>\n",
       "      <td>1778.000000</td>\n",
       "      <td>0.790000</td>\n",
       "    </tr>\n",
       "  </tbody>\n",
       "</table>\n",
       "</div>"
      ],
      "text/plain": [
       "                box          G         PG       PG13      budget   starpowr  \\\n",
       "count  6.200000e+01  62.000000  62.000000  62.000000   62.000000  62.000000   \n",
       "mean   2.072065e+07   0.032258   0.241935   0.451613   53.287097  18.031613   \n",
       "std    1.749244e+07   0.178127   0.431751   0.501716   42.870772   8.874605   \n",
       "min    5.119200e+05   0.000000   0.000000   0.000000    5.000000   0.000000   \n",
       "25%    6.956492e+06   0.000000   0.000000   0.000000   30.500000  12.162500   \n",
       "50%    1.693093e+07   0.000000   0.000000   0.000000   37.400000  18.065000   \n",
       "75%    2.669614e+07   0.000000   0.000000   1.000000   60.000000  24.092500   \n",
       "max    7.095050e+07   1.000000   1.000000   1.000000  200.000000  36.760000   \n",
       "\n",
       "          sequel     action     comedy   animated     horror        addict  \\\n",
       "count  62.000000  62.000000  62.000000  62.000000  62.000000     62.000000   \n",
       "mean    0.145161   0.225806   0.322581   0.096774   0.096774   5933.807212   \n",
       "std     0.355139   0.421526   0.471280   0.298064   0.298064   7674.608892   \n",
       "min     0.000000   0.000000   0.000000   0.000000   0.000000    568.000000   \n",
       "25%     0.000000   0.000000   0.000000   0.000000   0.000000   1670.568750   \n",
       "50%     0.000000   0.000000   0.000000   0.000000   0.000000   3480.000000   \n",
       "75%     0.000000   0.000000   1.000000   0.000000   0.000000   7835.541667   \n",
       "max     1.000000   1.000000   1.000000   1.000000   1.000000  45865.692310   \n",
       "\n",
       "         cmngsoon     fandango   cntwait3  \n",
       "count   62.000000    62.000000  62.000000  \n",
       "mean    78.209677   522.338710   0.482419  \n",
       "std    124.552726   390.670208   0.156631  \n",
       "min      2.000000    35.000000   0.150000  \n",
       "25%     19.250000   254.750000   0.360000  \n",
       "50%     36.500000   430.500000   0.485000  \n",
       "75%     66.000000   663.500000   0.587500  \n",
       "max    594.000000  1778.000000   0.790000  "
      ]
     },
     "metadata": {},
     "output_type": "display_data"
    }
   ],
   "source": [
    "DataSet.describe(include=\"all\")"
   ]
  },
  {
   "cell_type": "markdown",
   "metadata": {},
   "source": [
    "<b><u> DIMENSIONS OF DATASET </u></b>\n"
   ]
  },
  {
   "cell_type": "code",
   "execution_count": null,
   "metadata": {},
   "outputs": [
    {
     "data": {
      "text/plain": [
       "(62, 15)"
      ]
     },
     "metadata": {},
     "output_type": "display_data"
    }
   ],
   "source": [
    "DataSet.shape"
   ]
  },
  {
   "cell_type": "markdown",
   "metadata": {},
   "source": [
    "<b><u> SKEWNESS IN THE DATASET </u></b>\n"
   ]
  },
  {
   "cell_type": "code",
   "execution_count": null,
   "metadata": {},
   "outputs": [
    {
     "data": {
      "text/plain": [
       "box         1.474056\n",
       "G           5.426838\n",
       "PG          1.235279\n",
       "PG13        0.199316\n",
       "budget      1.794689\n",
       "starpowr   -0.067433\n",
       "sequel      2.064919\n",
       "action      1.344324\n",
       "comedy      0.778023\n",
       "animated    2.795824\n",
       "horror      2.795824\n",
       "addict      3.317154\n",
       "cmngsoon    2.852279\n",
       "fandango    1.403302\n",
       "cntwait3   -0.028592\n",
       "dtype: float64"
      ]
     },
     "metadata": {},
     "output_type": "display_data"
    }
   ],
   "source": [
    "DataSet.skew()"
   ]
  },
  {
   "cell_type": "code",
   "execution_count": null,
   "metadata": {},
   "outputs": [],
   "source": [
    "df = Data"
   ]
  },
  {
   "cell_type": "markdown",
   "metadata": {},
   "source": [
    "<b><u> HISTOGRAM AND SKEWNESS FOR BOX </u></b>\n",
    "\n",
    " * <b><u> Histogram </u></b>\n"
   ]
  },
  {
   "cell_type": "code",
   "execution_count": null,
   "metadata": {},
   "outputs": [
    {
     "data": {
      "text/plain": [
       "<matplotlib.legend.Legend at 0x26accba1e20>"
      ]
     },
     "metadata": {},
     "output_type": "display_data"
    },
    {
     "data": {
      "image/png": "[encoded data removed]",
      "text/plain": [
       "<Figure size 432x288 with 1 Axes>"
      ]
     },
     "metadata": {},
     "output_type": "display_data"
    }
   ],
   "source": [
    "plt.hist(DataSet['box'], color = 'lightblue')\n",
    "plt.axvline(DataSet['box'].mean(), color = 'green', label = 'Mean')\n",
    "plt.axvline(DataSet['box'].median(), color = 'blue', label = 'Median', linestyle = 'dashdot')\n",
    "plt.axvline(DataSet['box'].mode()[0], color = 'red', label = 'Mode')\n",
    "plt.xlabel('Box')\n",
    "plt.ylabel('Frequency')\n",
    "plt.title(\"Histogram for BOX\")\n",
    "plt.legend()"
   ]
  },
  {
   "cell_type": "markdown",
   "metadata": {},
   "source": [
    " * <b><u> Skewness </u></b>"
   ]
  },
  {
   "cell_type": "code",
   "execution_count": null,
   "metadata": {},
   "outputs": [
    {
     "data": {
      "text/plain": [
       "1.4740564718225797"
      ]
     },
     "metadata": {},
     "output_type": "display_data"
    }
   ],
   "source": [
    "DataSet['box'].skew()"
   ]
  },
  {
   "cell_type": "markdown",
   "metadata": {},
   "source": [
    "* Mode < Median < Mean\n",
    "* Through the Histogram and the high POSITIVE SKEWNESS Value returned throught the skew() function, we can conclude that the attribute \"box\" is Highly RIGHT SKEWED\n",
    "* The \"box\" attribute will need a log transformation"
   ]
  },
  {
   "cell_type": "markdown",
   "metadata": {},
   "source": [
    "<b><u> HISTOGRAM AND SKEWNESS FOR BUDGET </u></b>\n",
    "\n",
    " * <b><u> Histogram </u></b>\n"
   ]
  },
  {
   "cell_type": "code",
   "execution_count": null,
   "metadata": {},
   "outputs": [
    {
     "data": {
      "text/plain": [
       "<matplotlib.legend.Legend at 0x26ad0c88f70>"
      ]
     },
     "metadata": {},
     "output_type": "display_data"
    },
    {
     "data": {
      "image/png": "[encoded data removed]",
      "text/plain": [
       "<Figure size 432x288 with 1 Axes>"
      ]
     },
     "metadata": {},
     "output_type": "display_data"
    }
   ],
   "source": [
    "plt.hist(DataSet['budget'], color = 'lightblue')\n",
    "plt.axvline(DataSet['budget'].mean(), color = 'green', label = 'Mean')\n",
    "plt.axvline(DataSet['budget'].median(), color = 'blue', label = 'Median', linestyle = 'dashdot')\n",
    "plt.axvline(DataSet['budget'].mode()[0], color = 'red', label = 'Mode', linestyle = \"dotted\")\n",
    "plt.xlabel('Budget')\n",
    "plt.ylabel('Frequency')\n",
    "plt.title(\"Histogram for BUDGET\")\n",
    "plt.legend()"
   ]
  },
  {
   "cell_type": "markdown",
   "metadata": {},
   "source": [
    " * <b><u> Skewness </u></b>"
   ]
  },
  {
   "cell_type": "code",
   "execution_count": null,
   "metadata": {},
   "outputs": [
    {
     "data": {
      "text/plain": [
       "1.7946894204346953"
      ]
     },
     "metadata": {},
     "output_type": "display_data"
    }
   ],
   "source": [
    "DataSet['budget'].skew()"
   ]
  },
  {
   "cell_type": "markdown",
   "metadata": {},
   "source": [
    "* Mode = Median < Mean\n",
    "* Through the Histogram and the high POSITIVE SKEWNESS Value returned throught the skew() function, we can conclude that the attribute \"budget\" is Highly RIGHT SKEWED\n",
    "* The \"budget\" attribute will need a log transformation"
   ]
  },
  {
   "cell_type": "markdown",
   "metadata": {},
   "source": [
    "<b><u> HISTOGRAM AND SKEWNESS FOR STARPOWR </u></b>\n",
    "\n",
    " * <b><u> Histogram </u></b>\n"
   ]
  },
  {
   "cell_type": "code",
   "execution_count": null,
   "metadata": {},
   "outputs": [
    {
     "data": {
      "text/plain": [
       "<matplotlib.legend.Legend at 0x26acfa3bc40>"
      ]
     },
     "metadata": {},
     "output_type": "display_data"
    },
    {
     "data": {
      "image/png": "[encoded data removed]",
      "text/plain": [
       "<Figure size 432x288 with 1 Axes>"
      ]
     },
     "metadata": {},
     "output_type": "display_data"
    }
   ],
   "source": [
    "plt.hist(DataSet['starpowr'], color = 'lightblue')\n",
    "plt.axvline(DataSet['starpowr'].mean(), color = 'green', label = 'Mean', linestyle = \"dashdot\")\n",
    "plt.axvline(DataSet['starpowr'].median(), color = 'blue', label = 'Median', linestyle = 'dotted')\n",
    "plt.axvline(DataSet['starpowr'].mode()[0], color = 'red', label = 'Mode')\n",
    "plt.xlabel('Star Power')\n",
    "plt.ylabel('Frequency')\n",
    "plt.title(\"Histogram for STAR POWER\")\n",
    "plt.legend()"
   ]
  },
  {
   "cell_type": "markdown",
   "metadata": {},
   "source": [
    " * <b><u> Skewness </u></b>"
   ]
  },
  {
   "cell_type": "code",
   "execution_count": null,
   "metadata": {},
   "outputs": [
    {
     "data": {
      "text/plain": [
       "-0.06743290486572177"
      ]
     },
     "metadata": {},
     "output_type": "display_data"
    }
   ],
   "source": [
    "DataSet['starpowr'].skew()"
   ]
  },
  {
   "cell_type": "markdown",
   "metadata": {},
   "source": [
    "* Mode < Median = Mean\n",
    "* Through the Histogram and the low NEGATIVE SKEWNESS Value returned throught the skew() function, we can conclude that the attribute \"starpowr\" is mostly NORMALLY DISTRIBUTED\n",
    "* The \"starpowr\" attribute will NOT need a log transformation"
   ]
  },
  {
   "cell_type": "markdown",
   "metadata": {},
   "source": [
    "<b><u> LOG TRANSFORMATION OF BUDGET AND BOX </u></b>\n"
   ]
  },
  {
   "cell_type": "code",
   "execution_count": null,
   "metadata": {},
   "outputs": [
    {
     "data": {
      "image/png": "[encoded data removed]",
      "text/plain": [
       "<Figure size 432x288 with 1 Axes>"
      ]
     },
     "metadata": {},
     "output_type": "display_data"
    }
   ],
   "source": [
    "logBox = np.log(Data['box'])\n",
    "plt.hist(logBox)\n",
    "plt.ylabel('Frequency')\n",
    "plt.title(\"Graph of Log Transformation of Box\")\n",
    "plt.show()"
   ]
  },
  {
   "cell_type": "code",
   "execution_count": null,
   "metadata": {},
   "outputs": [
    {
     "data": {
      "text/plain": [
       "-0.6946390196517153"
      ]
     },
     "metadata": {},
     "output_type": "display_data"
    }
   ],
   "source": [
    "logBox.skew()"
   ]
  },
  {
   "cell_type": "code",
   "execution_count": null,
   "metadata": {},
   "outputs": [
    {
     "data": {
      "image/png": "[encoded data removed]",
      "text/plain": [
       "<Figure size 432x288 with 1 Axes>"
      ]
     },
     "metadata": {},
     "output_type": "display_data"
    }
   ],
   "source": [
    "logBudget = np.log(Data['budget'])\n",
    "plt.hist(logBudget)\n",
    "plt.ylabel('Frequency')\n",
    "plt.title(\"Graph of Log Transformation of Budget\")\n",
    "plt.show()"
   ]
  },
  {
   "cell_type": "code",
   "execution_count": null,
   "metadata": {},
   "outputs": [
    {
     "data": {
      "text/plain": [
       "-0.013722750015032979"
      ]
     },
     "metadata": {},
     "output_type": "display_data"
    }
   ],
   "source": [
    "logBudget.skew()"
   ]
  },
  {
   "cell_type": "markdown",
   "metadata": {},
   "source": [
    "As we can see through the histograms and the new Skewness Values, the transformation has reduced the skew by a considerable amount"
   ]
  },
  {
   "cell_type": "markdown",
   "metadata": {},
   "source": [
    "<b><u> Adding the Transformed Attribute Values to the Dataframe </u></b>"
   ]
  },
  {
   "cell_type": "code",
   "execution_count": null,
   "metadata": {},
   "outputs": [
    {
     "data": {
      "text/html": [
       "<div>\n",
       "<style scoped>\n",
       "    .dataframe tbody tr th:only-of-type {\n",
       "        vertical-align: middle;\n",
       "    }\n",
       "\n",
       "    .dataframe tbody tr th {\n",
       "        vertical-align: top;\n",
       "    }\n",
       "\n",
       "    .dataframe thead th {\n",
       "        text-align: right;\n",
       "    }\n",
       "</style>\n",
       "<table border=\"1\" class=\"dataframe\">\n",
       "  <thead>\n",
       "    <tr style=\"text-align: right;\">\n",
       "      <th></th>\n",
       "      <th>box</th>\n",
       "      <th>G</th>\n",
       "      <th>PG</th>\n",
       "      <th>PG13</th>\n",
       "      <th>budget</th>\n",
       "      <th>starpowr</th>\n",
       "      <th>sequel</th>\n",
       "      <th>action</th>\n",
       "      <th>comedy</th>\n",
       "      <th>animated</th>\n",
       "      <th>horror</th>\n",
       "      <th>addict</th>\n",
       "      <th>cmngsoon</th>\n",
       "      <th>fandango</th>\n",
       "      <th>cntwait3</th>\n",
       "      <th>LogTBox</th>\n",
       "      <th>LogTBudget</th>\n",
       "    </tr>\n",
       "  </thead>\n",
       "  <tbody>\n",
       "    <tr>\n",
       "      <th>0</th>\n",
       "      <td>19167085</td>\n",
       "      <td>0</td>\n",
       "      <td>0</td>\n",
       "      <td>0</td>\n",
       "      <td>28.0</td>\n",
       "      <td>19.83</td>\n",
       "      <td>0</td>\n",
       "      <td>0</td>\n",
       "      <td>1</td>\n",
       "      <td>0</td>\n",
       "      <td>0</td>\n",
       "      <td>7860.500000</td>\n",
       "      <td>10</td>\n",
       "      <td>144</td>\n",
       "      <td>0.49</td>\n",
       "      <td>16.768705</td>\n",
       "      <td>3.332205</td>\n",
       "    </tr>\n",
       "    <tr>\n",
       "      <th>1</th>\n",
       "      <td>63106589</td>\n",
       "      <td>0</td>\n",
       "      <td>1</td>\n",
       "      <td>0</td>\n",
       "      <td>150.0</td>\n",
       "      <td>32.69</td>\n",
       "      <td>1</td>\n",
       "      <td>0</td>\n",
       "      <td>0</td>\n",
       "      <td>1</td>\n",
       "      <td>0</td>\n",
       "      <td>5737.000000</td>\n",
       "      <td>59</td>\n",
       "      <td>468</td>\n",
       "      <td>0.79</td>\n",
       "      <td>17.960336</td>\n",
       "      <td>5.010635</td>\n",
       "    </tr>\n",
       "    <tr>\n",
       "      <th>2</th>\n",
       "      <td>5401605</td>\n",
       "      <td>0</td>\n",
       "      <td>0</td>\n",
       "      <td>0</td>\n",
       "      <td>37.4</td>\n",
       "      <td>15.69</td>\n",
       "      <td>0</td>\n",
       "      <td>0</td>\n",
       "      <td>1</td>\n",
       "      <td>0</td>\n",
       "      <td>0</td>\n",
       "      <td>850.000000</td>\n",
       "      <td>24</td>\n",
       "      <td>198</td>\n",
       "      <td>0.36</td>\n",
       "      <td>15.502207</td>\n",
       "      <td>3.621671</td>\n",
       "    </tr>\n",
       "    <tr>\n",
       "      <th>3</th>\n",
       "      <td>67528882</td>\n",
       "      <td>0</td>\n",
       "      <td>0</td>\n",
       "      <td>1</td>\n",
       "      <td>200.0</td>\n",
       "      <td>23.62</td>\n",
       "      <td>1</td>\n",
       "      <td>1</td>\n",
       "      <td>0</td>\n",
       "      <td>0</td>\n",
       "      <td>0</td>\n",
       "      <td>15326.000000</td>\n",
       "      <td>93</td>\n",
       "      <td>1778</td>\n",
       "      <td>0.76</td>\n",
       "      <td>18.028066</td>\n",
       "      <td>5.298317</td>\n",
       "    </tr>\n",
       "    <tr>\n",
       "      <th>4</th>\n",
       "      <td>26223128</td>\n",
       "      <td>0</td>\n",
       "      <td>1</td>\n",
       "      <td>0</td>\n",
       "      <td>150.0</td>\n",
       "      <td>19.02</td>\n",
       "      <td>0</td>\n",
       "      <td>0</td>\n",
       "      <td>0</td>\n",
       "      <td>1</td>\n",
       "      <td>0</td>\n",
       "      <td>4574.250000</td>\n",
       "      <td>30</td>\n",
       "      <td>1109</td>\n",
       "      <td>0.53</td>\n",
       "      <td>17.082152</td>\n",
       "      <td>5.010635</td>\n",
       "    </tr>\n",
       "    <tr>\n",
       "      <th>...</th>\n",
       "      <td>...</td>\n",
       "      <td>...</td>\n",
       "      <td>...</td>\n",
       "      <td>...</td>\n",
       "      <td>...</td>\n",
       "      <td>...</td>\n",
       "      <td>...</td>\n",
       "      <td>...</td>\n",
       "      <td>...</td>\n",
       "      <td>...</td>\n",
       "      <td>...</td>\n",
       "      <td>...</td>\n",
       "      <td>...</td>\n",
       "      <td>...</td>\n",
       "      <td>...</td>\n",
       "      <td>...</td>\n",
       "      <td>...</td>\n",
       "    </tr>\n",
       "    <tr>\n",
       "      <th>57</th>\n",
       "      <td>59321095</td>\n",
       "      <td>0</td>\n",
       "      <td>1</td>\n",
       "      <td>0</td>\n",
       "      <td>175.0</td>\n",
       "      <td>34.86</td>\n",
       "      <td>0</td>\n",
       "      <td>0</td>\n",
       "      <td>0</td>\n",
       "      <td>1</td>\n",
       "      <td>0</td>\n",
       "      <td>9085.500000</td>\n",
       "      <td>68</td>\n",
       "      <td>647</td>\n",
       "      <td>0.70</td>\n",
       "      <td>17.898476</td>\n",
       "      <td>5.164786</td>\n",
       "    </tr>\n",
       "    <tr>\n",
       "      <th>58</th>\n",
       "      <td>5329240</td>\n",
       "      <td>0</td>\n",
       "      <td>0</td>\n",
       "      <td>1</td>\n",
       "      <td>22.0</td>\n",
       "      <td>4.25</td>\n",
       "      <td>0</td>\n",
       "      <td>1</td>\n",
       "      <td>0</td>\n",
       "      <td>0</td>\n",
       "      <td>0</td>\n",
       "      <td>3186.000000</td>\n",
       "      <td>94</td>\n",
       "      <td>39</td>\n",
       "      <td>0.62</td>\n",
       "      <td>15.488719</td>\n",
       "      <td>3.091042</td>\n",
       "    </tr>\n",
       "    <tr>\n",
       "      <th>59</th>\n",
       "      <td>23004765</td>\n",
       "      <td>0</td>\n",
       "      <td>0</td>\n",
       "      <td>1</td>\n",
       "      <td>16.7</td>\n",
       "      <td>5.96</td>\n",
       "      <td>0</td>\n",
       "      <td>0</td>\n",
       "      <td>0</td>\n",
       "      <td>0</td>\n",
       "      <td>1</td>\n",
       "      <td>17584.000000</td>\n",
       "      <td>58</td>\n",
       "      <td>122</td>\n",
       "      <td>0.53</td>\n",
       "      <td>16.951212</td>\n",
       "      <td>2.815409</td>\n",
       "    </tr>\n",
       "    <tr>\n",
       "      <th>60</th>\n",
       "      <td>70950500</td>\n",
       "      <td>0</td>\n",
       "      <td>0</td>\n",
       "      <td>1</td>\n",
       "      <td>85.0</td>\n",
       "      <td>16.62</td>\n",
       "      <td>1</td>\n",
       "      <td>1</td>\n",
       "      <td>0</td>\n",
       "      <td>0</td>\n",
       "      <td>0</td>\n",
       "      <td>10609.666670</td>\n",
       "      <td>594</td>\n",
       "      <td>849</td>\n",
       "      <td>0.71</td>\n",
       "      <td>18.077493</td>\n",
       "      <td>4.442651</td>\n",
       "    </tr>\n",
       "    <tr>\n",
       "      <th>61</th>\n",
       "      <td>5722039</td>\n",
       "      <td>0</td>\n",
       "      <td>0</td>\n",
       "      <td>0</td>\n",
       "      <td>10.0</td>\n",
       "      <td>16.09</td>\n",
       "      <td>0</td>\n",
       "      <td>0</td>\n",
       "      <td>1</td>\n",
       "      <td>0</td>\n",
       "      <td>0</td>\n",
       "      <td>7760.666667</td>\n",
       "      <td>22</td>\n",
       "      <td>288</td>\n",
       "      <td>0.47</td>\n",
       "      <td>15.559836</td>\n",
       "      <td>2.302585</td>\n",
       "    </tr>\n",
       "  </tbody>\n",
       "</table>\n",
       "<p>62 rows × 17 columns</p>\n",
       "</div>"
      ],
      "text/plain": [
       "         box  G  PG  PG13  budget  starpowr  sequel  action  comedy  animated  \\\n",
       "0   19167085  0   0     0    28.0     19.83       0       0       1         0   \n",
       "1   63106589  0   1     0   150.0     32.69       1       0       0         1   \n",
       "2    5401605  0   0     0    37.4     15.69       0       0       1         0   \n",
       "3   67528882  0   0     1   200.0     23.62       1       1       0         0   \n",
       "4   26223128  0   1     0   150.0     19.02       0       0       0         1   \n",
       "..       ... ..  ..   ...     ...       ...     ...     ...     ...       ...   \n",
       "57  59321095  0   1     0   175.0     34.86       0       0       0         1   \n",
       "58   5329240  0   0     1    22.0      4.25       0       1       0         0   \n",
       "59  23004765  0   0     1    16.7      5.96       0       0       0         0   \n",
       "60  70950500  0   0     1    85.0     16.62       1       1       0         0   \n",
       "61   5722039  0   0     0    10.0     16.09       0       0       1         0   \n",
       "\n",
       "    horror        addict  cmngsoon  fandango  cntwait3    LogTBox  LogTBudget  \n",
       "0        0   7860.500000        10       144      0.49  16.768705    3.332205  \n",
       "1        0   5737.000000        59       468      0.79  17.960336    5.010635  \n",
       "2        0    850.000000        24       198      0.36  15.502207    3.621671  \n",
       "3        0  15326.000000        93      1778      0.76  18.028066    5.298317  \n",
       "4        0   4574.250000        30      1109      0.53  17.082152    5.010635  \n",
       "..     ...           ...       ...       ...       ...        ...         ...  \n",
       "57       0   9085.500000        68       647      0.70  17.898476    5.164786  \n",
       "58       0   3186.000000        94        39      0.62  15.488719    3.091042  \n",
       "59       1  17584.000000        58       122      0.53  16.951212    2.815409  \n",
       "60       0  10609.666670       594       849      0.71  18.077493    4.442651  \n",
       "61       0   7760.666667        22       288      0.47  15.559836    2.302585  \n",
       "\n",
       "[62 rows x 17 columns]"
      ]
     },
     "metadata": {},
     "output_type": "display_data"
    }
   ],
   "source": [
    "df1 = Data.copy()\n",
    "df1['LogTBox'] = logBox\n",
    "df1['LogTBudget'] = logBudget\n",
    "df1"
   ]
  },
  {
   "cell_type": "markdown",
   "metadata": {},
   "source": [
    "<b><u> RUNNING A LINEAR REGRESSION </u></b>\n",
    " * <u>STEP 1 : Identify and Specify the Dependent Variable </u><br>\n",
    "   The Attribute 'box' is chosen to be the dependent variable as the revenues collected by the movie would be entirely dependent on the characteristics of the movie. As the attribute has been transformed to deal with the skewness, the transformed attribute is assigned to be the Dependent Variable. <br> \n"
   ]
  },
  {
   "cell_type": "code",
   "execution_count": null,
   "metadata": {},
   "outputs": [],
   "source": [
    "df2 = df1.copy()\n",
    "y = df2['LogTBox'] "
   ]
  },
  {
   "cell_type": "markdown",
   "metadata": {},
   "source": [
    "* <u>STEP 2 : Setup the Independent Variable </u><br>\n",
    "   Independent Variables are all the other attributes except the \"buzz\" variables"
   ]
  },
  {
   "cell_type": "code",
   "execution_count": null,
   "metadata": {},
   "outputs": [
    {
     "data": {
      "text/html": [
       "<div>\n",
       "<style scoped>\n",
       "    .dataframe tbody tr th:only-of-type {\n",
       "        vertical-align: middle;\n",
       "    }\n",
       "\n",
       "    .dataframe tbody tr th {\n",
       "        vertical-align: top;\n",
       "    }\n",
       "\n",
       "    .dataframe thead th {\n",
       "        text-align: right;\n",
       "    }\n",
       "</style>\n",
       "<table border=\"1\" class=\"dataframe\">\n",
       "  <thead>\n",
       "    <tr style=\"text-align: right;\">\n",
       "      <th></th>\n",
       "      <th>G</th>\n",
       "      <th>PG</th>\n",
       "      <th>PG13</th>\n",
       "      <th>starpowr</th>\n",
       "      <th>sequel</th>\n",
       "      <th>action</th>\n",
       "      <th>comedy</th>\n",
       "      <th>animated</th>\n",
       "      <th>horror</th>\n",
       "      <th>LogTBudget</th>\n",
       "      <th>const</th>\n",
       "    </tr>\n",
       "  </thead>\n",
       "  <tbody>\n",
       "    <tr>\n",
       "      <th>0</th>\n",
       "      <td>0</td>\n",
       "      <td>0</td>\n",
       "      <td>0</td>\n",
       "      <td>19.83</td>\n",
       "      <td>0</td>\n",
       "      <td>0</td>\n",
       "      <td>1</td>\n",
       "      <td>0</td>\n",
       "      <td>0</td>\n",
       "      <td>3.332205</td>\n",
       "      <td>1.0</td>\n",
       "    </tr>\n",
       "    <tr>\n",
       "      <th>1</th>\n",
       "      <td>0</td>\n",
       "      <td>1</td>\n",
       "      <td>0</td>\n",
       "      <td>32.69</td>\n",
       "      <td>1</td>\n",
       "      <td>0</td>\n",
       "      <td>0</td>\n",
       "      <td>1</td>\n",
       "      <td>0</td>\n",
       "      <td>5.010635</td>\n",
       "      <td>1.0</td>\n",
       "    </tr>\n",
       "    <tr>\n",
       "      <th>2</th>\n",
       "      <td>0</td>\n",
       "      <td>0</td>\n",
       "      <td>0</td>\n",
       "      <td>15.69</td>\n",
       "      <td>0</td>\n",
       "      <td>0</td>\n",
       "      <td>1</td>\n",
       "      <td>0</td>\n",
       "      <td>0</td>\n",
       "      <td>3.621671</td>\n",
       "      <td>1.0</td>\n",
       "    </tr>\n",
       "    <tr>\n",
       "      <th>3</th>\n",
       "      <td>0</td>\n",
       "      <td>0</td>\n",
       "      <td>1</td>\n",
       "      <td>23.62</td>\n",
       "      <td>1</td>\n",
       "      <td>1</td>\n",
       "      <td>0</td>\n",
       "      <td>0</td>\n",
       "      <td>0</td>\n",
       "      <td>5.298317</td>\n",
       "      <td>1.0</td>\n",
       "    </tr>\n",
       "    <tr>\n",
       "      <th>4</th>\n",
       "      <td>0</td>\n",
       "      <td>1</td>\n",
       "      <td>0</td>\n",
       "      <td>19.02</td>\n",
       "      <td>0</td>\n",
       "      <td>0</td>\n",
       "      <td>0</td>\n",
       "      <td>1</td>\n",
       "      <td>0</td>\n",
       "      <td>5.010635</td>\n",
       "      <td>1.0</td>\n",
       "    </tr>\n",
       "    <tr>\n",
       "      <th>...</th>\n",
       "      <td>...</td>\n",
       "      <td>...</td>\n",
       "      <td>...</td>\n",
       "      <td>...</td>\n",
       "      <td>...</td>\n",
       "      <td>...</td>\n",
       "      <td>...</td>\n",
       "      <td>...</td>\n",
       "      <td>...</td>\n",
       "      <td>...</td>\n",
       "      <td>...</td>\n",
       "    </tr>\n",
       "    <tr>\n",
       "      <th>57</th>\n",
       "      <td>0</td>\n",
       "      <td>1</td>\n",
       "      <td>0</td>\n",
       "      <td>34.86</td>\n",
       "      <td>0</td>\n",
       "      <td>0</td>\n",
       "      <td>0</td>\n",
       "      <td>1</td>\n",
       "      <td>0</td>\n",
       "      <td>5.164786</td>\n",
       "      <td>1.0</td>\n",
       "    </tr>\n",
       "    <tr>\n",
       "      <th>58</th>\n",
       "      <td>0</td>\n",
       "      <td>0</td>\n",
       "      <td>1</td>\n",
       "      <td>4.25</td>\n",
       "      <td>0</td>\n",
       "      <td>1</td>\n",
       "      <td>0</td>\n",
       "      <td>0</td>\n",
       "      <td>0</td>\n",
       "      <td>3.091042</td>\n",
       "      <td>1.0</td>\n",
       "    </tr>\n",
       "    <tr>\n",
       "      <th>59</th>\n",
       "      <td>0</td>\n",
       "      <td>0</td>\n",
       "      <td>1</td>\n",
       "      <td>5.96</td>\n",
       "      <td>0</td>\n",
       "      <td>0</td>\n",
       "      <td>0</td>\n",
       "      <td>0</td>\n",
       "      <td>1</td>\n",
       "      <td>2.815409</td>\n",
       "      <td>1.0</td>\n",
       "    </tr>\n",
       "    <tr>\n",
       "      <th>60</th>\n",
       "      <td>0</td>\n",
       "      <td>0</td>\n",
       "      <td>1</td>\n",
       "      <td>16.62</td>\n",
       "      <td>1</td>\n",
       "      <td>1</td>\n",
       "      <td>0</td>\n",
       "      <td>0</td>\n",
       "      <td>0</td>\n",
       "      <td>4.442651</td>\n",
       "      <td>1.0</td>\n",
       "    </tr>\n",
       "    <tr>\n",
       "      <th>61</th>\n",
       "      <td>0</td>\n",
       "      <td>0</td>\n",
       "      <td>0</td>\n",
       "      <td>16.09</td>\n",
       "      <td>0</td>\n",
       "      <td>0</td>\n",
       "      <td>1</td>\n",
       "      <td>0</td>\n",
       "      <td>0</td>\n",
       "      <td>2.302585</td>\n",
       "      <td>1.0</td>\n",
       "    </tr>\n",
       "  </tbody>\n",
       "</table>\n",
       "<p>62 rows × 11 columns</p>\n",
       "</div>"
      ],
      "text/plain": [
       "    G  PG  PG13  starpowr  sequel  action  comedy  animated  horror  \\\n",
       "0   0   0     0     19.83       0       0       1         0       0   \n",
       "1   0   1     0     32.69       1       0       0         1       0   \n",
       "2   0   0     0     15.69       0       0       1         0       0   \n",
       "3   0   0     1     23.62       1       1       0         0       0   \n",
       "4   0   1     0     19.02       0       0       0         1       0   \n",
       ".. ..  ..   ...       ...     ...     ...     ...       ...     ...   \n",
       "57  0   1     0     34.86       0       0       0         1       0   \n",
       "58  0   0     1      4.25       0       1       0         0       0   \n",
       "59  0   0     1      5.96       0       0       0         0       1   \n",
       "60  0   0     1     16.62       1       1       0         0       0   \n",
       "61  0   0     0     16.09       0       0       1         0       0   \n",
       "\n",
       "    LogTBudget  const  \n",
       "0     3.332205    1.0  \n",
       "1     5.010635    1.0  \n",
       "2     3.621671    1.0  \n",
       "3     5.298317    1.0  \n",
       "4     5.010635    1.0  \n",
       "..         ...    ...  \n",
       "57    5.164786    1.0  \n",
       "58    3.091042    1.0  \n",
       "59    2.815409    1.0  \n",
       "60    4.442651    1.0  \n",
       "61    2.302585    1.0  \n",
       "\n",
       "[62 rows x 11 columns]"
      ]
     },
     "metadata": {},
     "output_type": "display_data"
    }
   ],
   "source": [
    "# Drop the Skewed Variable, Dependent Variable and the Buzz Variables\n",
    "df2 = df2.drop(['box', 'budget','addict','cmngsoon','fandango','cntwait3','LogTBox'], axis = 1)\n",
    "#add new constant column for the intercept\n",
    "df2['const'] = 1.0\n",
    "df2"
   ]
  },
  {
   "cell_type": "markdown",
   "metadata": {},
   "source": [
    "* <u>STEP 3 : Run the Linear Regression </u><br>\n",
    "  "
   ]
  },
  {
   "cell_type": "code",
   "execution_count": null,
   "metadata": {},
   "outputs": [
    {
     "name": "stdout",
     "output_type": "stream",
     "text": [
      "                            OLS Regression Results                            \n",
      "==============================================================================\n",
      "Dep. Variable:                LogTBox   R-squared:                       0.342\n",
      "Model:                            OLS   Adj. R-squared:                  0.214\n",
      "Method:                 Least Squares   F-statistic:                     2.656\n",
      "Date:                Sat, 10 Sep 2022   Prob (F-statistic):             0.0109\n",
      "Time:                        02:01:07   Log-Likelihood:                -70.832\n",
      "No. Observations:                  62   AIC:                             163.7\n",
      "Df Residuals:                      51   BIC:                             187.1\n",
      "Df Model:                          10                                         \n",
      "Covariance Type:            nonrobust                                         \n",
      "==============================================================================\n",
      "                 coef    std err          t      P>|t|      [0.025      0.975]\n",
      "------------------------------------------------------------------------------\n",
      "G              0.2524      0.692      0.365      0.717      -1.137       1.642\n",
      "PG             0.3297      0.372      0.885      0.380      -0.418       1.077\n",
      "PG13           0.0718      0.272      0.264      0.793      -0.474       0.618\n",
      "starpowr       0.0065      0.016      0.403      0.689      -0.026       0.039\n",
      "sequel         0.6437      0.331      1.942      0.058      -0.022       1.309\n",
      "action        -0.3068      0.344     -0.892      0.377      -0.997       0.384\n",
      "comedy        -0.0385      0.321     -0.120      0.905      -0.682       0.605\n",
      "animated      -0.8203      0.539     -1.523      0.134      -1.902       0.261\n",
      "horror         1.0264      0.440      2.332      0.024       0.143       1.910\n",
      "LogTBudget     0.7091      0.208      3.407      0.001       0.291       1.127\n",
      "const         13.5768      0.688     19.727      0.000      12.195      14.959\n",
      "==============================================================================\n",
      "Omnibus:                        7.632   Durbin-Watson:                   2.080\n",
      "Prob(Omnibus):                  0.022   Jarque-Bera (JB):                7.280\n",
      "Skew:                          -0.626   Prob(JB):                       0.0262\n",
      "Kurtosis:                       4.119   Cond. No.                         153.\n",
      "==============================================================================\n",
      "\n",
      "Notes:\n",
      "[1] Standard Errors assume that the covariance matrix of the errors is correctly specified.\n"
     ]
    }
   ],
   "source": [
    "LinReg1 = sm.OLS(y, df2).fit()\n",
    "print(LinReg1.summary())\n"
   ]
  },
  {
   "cell_type": "markdown",
   "metadata": {},
   "source": [
    "<b><u> $R^{2}$ AND ADJUSTED $R^{2}$ VALUES </u></b><br>\n",
    "\n",
    "$R^{2}$ and Adjusted $R^{2}$ account for the fit of the model; ranging from 0 to 1. Higher the value, better the fit.<br>\n",
    "Adjusted $R^{2}$ tends to be lower than the $R^{2}$ value as it adjusts if a certain term does not contribute to making the model better.<br>\n",
    "* $R^{2}$ Value = 0.342 <br>\n",
    "* Adjusted $R^{2}$ Value = 0.214 <br>\n",
    "\n",
    "\n",
    "This indicates our Linear regression Model does not fit very well. The Independent Variables account for only 20% of the variance in the Box Office Revenue Collected"
   ]
  },
  {
   "cell_type": "markdown",
   "metadata": {},
   "source": [
    "<b><u> VARIABLE SIGNIFICANCE TESTING WITH SIGNIFICANCE AT 0.1 </u></b><br>"
   ]
  },
  {
   "cell_type": "markdown",
   "metadata": {},
   "source": [
    "Assigning the Significance Level as 0.1 and comparing the p-values for each Independent Variable, we find that only SEQUEL, HORROR and BUDGET(Transformed) are significant. Rest of the variables display a p-value greater than 0.1 and are considered insignificant.<br>\n",
    "* p-value of SEQUEL : 0.058\n",
    "* p-value of HORROR : 0.024\n",
    "* p-value of BUDGET : 0.001\n",
    "\n",
    "The t-statistic value is also higher than normal for the Significant Variables mentioned above. \n",
    "\n"
   ]
  },
  {
   "cell_type": "markdown",
   "metadata": {},
   "source": [
    "<b><u> RUNNING A LINEAR REGRESSION </u></b>\n",
    " * <u>STEP 1 : Identify and Specify the Dependent Variable </u><br>\n",
    "   The transformed variable \"box\" is still kept as dependent Variable"
   ]
  },
  {
   "cell_type": "markdown",
   "metadata": {},
   "source": [
    "* <u>STEP 2 : Setup the Independent Variable </u><br>\n",
    "   Assigning only Significant Variables to be the Independent Variables. (Ignoring Buzz and Insignificant Variables)"
   ]
  },
  {
   "cell_type": "code",
   "execution_count": null,
   "metadata": {},
   "outputs": [
    {
     "data": {
      "text/html": [
       "<div>\n",
       "<style scoped>\n",
       "    .dataframe tbody tr th:only-of-type {\n",
       "        vertical-align: middle;\n",
       "    }\n",
       "\n",
       "    .dataframe tbody tr th {\n",
       "        vertical-align: top;\n",
       "    }\n",
       "\n",
       "    .dataframe thead th {\n",
       "        text-align: right;\n",
       "    }\n",
       "</style>\n",
       "<table border=\"1\" class=\"dataframe\">\n",
       "  <thead>\n",
       "    <tr style=\"text-align: right;\">\n",
       "      <th></th>\n",
       "      <th>sequel</th>\n",
       "      <th>horror</th>\n",
       "      <th>LogTBudget</th>\n",
       "      <th>const</th>\n",
       "    </tr>\n",
       "  </thead>\n",
       "  <tbody>\n",
       "    <tr>\n",
       "      <th>0</th>\n",
       "      <td>0</td>\n",
       "      <td>0</td>\n",
       "      <td>3.332205</td>\n",
       "      <td>1.0</td>\n",
       "    </tr>\n",
       "    <tr>\n",
       "      <th>1</th>\n",
       "      <td>1</td>\n",
       "      <td>0</td>\n",
       "      <td>5.010635</td>\n",
       "      <td>1.0</td>\n",
       "    </tr>\n",
       "    <tr>\n",
       "      <th>2</th>\n",
       "      <td>0</td>\n",
       "      <td>0</td>\n",
       "      <td>3.621671</td>\n",
       "      <td>1.0</td>\n",
       "    </tr>\n",
       "    <tr>\n",
       "      <th>3</th>\n",
       "      <td>1</td>\n",
       "      <td>0</td>\n",
       "      <td>5.298317</td>\n",
       "      <td>1.0</td>\n",
       "    </tr>\n",
       "    <tr>\n",
       "      <th>4</th>\n",
       "      <td>0</td>\n",
       "      <td>0</td>\n",
       "      <td>5.010635</td>\n",
       "      <td>1.0</td>\n",
       "    </tr>\n",
       "    <tr>\n",
       "      <th>...</th>\n",
       "      <td>...</td>\n",
       "      <td>...</td>\n",
       "      <td>...</td>\n",
       "      <td>...</td>\n",
       "    </tr>\n",
       "    <tr>\n",
       "      <th>57</th>\n",
       "      <td>0</td>\n",
       "      <td>0</td>\n",
       "      <td>5.164786</td>\n",
       "      <td>1.0</td>\n",
       "    </tr>\n",
       "    <tr>\n",
       "      <th>58</th>\n",
       "      <td>0</td>\n",
       "      <td>0</td>\n",
       "      <td>3.091042</td>\n",
       "      <td>1.0</td>\n",
       "    </tr>\n",
       "    <tr>\n",
       "      <th>59</th>\n",
       "      <td>0</td>\n",
       "      <td>1</td>\n",
       "      <td>2.815409</td>\n",
       "      <td>1.0</td>\n",
       "    </tr>\n",
       "    <tr>\n",
       "      <th>60</th>\n",
       "      <td>1</td>\n",
       "      <td>0</td>\n",
       "      <td>4.442651</td>\n",
       "      <td>1.0</td>\n",
       "    </tr>\n",
       "    <tr>\n",
       "      <th>61</th>\n",
       "      <td>0</td>\n",
       "      <td>0</td>\n",
       "      <td>2.302585</td>\n",
       "      <td>1.0</td>\n",
       "    </tr>\n",
       "  </tbody>\n",
       "</table>\n",
       "<p>62 rows × 4 columns</p>\n",
       "</div>"
      ],
      "text/plain": [
       "    sequel  horror  LogTBudget  const\n",
       "0        0       0    3.332205    1.0\n",
       "1        1       0    5.010635    1.0\n",
       "2        0       0    3.621671    1.0\n",
       "3        1       0    5.298317    1.0\n",
       "4        0       0    5.010635    1.0\n",
       "..     ...     ...         ...    ...\n",
       "57       0       0    5.164786    1.0\n",
       "58       0       0    3.091042    1.0\n",
       "59       0       1    2.815409    1.0\n",
       "60       1       0    4.442651    1.0\n",
       "61       0       0    2.302585    1.0\n",
       "\n",
       "[62 rows x 4 columns]"
      ]
     },
     "metadata": {},
     "output_type": "display_data"
    }
   ],
   "source": [
    "df3 = df2.copy()\n",
    "df3 = df3.drop(['G', 'PG','PG13','starpowr','action','comedy','animated'], axis = 1)\n",
    "df3"
   ]
  },
  {
   "cell_type": "markdown",
   "metadata": {},
   "source": [
    "* <u>STEP 3 : Run the Linear Regression </u><br>\n",
    "  "
   ]
  },
  {
   "cell_type": "code",
   "execution_count": null,
   "metadata": {},
   "outputs": [
    {
     "name": "stdout",
     "output_type": "stream",
     "text": [
      "                            OLS Regression Results                            \n",
      "==============================================================================\n",
      "Dep. Variable:                LogTBox   R-squared:                       0.291\n",
      "Model:                            OLS   Adj. R-squared:                  0.254\n",
      "Method:                 Least Squares   F-statistic:                     7.929\n",
      "Date:                Sat, 10 Sep 2022   Prob (F-statistic):           0.000162\n",
      "Time:                        02:41:29   Log-Likelihood:                -73.175\n",
      "No. Observations:                  62   AIC:                             154.4\n",
      "Df Residuals:                      58   BIC:                             162.9\n",
      "Df Model:                           3                                         \n",
      "Covariance Type:            nonrobust                                         \n",
      "==============================================================================\n",
      "                 coef    std err          t      P>|t|      [0.025      0.975]\n",
      "------------------------------------------------------------------------------\n",
      "sequel         0.4994      0.298      1.676      0.099      -0.097       1.096\n",
      "horror         0.9908      0.385      2.574      0.013       0.220       1.761\n",
      "LogTBudget     0.6568      0.159      4.124      0.000       0.338       0.976\n",
      "const         13.8718      0.611     22.700      0.000      12.649      15.095\n",
      "==============================================================================\n",
      "Omnibus:                       17.577   Durbin-Watson:                   2.065\n",
      "Prob(Omnibus):                  0.000   Jarque-Bera (JB):               28.607\n",
      "Skew:                          -0.969   Prob(JB):                     6.14e-07\n",
      "Kurtosis:                       5.704   Cond. No.                         25.1\n",
      "==============================================================================\n",
      "\n",
      "Notes:\n",
      "[1] Standard Errors assume that the covariance matrix of the errors is correctly specified.\n"
     ]
    }
   ],
   "source": [
    "LinReg2 = sm.OLS(y, df3).fit()\n",
    "print(LinReg2.summary())\n"
   ]
  },
  {
   "cell_type": "markdown",
   "metadata": {},
   "source": [
    "<b><u> $R^{2}$ AND ADJUSTED $R^{2}$ VALUES </u></b><br>\n",
    "\n",
    "While the $R^{2}$ value decreased, the Adjusted $R^{2}$ values increased in comparison to the first Linear Regression <br>\n",
    "* $R^{2}$ Value = 0.291 <br>\n",
    "* Adjusted $R^{2}$ Value = 0.254 <br>\n",
    "\n",
    "\n",
    "This indicates newest Linear regression Model fits better than the previous one; albeit not very well. The SIGNIFICANT Independent Variables now account for only 25% of the variance in the Box Office Revenue Collected"
   ]
  },
  {
   "cell_type": "markdown",
   "metadata": {},
   "source": [
    "<b><u> VARIABLE SIGNIFICANCE TESTING WITH SIGNIFICANCE AT 0.1 </u></b><br>"
   ]
  },
  {
   "cell_type": "markdown",
   "metadata": {},
   "source": [
    "Assigning the Significance Level as 0.1 and comparing the p-values for each SIGNIFICANT Independent Variable, we find that SEQUEL, HORROR and BUDGET(Transformed) are STILL significant. Although the p-value for for SEQUEL had increased dramatically and is VERY CLOSE to the Significance Level. If rounded off it may be considered insignificant. HORROR and BUDGET are still Significant. <br>\n",
    "* p-value of SEQUEL : 0.099\n",
    "* p-value of HORROR : 0.013\n",
    "* p-value of BUDGET : 0.000\n",
    "\n",
    "The T-statistic value also displays the same behaviour. It has fallen for SEQUEL but has increased for HORROR and BUDGET. \n",
    "\n"
   ]
  },
  {
   "cell_type": "markdown",
   "metadata": {},
   "source": [
    "<b><u> HISTOGRAM AND SKEWNESS FOR ADDICT </u></b>\n",
    "\n",
    " * <b><u> Histogram </u></b>\n"
   ]
  },
  {
   "cell_type": "code",
   "execution_count": null,
   "metadata": {},
   "outputs": [
    {
     "data": {
      "text/plain": [
       "<matplotlib.legend.Legend at 0x26ac5667b50>"
      ]
     },
     "metadata": {},
     "output_type": "display_data"
    },
    {
     "data": {
      "image/png": "[encoded data removed]",
      "text/plain": [
       "<Figure size 432x288 with 1 Axes>"
      ]
     },
     "metadata": {},
     "output_type": "display_data"
    }
   ],
   "source": [
    "plt.hist(DataSet['addict'], color = 'lightblue')\n",
    "plt.axvline(DataSet['addict'].mean(), color = 'green', label = 'Mean')\n",
    "plt.axvline(DataSet['addict'].median(), color = 'blue', label = 'Median', linestyle = 'dashdot')\n",
    "plt.axvline(DataSet['addict'].mode()[0], color = 'red', label = 'Mode')\n",
    "plt.xlabel('ADDICT')\n",
    "plt.ylabel('Frequency')\n",
    "plt.title(\"Histogram for ADDICT\")\n",
    "plt.legend()"
   ]
  },
  {
   "cell_type": "markdown",
   "metadata": {},
   "source": [
    " * <b><u> Skewness </u></b>"
   ]
  },
  {
   "cell_type": "code",
   "execution_count": null,
   "metadata": {},
   "outputs": [
    {
     "data": {
      "text/plain": [
       "3.317153660492401"
      ]
     },
     "metadata": {},
     "output_type": "display_data"
    }
   ],
   "source": [
    "DataSet['addict'].skew()"
   ]
  },
  {
   "cell_type": "markdown",
   "metadata": {},
   "source": [
    "* Mode < Median < Mean\n",
    "* Through the Histogram and the high POSITIVE SKEWNESS Value returned throught the skew() function, we can conclude that the attribute \"addict\" is Highly RIGHT SKEWED\n",
    "* The \"addict\" attribute will need a log transformation"
   ]
  },
  {
   "cell_type": "markdown",
   "metadata": {},
   "source": [
    "<b><u> HISTOGRAM AND SKEWNESS FOR CMNGSOON </u></b>\n",
    "\n",
    " * <b><u> Histogram </u></b>\n"
   ]
  },
  {
   "cell_type": "code",
   "execution_count": null,
   "metadata": {},
   "outputs": [
    {
     "data": {
      "text/plain": [
       "<matplotlib.legend.Legend at 0x26acfbfee50>"
      ]
     },
     "metadata": {},
     "output_type": "display_data"
    },
    {
     "data": {
      "image/png": "[encoded data removed]",
      "text/plain": [
       "<Figure size 432x288 with 1 Axes>"
      ]
     },
     "metadata": {},
     "output_type": "display_data"
    }
   ],
   "source": [
    "plt.hist(DataSet['cmngsoon'], color = 'lightblue')\n",
    "plt.axvline(DataSet['cmngsoon'].mean(), color = 'green', label = 'Mean')\n",
    "plt.axvline(DataSet['cmngsoon'].median(), color = 'blue', label = 'Median', linestyle = 'dashdot')\n",
    "plt.axvline(DataSet['cmngsoon'].mode()[0], color = 'red', label = 'Mode', linestyle = \"solid\")\n",
    "plt.xlabel('Cmngsoon')\n",
    "plt.ylabel('Frequency')\n",
    "plt.title(\"Histogram for CMNGSOON\")\n",
    "plt.legend()"
   ]
  },
  {
   "cell_type": "markdown",
   "metadata": {},
   "source": [
    " * <b><u> Skewness </u></b>"
   ]
  },
  {
   "cell_type": "code",
   "execution_count": null,
   "metadata": {},
   "outputs": [
    {
     "data": {
      "text/plain": [
       "2.852279136196298"
      ]
     },
     "metadata": {},
     "output_type": "display_data"
    }
   ],
   "source": [
    "DataSet['cmngsoon'].skew()"
   ]
  },
  {
   "cell_type": "markdown",
   "metadata": {},
   "source": [
    "* Mode < Median < Mean\n",
    "* Through the Histogram and the high POSITIVE SKEWNESS Value returned throught the skew() function, we can conclude that the attribute \"cmngsoon\" is Highly RIGHT SKEWED\n",
    "* The \"cmngsoon\" attribute will need a log transformation"
   ]
  },
  {
   "cell_type": "markdown",
   "metadata": {},
   "source": [
    "<b><u> HISTOGRAM AND SKEWNESS FOR FANDANGO </u></b>\n",
    "\n",
    " * <b><u> Histogram </u></b>\n"
   ]
  },
  {
   "cell_type": "code",
   "execution_count": null,
   "metadata": {},
   "outputs": [
    {
     "data": {
      "text/plain": [
       "<matplotlib.legend.Legend at 0x26ad0daa7c0>"
      ]
     },
     "metadata": {},
     "output_type": "display_data"
    },
    {
     "data": {
      "image/png": "[encoded data removed]",
      "text/plain": [
       "<Figure size 432x288 with 1 Axes>"
      ]
     },
     "metadata": {},
     "output_type": "display_data"
    }
   ],
   "source": [
    "plt.hist(DataSet['fandango'], color = 'lightblue')\n",
    "plt.axvline(DataSet['fandango'].mean(), color = 'green', label = 'Mean')\n",
    "plt.axvline(DataSet['fandango'].median(), color = 'blue', label = 'Median', linestyle = 'dashdot')\n",
    "plt.axvline(DataSet['fandango'].mode()[0], color = 'red', label = 'Mode', linestyle = \"solid\")\n",
    "plt.xlabel('Fandango')\n",
    "plt.ylabel('Frequency')\n",
    "plt.title(\"Histogram for FANDANGO\")\n",
    "plt.legend()"
   ]
  },
  {
   "cell_type": "markdown",
   "metadata": {},
   "source": [
    " * <b><u> Skewness </u></b>"
   ]
  },
  {
   "cell_type": "code",
   "execution_count": null,
   "metadata": {},
   "outputs": [
    {
     "data": {
      "text/plain": [
       "1.403301611291732"
      ]
     },
     "metadata": {},
     "output_type": "display_data"
    }
   ],
   "source": [
    "DataSet['fandango'].skew()"
   ]
  },
  {
   "cell_type": "markdown",
   "metadata": {},
   "source": [
    "* Mode < Median < Mean\n",
    "* Through the Histogram and the high POSITIVE SKEWNESS Value returned throught the skew() function, we can conclude that the attribute \"fandango\" is Highly RIGHT SKEWED\n",
    "* The \"fandango\" attribute will need a log transformation"
   ]
  },
  {
   "cell_type": "markdown",
   "metadata": {},
   "source": [
    "<b><u> HISTOGRAM AND SKEWNESS FOR CNTWAIT3 </u></b>\n",
    "\n",
    " * <b><u> Histogram </u></b>\n"
   ]
  },
  {
   "cell_type": "code",
   "execution_count": null,
   "metadata": {},
   "outputs": [
    {
     "data": {
      "text/plain": [
       "<matplotlib.legend.Legend at 0x26ad0e37430>"
      ]
     },
     "metadata": {},
     "output_type": "display_data"
    },
    {
     "data": {
      "image/png": "[encoded data removed]",
      "text/plain": [
       "<Figure size 432x288 with 1 Axes>"
      ]
     },
     "metadata": {},
     "output_type": "display_data"
    }
   ],
   "source": [
    "plt.hist(DataSet['cntwait3'], color = 'lightblue')\n",
    "plt.axvline(DataSet['cntwait3'].mean(), color = 'green', label = 'Mean', linestyle = \"dashdot\")\n",
    "plt.axvline(DataSet['cntwait3'].median(), color = 'blue', label = 'Median', linestyle = 'dotted')\n",
    "plt.axvline(DataSet['cntwait3'].mode()[0], color = 'red', label = 'Mode')\n",
    "plt.xlabel('CntWait3')\n",
    "plt.ylabel('Frequency')\n",
    "plt.title(\"Histogram for CNTWAIT3\")\n",
    "plt.legend()"
   ]
  },
  {
   "cell_type": "markdown",
   "metadata": {},
   "source": [
    " * <b><u> Skewness </u></b>"
   ]
  },
  {
   "cell_type": "code",
   "execution_count": null,
   "metadata": {},
   "outputs": [
    {
     "data": {
      "text/plain": [
       "-0.028591728433031986"
      ]
     },
     "metadata": {},
     "output_type": "display_data"
    }
   ],
   "source": [
    "DataSet['cntwait3'].skew()"
   ]
  },
  {
   "cell_type": "markdown",
   "metadata": {},
   "source": [
    "* Median = Mean < Mode\n",
    "* Through the Histogram and the low NEGATIVE SKEWNESS Value returned throught the skew() function, we can conclude that the attribute \"cntwait3\" is mostly NORMALLY DISTRIBUTED\n",
    "* The \"cntwait3\" attribute will NOT need a log transformation"
   ]
  },
  {
   "cell_type": "markdown",
   "metadata": {},
   "source": [
    "<b><u> LOG TRANSFORMATION OF ADDICT AND CMNGSOON </u></b>\n"
   ]
  },
  {
   "cell_type": "code",
   "execution_count": null,
   "metadata": {},
   "outputs": [
    {
     "data": {
      "image/png": "[encoded data removed]",
      "text/plain": [
       "<Figure size 432x288 with 1 Axes>"
      ]
     },
     "metadata": {},
     "output_type": "display_data"
    }
   ],
   "source": [
    "logAdd = np.log(Data['addict'])\n",
    "plt.hist(logAdd)\n",
    "plt.ylabel('Frequency')\n",
    "plt.title(\"Graph of Log Transformation of ADDICT\")\n",
    "plt.show()"
   ]
  },
  {
   "cell_type": "code",
   "execution_count": null,
   "metadata": {},
   "outputs": [
    {
     "data": {
      "text/plain": [
       "0.3310231486342384"
      ]
     },
     "metadata": {},
     "output_type": "display_data"
    }
   ],
   "source": [
    "logAdd.skew()"
   ]
  },
  {
   "cell_type": "code",
   "execution_count": null,
   "metadata": {},
   "outputs": [
    {
     "data": {
      "image/png": "[encoded data removed]",
      "text/plain": [
       "<Figure size 432x288 with 1 Axes>"
      ]
     },
     "metadata": {},
     "output_type": "display_data"
    }
   ],
   "source": [
    "logCmng = np.log(Data['cmngsoon'])\n",
    "plt.hist(logCmng)\n",
    "plt.ylabel('Frequency')\n",
    "plt.title(\"Graph of Log Transformation of CMNGSOON\")\n",
    "plt.show()"
   ]
  },
  {
   "cell_type": "code",
   "execution_count": null,
   "metadata": {},
   "outputs": [
    {
     "data": {
      "text/plain": [
       "0.23785659802955925"
      ]
     },
     "metadata": {},
     "output_type": "display_data"
    }
   ],
   "source": [
    "logCmng.skew()"
   ]
  },
  {
   "cell_type": "code",
   "execution_count": null,
   "metadata": {},
   "outputs": [
    {
     "data": {
      "image/png": "[encoded data removed]",
      "text/plain": [
       "<Figure size 432x288 with 1 Axes>"
      ]
     },
     "metadata": {},
     "output_type": "display_data"
    }
   ],
   "source": [
    "logFan = np.log(Data['fandango'])\n",
    "plt.hist(logFan)\n",
    "plt.ylabel('Frequency')\n",
    "plt.title(\"Graph of Log Transformation of FANDANGO\")\n",
    "plt.show()"
   ]
  },
  {
   "cell_type": "code",
   "execution_count": null,
   "metadata": {},
   "outputs": [
    {
     "data": {
      "text/plain": [
       "-0.8509308409971035"
      ]
     },
     "metadata": {},
     "output_type": "display_data"
    }
   ],
   "source": [
    "logFan.skew()"
   ]
  },
  {
   "cell_type": "markdown",
   "metadata": {},
   "source": [
    "As we can see through the histograms and the new Skewness Values, the transformation has reduced the skew by a considerable amount"
   ]
  },
  {
   "cell_type": "markdown",
   "metadata": {},
   "source": [
    "<b><u> Adding the Transformed Attribute Values to the Dataframe </u></b>"
   ]
  },
  {
   "cell_type": "code",
   "execution_count": null,
   "metadata": {},
   "outputs": [
    {
     "data": {
      "text/html": [
       "<div>\n",
       "<style scoped>\n",
       "    .dataframe tbody tr th:only-of-type {\n",
       "        vertical-align: middle;\n",
       "    }\n",
       "\n",
       "    .dataframe tbody tr th {\n",
       "        vertical-align: top;\n",
       "    }\n",
       "\n",
       "    .dataframe thead th {\n",
       "        text-align: right;\n",
       "    }\n",
       "</style>\n",
       "<table border=\"1\" class=\"dataframe\">\n",
       "  <thead>\n",
       "    <tr style=\"text-align: right;\">\n",
       "      <th></th>\n",
       "      <th>box</th>\n",
       "      <th>G</th>\n",
       "      <th>PG</th>\n",
       "      <th>PG13</th>\n",
       "      <th>budget</th>\n",
       "      <th>starpowr</th>\n",
       "      <th>sequel</th>\n",
       "      <th>action</th>\n",
       "      <th>comedy</th>\n",
       "      <th>animated</th>\n",
       "      <th>horror</th>\n",
       "      <th>addict</th>\n",
       "      <th>cmngsoon</th>\n",
       "      <th>fandango</th>\n",
       "      <th>cntwait3</th>\n",
       "      <th>LogTBox</th>\n",
       "      <th>LogTBudget</th>\n",
       "    </tr>\n",
       "  </thead>\n",
       "  <tbody>\n",
       "    <tr>\n",
       "      <th>0</th>\n",
       "      <td>19167085</td>\n",
       "      <td>0</td>\n",
       "      <td>0</td>\n",
       "      <td>0</td>\n",
       "      <td>28.0</td>\n",
       "      <td>19.83</td>\n",
       "      <td>0</td>\n",
       "      <td>0</td>\n",
       "      <td>1</td>\n",
       "      <td>0</td>\n",
       "      <td>0</td>\n",
       "      <td>7860.500000</td>\n",
       "      <td>10</td>\n",
       "      <td>144</td>\n",
       "      <td>0.49</td>\n",
       "      <td>16.768705</td>\n",
       "      <td>3.332205</td>\n",
       "    </tr>\n",
       "    <tr>\n",
       "      <th>1</th>\n",
       "      <td>63106589</td>\n",
       "      <td>0</td>\n",
       "      <td>1</td>\n",
       "      <td>0</td>\n",
       "      <td>150.0</td>\n",
       "      <td>32.69</td>\n",
       "      <td>1</td>\n",
       "      <td>0</td>\n",
       "      <td>0</td>\n",
       "      <td>1</td>\n",
       "      <td>0</td>\n",
       "      <td>5737.000000</td>\n",
       "      <td>59</td>\n",
       "      <td>468</td>\n",
       "      <td>0.79</td>\n",
       "      <td>17.960336</td>\n",
       "      <td>5.010635</td>\n",
       "    </tr>\n",
       "    <tr>\n",
       "      <th>2</th>\n",
       "      <td>5401605</td>\n",
       "      <td>0</td>\n",
       "      <td>0</td>\n",
       "      <td>0</td>\n",
       "      <td>37.4</td>\n",
       "      <td>15.69</td>\n",
       "      <td>0</td>\n",
       "      <td>0</td>\n",
       "      <td>1</td>\n",
       "      <td>0</td>\n",
       "      <td>0</td>\n",
       "      <td>850.000000</td>\n",
       "      <td>24</td>\n",
       "      <td>198</td>\n",
       "      <td>0.36</td>\n",
       "      <td>15.502207</td>\n",
       "      <td>3.621671</td>\n",
       "    </tr>\n",
       "    <tr>\n",
       "      <th>3</th>\n",
       "      <td>67528882</td>\n",
       "      <td>0</td>\n",
       "      <td>0</td>\n",
       "      <td>1</td>\n",
       "      <td>200.0</td>\n",
       "      <td>23.62</td>\n",
       "      <td>1</td>\n",
       "      <td>1</td>\n",
       "      <td>0</td>\n",
       "      <td>0</td>\n",
       "      <td>0</td>\n",
       "      <td>15326.000000</td>\n",
       "      <td>93</td>\n",
       "      <td>1778</td>\n",
       "      <td>0.76</td>\n",
       "      <td>18.028066</td>\n",
       "      <td>5.298317</td>\n",
       "    </tr>\n",
       "    <tr>\n",
       "      <th>4</th>\n",
       "      <td>26223128</td>\n",
       "      <td>0</td>\n",
       "      <td>1</td>\n",
       "      <td>0</td>\n",
       "      <td>150.0</td>\n",
       "      <td>19.02</td>\n",
       "      <td>0</td>\n",
       "      <td>0</td>\n",
       "      <td>0</td>\n",
       "      <td>1</td>\n",
       "      <td>0</td>\n",
       "      <td>4574.250000</td>\n",
       "      <td>30</td>\n",
       "      <td>1109</td>\n",
       "      <td>0.53</td>\n",
       "      <td>17.082152</td>\n",
       "      <td>5.010635</td>\n",
       "    </tr>\n",
       "    <tr>\n",
       "      <th>...</th>\n",
       "      <td>...</td>\n",
       "      <td>...</td>\n",
       "      <td>...</td>\n",
       "      <td>...</td>\n",
       "      <td>...</td>\n",
       "      <td>...</td>\n",
       "      <td>...</td>\n",
       "      <td>...</td>\n",
       "      <td>...</td>\n",
       "      <td>...</td>\n",
       "      <td>...</td>\n",
       "      <td>...</td>\n",
       "      <td>...</td>\n",
       "      <td>...</td>\n",
       "      <td>...</td>\n",
       "      <td>...</td>\n",
       "      <td>...</td>\n",
       "    </tr>\n",
       "    <tr>\n",
       "      <th>57</th>\n",
       "      <td>59321095</td>\n",
       "      <td>0</td>\n",
       "      <td>1</td>\n",
       "      <td>0</td>\n",
       "      <td>175.0</td>\n",
       "      <td>34.86</td>\n",
       "      <td>0</td>\n",
       "      <td>0</td>\n",
       "      <td>0</td>\n",
       "      <td>1</td>\n",
       "      <td>0</td>\n",
       "      <td>9085.500000</td>\n",
       "      <td>68</td>\n",
       "      <td>647</td>\n",
       "      <td>0.70</td>\n",
       "      <td>17.898476</td>\n",
       "      <td>5.164786</td>\n",
       "    </tr>\n",
       "    <tr>\n",
       "      <th>58</th>\n",
       "      <td>5329240</td>\n",
       "      <td>0</td>\n",
       "      <td>0</td>\n",
       "      <td>1</td>\n",
       "      <td>22.0</td>\n",
       "      <td>4.25</td>\n",
       "      <td>0</td>\n",
       "      <td>1</td>\n",
       "      <td>0</td>\n",
       "      <td>0</td>\n",
       "      <td>0</td>\n",
       "      <td>3186.000000</td>\n",
       "      <td>94</td>\n",
       "      <td>39</td>\n",
       "      <td>0.62</td>\n",
       "      <td>15.488719</td>\n",
       "      <td>3.091042</td>\n",
       "    </tr>\n",
       "    <tr>\n",
       "      <th>59</th>\n",
       "      <td>23004765</td>\n",
       "      <td>0</td>\n",
       "      <td>0</td>\n",
       "      <td>1</td>\n",
       "      <td>16.7</td>\n",
       "      <td>5.96</td>\n",
       "      <td>0</td>\n",
       "      <td>0</td>\n",
       "      <td>0</td>\n",
       "      <td>0</td>\n",
       "      <td>1</td>\n",
       "      <td>17584.000000</td>\n",
       "      <td>58</td>\n",
       "      <td>122</td>\n",
       "      <td>0.53</td>\n",
       "      <td>16.951212</td>\n",
       "      <td>2.815409</td>\n",
       "    </tr>\n",
       "    <tr>\n",
       "      <th>60</th>\n",
       "      <td>70950500</td>\n",
       "      <td>0</td>\n",
       "      <td>0</td>\n",
       "      <td>1</td>\n",
       "      <td>85.0</td>\n",
       "      <td>16.62</td>\n",
       "      <td>1</td>\n",
       "      <td>1</td>\n",
       "      <td>0</td>\n",
       "      <td>0</td>\n",
       "      <td>0</td>\n",
       "      <td>10609.666670</td>\n",
       "      <td>594</td>\n",
       "      <td>849</td>\n",
       "      <td>0.71</td>\n",
       "      <td>18.077493</td>\n",
       "      <td>4.442651</td>\n",
       "    </tr>\n",
       "    <tr>\n",
       "      <th>61</th>\n",
       "      <td>5722039</td>\n",
       "      <td>0</td>\n",
       "      <td>0</td>\n",
       "      <td>0</td>\n",
       "      <td>10.0</td>\n",
       "      <td>16.09</td>\n",
       "      <td>0</td>\n",
       "      <td>0</td>\n",
       "      <td>1</td>\n",
       "      <td>0</td>\n",
       "      <td>0</td>\n",
       "      <td>7760.666667</td>\n",
       "      <td>22</td>\n",
       "      <td>288</td>\n",
       "      <td>0.47</td>\n",
       "      <td>15.559836</td>\n",
       "      <td>2.302585</td>\n",
       "    </tr>\n",
       "  </tbody>\n",
       "</table>\n",
       "<p>62 rows × 17 columns</p>\n",
       "</div>"
      ],
      "text/plain": [
       "         box  G  PG  PG13  budget  starpowr  sequel  action  comedy  animated  \\\n",
       "0   19167085  0   0     0    28.0     19.83       0       0       1         0   \n",
       "1   63106589  0   1     0   150.0     32.69       1       0       0         1   \n",
       "2    5401605  0   0     0    37.4     15.69       0       0       1         0   \n",
       "3   67528882  0   0     1   200.0     23.62       1       1       0         0   \n",
       "4   26223128  0   1     0   150.0     19.02       0       0       0         1   \n",
       "..       ... ..  ..   ...     ...       ...     ...     ...     ...       ...   \n",
       "57  59321095  0   1     0   175.0     34.86       0       0       0         1   \n",
       "58   5329240  0   0     1    22.0      4.25       0       1       0         0   \n",
       "59  23004765  0   0     1    16.7      5.96       0       0       0         0   \n",
       "60  70950500  0   0     1    85.0     16.62       1       1       0         0   \n",
       "61   5722039  0   0     0    10.0     16.09       0       0       1         0   \n",
       "\n",
       "    horror        addict  cmngsoon  fandango  cntwait3    LogTBox  LogTBudget  \n",
       "0        0   7860.500000        10       144      0.49  16.768705    3.332205  \n",
       "1        0   5737.000000        59       468      0.79  17.960336    5.010635  \n",
       "2        0    850.000000        24       198      0.36  15.502207    3.621671  \n",
       "3        0  15326.000000        93      1778      0.76  18.028066    5.298317  \n",
       "4        0   4574.250000        30      1109      0.53  17.082152    5.010635  \n",
       "..     ...           ...       ...       ...       ...        ...         ...  \n",
       "57       0   9085.500000        68       647      0.70  17.898476    5.164786  \n",
       "58       0   3186.000000        94        39      0.62  15.488719    3.091042  \n",
       "59       1  17584.000000        58       122      0.53  16.951212    2.815409  \n",
       "60       0  10609.666670       594       849      0.71  18.077493    4.442651  \n",
       "61       0   7760.666667        22       288      0.47  15.559836    2.302585  \n",
       "\n",
       "[62 rows x 17 columns]"
      ]
     },
     "metadata": {},
     "output_type": "display_data"
    }
   ],
   "source": [
    "df1 = Data.copy()\n",
    "df1['LogTBox'] = logBox\n",
    "df1['LogTBudget'] = logBudget\n",
    "df1"
   ]
  },
  {
   "cell_type": "markdown",
   "metadata": {},
   "source": [
    "<b><u> RUNNING A LINEAR REGRESSION </u></b>\n",
    " * <u>STEP 1 : Identify and Specify the Dependent Variable </u><br>\n",
    "   The Attribute 'box' is still the dependent Variable. As the attribute has been transformed to deal with the skewness, the transformed attribute is assigned to be the Dependent Variable. <br> \n"
   ]
  },
  {
   "cell_type": "code",
   "execution_count": null,
   "metadata": {},
   "outputs": [],
   "source": [
    "y = df1['LogTBox'] "
   ]
  },
  {
   "cell_type": "markdown",
   "metadata": {},
   "source": [
    "* <u>STEP 2 : Setup the Independent Variable </u><br>\n",
    "   Independent Variables are all the other attributes including the transformed and untransformed \"buzz\" variables"
   ]
  },
  {
   "cell_type": "code",
   "execution_count": null,
   "metadata": {},
   "outputs": [
    {
     "data": {
      "text/html": [
       "<div>\n",
       "<style scoped>\n",
       "    .dataframe tbody tr th:only-of-type {\n",
       "        vertical-align: middle;\n",
       "    }\n",
       "\n",
       "    .dataframe tbody tr th {\n",
       "        vertical-align: top;\n",
       "    }\n",
       "\n",
       "    .dataframe thead th {\n",
       "        text-align: right;\n",
       "    }\n",
       "</style>\n",
       "<table border=\"1\" class=\"dataframe\">\n",
       "  <thead>\n",
       "    <tr style=\"text-align: right;\">\n",
       "      <th></th>\n",
       "      <th>G</th>\n",
       "      <th>PG</th>\n",
       "      <th>PG13</th>\n",
       "      <th>starpowr</th>\n",
       "      <th>sequel</th>\n",
       "      <th>action</th>\n",
       "      <th>comedy</th>\n",
       "      <th>animated</th>\n",
       "      <th>horror</th>\n",
       "      <th>LogTBudget</th>\n",
       "      <th>const</th>\n",
       "      <th>LogTAddict</th>\n",
       "      <th>LogTCmngS</th>\n",
       "      <th>LogTFandango</th>\n",
       "      <th>cntwait3</th>\n",
       "    </tr>\n",
       "  </thead>\n",
       "  <tbody>\n",
       "    <tr>\n",
       "      <th>0</th>\n",
       "      <td>0</td>\n",
       "      <td>0</td>\n",
       "      <td>0</td>\n",
       "      <td>19.83</td>\n",
       "      <td>0</td>\n",
       "      <td>0</td>\n",
       "      <td>1</td>\n",
       "      <td>0</td>\n",
       "      <td>0</td>\n",
       "      <td>3.332205</td>\n",
       "      <td>1.0</td>\n",
       "      <td>8.969605</td>\n",
       "      <td>2.302585</td>\n",
       "      <td>4.969813</td>\n",
       "      <td>0.49</td>\n",
       "    </tr>\n",
       "    <tr>\n",
       "      <th>1</th>\n",
       "      <td>0</td>\n",
       "      <td>1</td>\n",
       "      <td>0</td>\n",
       "      <td>32.69</td>\n",
       "      <td>1</td>\n",
       "      <td>0</td>\n",
       "      <td>0</td>\n",
       "      <td>1</td>\n",
       "      <td>0</td>\n",
       "      <td>5.010635</td>\n",
       "      <td>1.0</td>\n",
       "      <td>8.654692</td>\n",
       "      <td>4.077537</td>\n",
       "      <td>6.148468</td>\n",
       "      <td>0.79</td>\n",
       "    </tr>\n",
       "    <tr>\n",
       "      <th>2</th>\n",
       "      <td>0</td>\n",
       "      <td>0</td>\n",
       "      <td>0</td>\n",
       "      <td>15.69</td>\n",
       "      <td>0</td>\n",
       "      <td>0</td>\n",
       "      <td>1</td>\n",
       "      <td>0</td>\n",
       "      <td>0</td>\n",
       "      <td>3.621671</td>\n",
       "      <td>1.0</td>\n",
       "      <td>6.745236</td>\n",
       "      <td>3.178054</td>\n",
       "      <td>5.288267</td>\n",
       "      <td>0.36</td>\n",
       "    </tr>\n",
       "    <tr>\n",
       "      <th>3</th>\n",
       "      <td>0</td>\n",
       "      <td>0</td>\n",
       "      <td>1</td>\n",
       "      <td>23.62</td>\n",
       "      <td>1</td>\n",
       "      <td>1</td>\n",
       "      <td>0</td>\n",
       "      <td>0</td>\n",
       "      <td>0</td>\n",
       "      <td>5.298317</td>\n",
       "      <td>1.0</td>\n",
       "      <td>9.637306</td>\n",
       "      <td>4.532599</td>\n",
       "      <td>7.483244</td>\n",
       "      <td>0.76</td>\n",
       "    </tr>\n",
       "    <tr>\n",
       "      <th>4</th>\n",
       "      <td>0</td>\n",
       "      <td>1</td>\n",
       "      <td>0</td>\n",
       "      <td>19.02</td>\n",
       "      <td>0</td>\n",
       "      <td>0</td>\n",
       "      <td>0</td>\n",
       "      <td>1</td>\n",
       "      <td>0</td>\n",
       "      <td>5.010635</td>\n",
       "      <td>1.0</td>\n",
       "      <td>8.428198</td>\n",
       "      <td>3.401197</td>\n",
       "      <td>7.011214</td>\n",
       "      <td>0.53</td>\n",
       "    </tr>\n",
       "    <tr>\n",
       "      <th>...</th>\n",
       "      <td>...</td>\n",
       "      <td>...</td>\n",
       "      <td>...</td>\n",
       "      <td>...</td>\n",
       "      <td>...</td>\n",
       "      <td>...</td>\n",
       "      <td>...</td>\n",
       "      <td>...</td>\n",
       "      <td>...</td>\n",
       "      <td>...</td>\n",
       "      <td>...</td>\n",
       "      <td>...</td>\n",
       "      <td>...</td>\n",
       "      <td>...</td>\n",
       "      <td>...</td>\n",
       "    </tr>\n",
       "    <tr>\n",
       "      <th>57</th>\n",
       "      <td>0</td>\n",
       "      <td>1</td>\n",
       "      <td>0</td>\n",
       "      <td>34.86</td>\n",
       "      <td>0</td>\n",
       "      <td>0</td>\n",
       "      <td>0</td>\n",
       "      <td>1</td>\n",
       "      <td>0</td>\n",
       "      <td>5.164786</td>\n",
       "      <td>1.0</td>\n",
       "      <td>9.114435</td>\n",
       "      <td>4.219508</td>\n",
       "      <td>6.472346</td>\n",
       "      <td>0.70</td>\n",
       "    </tr>\n",
       "    <tr>\n",
       "      <th>58</th>\n",
       "      <td>0</td>\n",
       "      <td>0</td>\n",
       "      <td>1</td>\n",
       "      <td>4.25</td>\n",
       "      <td>0</td>\n",
       "      <td>1</td>\n",
       "      <td>0</td>\n",
       "      <td>0</td>\n",
       "      <td>0</td>\n",
       "      <td>3.091042</td>\n",
       "      <td>1.0</td>\n",
       "      <td>8.066521</td>\n",
       "      <td>4.543295</td>\n",
       "      <td>3.663562</td>\n",
       "      <td>0.62</td>\n",
       "    </tr>\n",
       "    <tr>\n",
       "      <th>59</th>\n",
       "      <td>0</td>\n",
       "      <td>0</td>\n",
       "      <td>1</td>\n",
       "      <td>5.96</td>\n",
       "      <td>0</td>\n",
       "      <td>0</td>\n",
       "      <td>0</td>\n",
       "      <td>0</td>\n",
       "      <td>1</td>\n",
       "      <td>2.815409</td>\n",
       "      <td>1.0</td>\n",
       "      <td>9.774745</td>\n",
       "      <td>4.060443</td>\n",
       "      <td>4.804021</td>\n",
       "      <td>0.53</td>\n",
       "    </tr>\n",
       "    <tr>\n",
       "      <th>60</th>\n",
       "      <td>0</td>\n",
       "      <td>0</td>\n",
       "      <td>1</td>\n",
       "      <td>16.62</td>\n",
       "      <td>1</td>\n",
       "      <td>1</td>\n",
       "      <td>0</td>\n",
       "      <td>0</td>\n",
       "      <td>0</td>\n",
       "      <td>4.442651</td>\n",
       "      <td>1.0</td>\n",
       "      <td>9.269521</td>\n",
       "      <td>6.386879</td>\n",
       "      <td>6.744059</td>\n",
       "      <td>0.71</td>\n",
       "    </tr>\n",
       "    <tr>\n",
       "      <th>61</th>\n",
       "      <td>0</td>\n",
       "      <td>0</td>\n",
       "      <td>0</td>\n",
       "      <td>16.09</td>\n",
       "      <td>0</td>\n",
       "      <td>0</td>\n",
       "      <td>1</td>\n",
       "      <td>0</td>\n",
       "      <td>0</td>\n",
       "      <td>2.302585</td>\n",
       "      <td>1.0</td>\n",
       "      <td>8.956824</td>\n",
       "      <td>3.091042</td>\n",
       "      <td>5.662960</td>\n",
       "      <td>0.47</td>\n",
       "    </tr>\n",
       "  </tbody>\n",
       "</table>\n",
       "<p>62 rows × 15 columns</p>\n",
       "</div>"
      ],
      "text/plain": [
       "    G  PG  PG13  starpowr  sequel  action  comedy  animated  horror  \\\n",
       "0   0   0     0     19.83       0       0       1         0       0   \n",
       "1   0   1     0     32.69       1       0       0         1       0   \n",
       "2   0   0     0     15.69       0       0       1         0       0   \n",
       "3   0   0     1     23.62       1       1       0         0       0   \n",
       "4   0   1     0     19.02       0       0       0         1       0   \n",
       ".. ..  ..   ...       ...     ...     ...     ...       ...     ...   \n",
       "57  0   1     0     34.86       0       0       0         1       0   \n",
       "58  0   0     1      4.25       0       1       0         0       0   \n",
       "59  0   0     1      5.96       0       0       0         0       1   \n",
       "60  0   0     1     16.62       1       1       0         0       0   \n",
       "61  0   0     0     16.09       0       0       1         0       0   \n",
       "\n",
       "    LogTBudget  const  LogTAddict  LogTCmngS  LogTFandango  cntwait3  \n",
       "0     3.332205    1.0    8.969605   2.302585      4.969813      0.49  \n",
       "1     5.010635    1.0    8.654692   4.077537      6.148468      0.79  \n",
       "2     3.621671    1.0    6.745236   3.178054      5.288267      0.36  \n",
       "3     5.298317    1.0    9.637306   4.532599      7.483244      0.76  \n",
       "4     5.010635    1.0    8.428198   3.401197      7.011214      0.53  \n",
       "..         ...    ...         ...        ...           ...       ...  \n",
       "57    5.164786    1.0    9.114435   4.219508      6.472346      0.70  \n",
       "58    3.091042    1.0    8.066521   4.543295      3.663562      0.62  \n",
       "59    2.815409    1.0    9.774745   4.060443      4.804021      0.53  \n",
       "60    4.442651    1.0    9.269521   6.386879      6.744059      0.71  \n",
       "61    2.302585    1.0    8.956824   3.091042      5.662960      0.47  \n",
       "\n",
       "[62 rows x 15 columns]"
      ]
     },
     "metadata": {},
     "output_type": "display_data"
    }
   ],
   "source": [
    "# df2 includes all the previous independent variables. \n",
    "df4 = df2.copy()\n",
    "# Only the Transformed and Untransformed Buzz Variables have to be added to df4\n",
    "df4['LogTAddict'] = logAdd\n",
    "df4['LogTCmngS'] = logCmng\n",
    "df4['LogTFandango'] = logFan\n",
    "df4['cntwait3'] = Data[\"cntwait3\"]\n",
    "df4"
   ]
  },
  {
   "cell_type": "markdown",
   "metadata": {},
   "source": [
    "* <u>STEP 3 : Run the Linear Regression </u><br>\n",
    "  "
   ]
  },
  {
   "cell_type": "code",
   "execution_count": null,
   "metadata": {},
   "outputs": [
    {
     "name": "stdout",
     "output_type": "stream",
     "text": [
      "                            OLS Regression Results                            \n",
      "==============================================================================\n",
      "Dep. Variable:                LogTBox   R-squared:                       0.624\n",
      "Model:                            OLS   Adj. R-squared:                  0.512\n",
      "Method:                 Least Squares   F-statistic:                     5.576\n",
      "Date:                Sat, 10 Sep 2022   Prob (F-statistic):           3.77e-06\n",
      "Time:                        09:55:02   Log-Likelihood:                -53.492\n",
      "No. Observations:                  62   AIC:                             137.0\n",
      "Df Residuals:                      47   BIC:                             168.9\n",
      "Df Model:                          14                                         \n",
      "Covariance Type:            nonrobust                                         \n",
      "================================================================================\n",
      "                   coef    std err          t      P>|t|      [0.025      0.975]\n",
      "--------------------------------------------------------------------------------\n",
      "G                0.6375      0.600      1.063      0.293      -0.569       1.844\n",
      "PG               0.6054      0.316      1.913      0.062      -0.031       1.242\n",
      "PG13             0.2171      0.220      0.986      0.329      -0.226       0.660\n",
      "starpowr         0.0012      0.013      0.089      0.930      -0.026       0.028\n",
      "sequel           0.4277      0.305      1.402      0.167      -0.186       1.041\n",
      "action          -0.8419      0.301     -2.801      0.007      -1.447      -0.237\n",
      "comedy          -0.0720      0.255     -0.282      0.779      -0.586       0.442\n",
      "animated        -0.8965      0.437     -2.050      0.046      -1.776      -0.017\n",
      "horror           0.3233      0.370      0.874      0.386      -0.421       1.067\n",
      "LogTBudget       0.2344      0.187      1.256      0.215      -0.141       0.610\n",
      "const           11.4958      0.993     11.581      0.000       9.499      13.493\n",
      "LogTAddict       0.2946      0.135      2.175      0.035       0.022       0.567\n",
      "LogTCmngS        0.0588      0.134      0.439      0.663      -0.211       0.328\n",
      "LogTFandango     0.0274      0.117      0.235      0.815      -0.207       0.262\n",
      "cntwait3         2.5943      0.927      2.798      0.007       0.729       4.459\n",
      "==============================================================================\n",
      "Omnibus:                        1.099   Durbin-Watson:                   2.087\n",
      "Prob(Omnibus):                  0.577   Jarque-Bera (JB):                0.502\n",
      "Skew:                          -0.150   Prob(JB):                        0.778\n",
      "Kurtosis:                       3.322   Cond. No.                         304.\n",
      "==============================================================================\n",
      "\n",
      "Notes:\n",
      "[1] Standard Errors assume that the covariance matrix of the errors is correctly specified.\n"
     ]
    }
   ],
   "source": [
    "LinReg3 = sm.OLS(y, df4).fit()\n",
    "print(LinReg3.summary())\n"
   ]
  },
  {
   "cell_type": "markdown",
   "metadata": {},
   "source": [
    "<b><u> $R^{2}$ AND ADJUSTED $R^{2}$ VALUES </u></b><br>\n",
    "\n",
    "* $R^{2}$ Value = 0.624 <br>\n",
    "* Adjusted $R^{2}$ Value = 0.512 <br>\n",
    "\n",
    "With the addition of new attributes, the $R^{2}$ and the Adjusted $R^{2}$ values have increased significantly\n",
    "This indicates the latest Linear regression Model fits better than the previous two. Adjusted $R^{2}$ value increase also shows that the new terms do contribute to making the fit of the model better. The Independent Variables now account for 51% of the variance in the Box Office Revenue Collected"
   ]
  },
  {
   "cell_type": "markdown",
   "metadata": {},
   "source": [
    "<b><u> VARIABLE SIGNIFICANCE TESTING WITH SIGNIFICANCE AT 0.1 </u></b><br>"
   ]
  },
  {
   "cell_type": "markdown",
   "metadata": {},
   "source": [
    "Assigning the Significance Level as 0.1 and comparing the p-values for each Independent Variable, we find that only PG, ACTION, ANIMATED, ADDICT (Transformed) and CNTWAIT3 are significant. Rest of the variables display a p-value greater than 0.1 and are considered insignificant.<br>\n",
    "* p-value of PG : 0.062\n",
    "* p-value of ACTION : 0.007\n",
    "* p-value of ANIMATED : 0.046\n",
    "* p-value of ADDICT(Transformed) : 0.035\n",
    "* p-value of CNTWAIT3 : 0.007\n",
    "\n",
    "They also display a higher |t| value, thus proving to be significant. \n"
   ]
  },
  {
   "cell_type": "markdown",
   "metadata": {},
   "source": [
    "<b><u> RUNNING A LINEAR REGRESSION </u></b>\n",
    " * <u>STEP 1 : Identify and Specify the Dependent Variable </u><br>\n",
    "   The transformed variable \"box\" is still kept as dependent Variable"
   ]
  },
  {
   "cell_type": "markdown",
   "metadata": {},
   "source": [
    "* <u>STEP 2 : Setup the Independent Variable </u><br>\n",
    "   Assigning only Significant Variables to be the Independent Variables. (Ignoring Insignificant Variables)"
   ]
  },
  {
   "cell_type": "code",
   "execution_count": null,
   "metadata": {},
   "outputs": [
    {
     "data": {
      "text/html": [
       "<div>\n",
       "<style scoped>\n",
       "    .dataframe tbody tr th:only-of-type {\n",
       "        vertical-align: middle;\n",
       "    }\n",
       "\n",
       "    .dataframe tbody tr th {\n",
       "        vertical-align: top;\n",
       "    }\n",
       "\n",
       "    .dataframe thead th {\n",
       "        text-align: right;\n",
       "    }\n",
       "</style>\n",
       "<table border=\"1\" class=\"dataframe\">\n",
       "  <thead>\n",
       "    <tr style=\"text-align: right;\">\n",
       "      <th></th>\n",
       "      <th>G</th>\n",
       "      <th>PG</th>\n",
       "      <th>PG13</th>\n",
       "      <th>starpowr</th>\n",
       "      <th>sequel</th>\n",
       "      <th>action</th>\n",
       "      <th>comedy</th>\n",
       "      <th>animated</th>\n",
       "      <th>horror</th>\n",
       "      <th>LogTBudget</th>\n",
       "      <th>const</th>\n",
       "      <th>LogTAddict</th>\n",
       "      <th>LogTCmngS</th>\n",
       "      <th>LogTFandango</th>\n",
       "      <th>cntwait3</th>\n",
       "    </tr>\n",
       "  </thead>\n",
       "  <tbody>\n",
       "    <tr>\n",
       "      <th>0</th>\n",
       "      <td>0</td>\n",
       "      <td>0</td>\n",
       "      <td>0</td>\n",
       "      <td>19.83</td>\n",
       "      <td>0</td>\n",
       "      <td>0</td>\n",
       "      <td>1</td>\n",
       "      <td>0</td>\n",
       "      <td>0</td>\n",
       "      <td>3.332205</td>\n",
       "      <td>1.0</td>\n",
       "      <td>8.969605</td>\n",
       "      <td>2.302585</td>\n",
       "      <td>4.969813</td>\n",
       "      <td>0.49</td>\n",
       "    </tr>\n",
       "    <tr>\n",
       "      <th>1</th>\n",
       "      <td>0</td>\n",
       "      <td>1</td>\n",
       "      <td>0</td>\n",
       "      <td>32.69</td>\n",
       "      <td>1</td>\n",
       "      <td>0</td>\n",
       "      <td>0</td>\n",
       "      <td>1</td>\n",
       "      <td>0</td>\n",
       "      <td>5.010635</td>\n",
       "      <td>1.0</td>\n",
       "      <td>8.654692</td>\n",
       "      <td>4.077537</td>\n",
       "      <td>6.148468</td>\n",
       "      <td>0.79</td>\n",
       "    </tr>\n",
       "    <tr>\n",
       "      <th>2</th>\n",
       "      <td>0</td>\n",
       "      <td>0</td>\n",
       "      <td>0</td>\n",
       "      <td>15.69</td>\n",
       "      <td>0</td>\n",
       "      <td>0</td>\n",
       "      <td>1</td>\n",
       "      <td>0</td>\n",
       "      <td>0</td>\n",
       "      <td>3.621671</td>\n",
       "      <td>1.0</td>\n",
       "      <td>6.745236</td>\n",
       "      <td>3.178054</td>\n",
       "      <td>5.288267</td>\n",
       "      <td>0.36</td>\n",
       "    </tr>\n",
       "    <tr>\n",
       "      <th>3</th>\n",
       "      <td>0</td>\n",
       "      <td>0</td>\n",
       "      <td>1</td>\n",
       "      <td>23.62</td>\n",
       "      <td>1</td>\n",
       "      <td>1</td>\n",
       "      <td>0</td>\n",
       "      <td>0</td>\n",
       "      <td>0</td>\n",
       "      <td>5.298317</td>\n",
       "      <td>1.0</td>\n",
       "      <td>9.637306</td>\n",
       "      <td>4.532599</td>\n",
       "      <td>7.483244</td>\n",
       "      <td>0.76</td>\n",
       "    </tr>\n",
       "    <tr>\n",
       "      <th>4</th>\n",
       "      <td>0</td>\n",
       "      <td>1</td>\n",
       "      <td>0</td>\n",
       "      <td>19.02</td>\n",
       "      <td>0</td>\n",
       "      <td>0</td>\n",
       "      <td>0</td>\n",
       "      <td>1</td>\n",
       "      <td>0</td>\n",
       "      <td>5.010635</td>\n",
       "      <td>1.0</td>\n",
       "      <td>8.428198</td>\n",
       "      <td>3.401197</td>\n",
       "      <td>7.011214</td>\n",
       "      <td>0.53</td>\n",
       "    </tr>\n",
       "    <tr>\n",
       "      <th>...</th>\n",
       "      <td>...</td>\n",
       "      <td>...</td>\n",
       "      <td>...</td>\n",
       "      <td>...</td>\n",
       "      <td>...</td>\n",
       "      <td>...</td>\n",
       "      <td>...</td>\n",
       "      <td>...</td>\n",
       "      <td>...</td>\n",
       "      <td>...</td>\n",
       "      <td>...</td>\n",
       "      <td>...</td>\n",
       "      <td>...</td>\n",
       "      <td>...</td>\n",
       "      <td>...</td>\n",
       "    </tr>\n",
       "    <tr>\n",
       "      <th>57</th>\n",
       "      <td>0</td>\n",
       "      <td>1</td>\n",
       "      <td>0</td>\n",
       "      <td>34.86</td>\n",
       "      <td>0</td>\n",
       "      <td>0</td>\n",
       "      <td>0</td>\n",
       "      <td>1</td>\n",
       "      <td>0</td>\n",
       "      <td>5.164786</td>\n",
       "      <td>1.0</td>\n",
       "      <td>9.114435</td>\n",
       "      <td>4.219508</td>\n",
       "      <td>6.472346</td>\n",
       "      <td>0.70</td>\n",
       "    </tr>\n",
       "    <tr>\n",
       "      <th>58</th>\n",
       "      <td>0</td>\n",
       "      <td>0</td>\n",
       "      <td>1</td>\n",
       "      <td>4.25</td>\n",
       "      <td>0</td>\n",
       "      <td>1</td>\n",
       "      <td>0</td>\n",
       "      <td>0</td>\n",
       "      <td>0</td>\n",
       "      <td>3.091042</td>\n",
       "      <td>1.0</td>\n",
       "      <td>8.066521</td>\n",
       "      <td>4.543295</td>\n",
       "      <td>3.663562</td>\n",
       "      <td>0.62</td>\n",
       "    </tr>\n",
       "    <tr>\n",
       "      <th>59</th>\n",
       "      <td>0</td>\n",
       "      <td>0</td>\n",
       "      <td>1</td>\n",
       "      <td>5.96</td>\n",
       "      <td>0</td>\n",
       "      <td>0</td>\n",
       "      <td>0</td>\n",
       "      <td>0</td>\n",
       "      <td>1</td>\n",
       "      <td>2.815409</td>\n",
       "      <td>1.0</td>\n",
       "      <td>9.774745</td>\n",
       "      <td>4.060443</td>\n",
       "      <td>4.804021</td>\n",
       "      <td>0.53</td>\n",
       "    </tr>\n",
       "    <tr>\n",
       "      <th>60</th>\n",
       "      <td>0</td>\n",
       "      <td>0</td>\n",
       "      <td>1</td>\n",
       "      <td>16.62</td>\n",
       "      <td>1</td>\n",
       "      <td>1</td>\n",
       "      <td>0</td>\n",
       "      <td>0</td>\n",
       "      <td>0</td>\n",
       "      <td>4.442651</td>\n",
       "      <td>1.0</td>\n",
       "      <td>9.269521</td>\n",
       "      <td>6.386879</td>\n",
       "      <td>6.744059</td>\n",
       "      <td>0.71</td>\n",
       "    </tr>\n",
       "    <tr>\n",
       "      <th>61</th>\n",
       "      <td>0</td>\n",
       "      <td>0</td>\n",
       "      <td>0</td>\n",
       "      <td>16.09</td>\n",
       "      <td>0</td>\n",
       "      <td>0</td>\n",
       "      <td>1</td>\n",
       "      <td>0</td>\n",
       "      <td>0</td>\n",
       "      <td>2.302585</td>\n",
       "      <td>1.0</td>\n",
       "      <td>8.956824</td>\n",
       "      <td>3.091042</td>\n",
       "      <td>5.662960</td>\n",
       "      <td>0.47</td>\n",
       "    </tr>\n",
       "  </tbody>\n",
       "</table>\n",
       "<p>62 rows × 15 columns</p>\n",
       "</div>"
      ],
      "text/plain": [
       "    G  PG  PG13  starpowr  sequel  action  comedy  animated  horror  \\\n",
       "0   0   0     0     19.83       0       0       1         0       0   \n",
       "1   0   1     0     32.69       1       0       0         1       0   \n",
       "2   0   0     0     15.69       0       0       1         0       0   \n",
       "3   0   0     1     23.62       1       1       0         0       0   \n",
       "4   0   1     0     19.02       0       0       0         1       0   \n",
       ".. ..  ..   ...       ...     ...     ...     ...       ...     ...   \n",
       "57  0   1     0     34.86       0       0       0         1       0   \n",
       "58  0   0     1      4.25       0       1       0         0       0   \n",
       "59  0   0     1      5.96       0       0       0         0       1   \n",
       "60  0   0     1     16.62       1       1       0         0       0   \n",
       "61  0   0     0     16.09       0       0       1         0       0   \n",
       "\n",
       "    LogTBudget  const  LogTAddict  LogTCmngS  LogTFandango  cntwait3  \n",
       "0     3.332205    1.0    8.969605   2.302585      4.969813      0.49  \n",
       "1     5.010635    1.0    8.654692   4.077537      6.148468      0.79  \n",
       "2     3.621671    1.0    6.745236   3.178054      5.288267      0.36  \n",
       "3     5.298317    1.0    9.637306   4.532599      7.483244      0.76  \n",
       "4     5.010635    1.0    8.428198   3.401197      7.011214      0.53  \n",
       "..         ...    ...         ...        ...           ...       ...  \n",
       "57    5.164786    1.0    9.114435   4.219508      6.472346      0.70  \n",
       "58    3.091042    1.0    8.066521   4.543295      3.663562      0.62  \n",
       "59    2.815409    1.0    9.774745   4.060443      4.804021      0.53  \n",
       "60    4.442651    1.0    9.269521   6.386879      6.744059      0.71  \n",
       "61    2.302585    1.0    8.956824   3.091042      5.662960      0.47  \n",
       "\n",
       "[62 rows x 15 columns]"
      ]
     },
     "metadata": {},
     "output_type": "display_data"
    }
   ],
   "source": [
    "df4"
   ]
  },
  {
   "cell_type": "code",
   "execution_count": null,
   "metadata": {},
   "outputs": [
    {
     "data": {
      "text/html": [
       "<div>\n",
       "<style scoped>\n",
       "    .dataframe tbody tr th:only-of-type {\n",
       "        vertical-align: middle;\n",
       "    }\n",
       "\n",
       "    .dataframe tbody tr th {\n",
       "        vertical-align: top;\n",
       "    }\n",
       "\n",
       "    .dataframe thead th {\n",
       "        text-align: right;\n",
       "    }\n",
       "</style>\n",
       "<table border=\"1\" class=\"dataframe\">\n",
       "  <thead>\n",
       "    <tr style=\"text-align: right;\">\n",
       "      <th></th>\n",
       "      <th>PG</th>\n",
       "      <th>action</th>\n",
       "      <th>animated</th>\n",
       "      <th>const</th>\n",
       "      <th>LogTAddict</th>\n",
       "      <th>cntwait3</th>\n",
       "    </tr>\n",
       "  </thead>\n",
       "  <tbody>\n",
       "    <tr>\n",
       "      <th>0</th>\n",
       "      <td>0</td>\n",
       "      <td>0</td>\n",
       "      <td>0</td>\n",
       "      <td>1.0</td>\n",
       "      <td>8.969605</td>\n",
       "      <td>0.49</td>\n",
       "    </tr>\n",
       "    <tr>\n",
       "      <th>1</th>\n",
       "      <td>1</td>\n",
       "      <td>0</td>\n",
       "      <td>1</td>\n",
       "      <td>1.0</td>\n",
       "      <td>8.654692</td>\n",
       "      <td>0.79</td>\n",
       "    </tr>\n",
       "    <tr>\n",
       "      <th>2</th>\n",
       "      <td>0</td>\n",
       "      <td>0</td>\n",
       "      <td>0</td>\n",
       "      <td>1.0</td>\n",
       "      <td>6.745236</td>\n",
       "      <td>0.36</td>\n",
       "    </tr>\n",
       "    <tr>\n",
       "      <th>3</th>\n",
       "      <td>0</td>\n",
       "      <td>1</td>\n",
       "      <td>0</td>\n",
       "      <td>1.0</td>\n",
       "      <td>9.637306</td>\n",
       "      <td>0.76</td>\n",
       "    </tr>\n",
       "    <tr>\n",
       "      <th>4</th>\n",
       "      <td>1</td>\n",
       "      <td>0</td>\n",
       "      <td>1</td>\n",
       "      <td>1.0</td>\n",
       "      <td>8.428198</td>\n",
       "      <td>0.53</td>\n",
       "    </tr>\n",
       "    <tr>\n",
       "      <th>...</th>\n",
       "      <td>...</td>\n",
       "      <td>...</td>\n",
       "      <td>...</td>\n",
       "      <td>...</td>\n",
       "      <td>...</td>\n",
       "      <td>...</td>\n",
       "    </tr>\n",
       "    <tr>\n",
       "      <th>57</th>\n",
       "      <td>1</td>\n",
       "      <td>0</td>\n",
       "      <td>1</td>\n",
       "      <td>1.0</td>\n",
       "      <td>9.114435</td>\n",
       "      <td>0.70</td>\n",
       "    </tr>\n",
       "    <tr>\n",
       "      <th>58</th>\n",
       "      <td>0</td>\n",
       "      <td>1</td>\n",
       "      <td>0</td>\n",
       "      <td>1.0</td>\n",
       "      <td>8.066521</td>\n",
       "      <td>0.62</td>\n",
       "    </tr>\n",
       "    <tr>\n",
       "      <th>59</th>\n",
       "      <td>0</td>\n",
       "      <td>0</td>\n",
       "      <td>0</td>\n",
       "      <td>1.0</td>\n",
       "      <td>9.774745</td>\n",
       "      <td>0.53</td>\n",
       "    </tr>\n",
       "    <tr>\n",
       "      <th>60</th>\n",
       "      <td>0</td>\n",
       "      <td>1</td>\n",
       "      <td>0</td>\n",
       "      <td>1.0</td>\n",
       "      <td>9.269521</td>\n",
       "      <td>0.71</td>\n",
       "    </tr>\n",
       "    <tr>\n",
       "      <th>61</th>\n",
       "      <td>0</td>\n",
       "      <td>0</td>\n",
       "      <td>0</td>\n",
       "      <td>1.0</td>\n",
       "      <td>8.956824</td>\n",
       "      <td>0.47</td>\n",
       "    </tr>\n",
       "  </tbody>\n",
       "</table>\n",
       "<p>62 rows × 6 columns</p>\n",
       "</div>"
      ],
      "text/plain": [
       "    PG  action  animated  const  LogTAddict  cntwait3\n",
       "0    0       0         0    1.0    8.969605      0.49\n",
       "1    1       0         1    1.0    8.654692      0.79\n",
       "2    0       0         0    1.0    6.745236      0.36\n",
       "3    0       1         0    1.0    9.637306      0.76\n",
       "4    1       0         1    1.0    8.428198      0.53\n",
       "..  ..     ...       ...    ...         ...       ...\n",
       "57   1       0         1    1.0    9.114435      0.70\n",
       "58   0       1         0    1.0    8.066521      0.62\n",
       "59   0       0         0    1.0    9.774745      0.53\n",
       "60   0       1         0    1.0    9.269521      0.71\n",
       "61   0       0         0    1.0    8.956824      0.47\n",
       "\n",
       "[62 rows x 6 columns]"
      ]
     },
     "metadata": {},
     "output_type": "display_data"
    }
   ],
   "source": [
    "df5 = df4.copy()\n",
    "df5 = df5.drop(['G','PG13','starpowr','sequel','comedy','horror','LogTBudget','LogTFandango','LogTCmngS'], axis = 1)\n",
    "df5"
   ]
  },
  {
   "cell_type": "markdown",
   "metadata": {},
   "source": [
    "* <u>STEP 3 : Run the Linear Regression </u><br>\n",
    "  "
   ]
  },
  {
   "cell_type": "code",
   "execution_count": null,
   "metadata": {},
   "outputs": [
    {
     "name": "stdout",
     "output_type": "stream",
     "text": [
      "                            OLS Regression Results                            \n",
      "==============================================================================\n",
      "Dep. Variable:                LogTBox   R-squared:                       0.558\n",
      "Model:                            OLS   Adj. R-squared:                  0.519\n",
      "Method:                 Least Squares   F-statistic:                     14.15\n",
      "Date:                Sat, 10 Sep 2022   Prob (F-statistic):           6.06e-09\n",
      "Time:                        18:25:27   Log-Likelihood:                -58.512\n",
      "No. Observations:                  62   AIC:                             129.0\n",
      "Df Residuals:                      56   BIC:                             141.8\n",
      "Df Model:                           5                                         \n",
      "Covariance Type:            nonrobust                                         \n",
      "==============================================================================\n",
      "                 coef    std err          t      P>|t|      [0.025      0.975]\n",
      "------------------------------------------------------------------------------\n",
      "PG             0.3464      0.228      1.519      0.134      -0.110       0.803\n",
      "action        -0.6530      0.225     -2.896      0.005      -1.105      -0.201\n",
      "animated      -0.5455      0.322     -1.693      0.096      -1.191       0.100\n",
      "const         12.5048      0.751     16.644      0.000      11.000      14.010\n",
      "LogTAddict     0.2810      0.106      2.662      0.010       0.069       0.492\n",
      "cntwait3       3.7234      0.702      5.303      0.000       2.317       5.130\n",
      "==============================================================================\n",
      "Omnibus:                        1.995   Durbin-Watson:                   1.992\n",
      "Prob(Omnibus):                  0.369   Jarque-Bera (JB):                1.257\n",
      "Skew:                          -0.156   Prob(JB):                        0.533\n",
      "Kurtosis:                       3.624   Cond. No.                         80.9\n",
      "==============================================================================\n",
      "\n",
      "Notes:\n",
      "[1] Standard Errors assume that the covariance matrix of the errors is correctly specified.\n"
     ]
    }
   ],
   "source": [
    "LinReg4 = sm.OLS(y, df5).fit()\n",
    "print(LinReg4.summary())\n"
   ]
  },
  {
   "cell_type": "markdown",
   "metadata": {},
   "source": [
    "<b><u> $R^{2}$ AND ADJUSTED $R^{2}$ VALUES </u></b><br>\n",
    "\n",
    "While the $R^{2}$ value decreased, the Adjusted $R^{2}$ values increased in comparison to the previous Linear Regression <br>\n",
    "* $R^{2}$ Value = 0.558 <br>\n",
    "* Adjusted $R^{2}$ Value = 0.519 <br>\n",
    "\n",
    "\n",
    "This indicates newest Linear regression Model fits much better than the previous one; although only by a slight margin. The SIGNIFICANT Independent Variables now account for 52% of the variance in the Box Office Revenue Collected"
   ]
  },
  {
   "cell_type": "markdown",
   "metadata": {},
   "source": [
    "<b><u> VARIABLE SIGNIFICANCE TESTING WITH SIGNIFICANCE AT 0.1 </u></b><br>"
   ]
  },
  {
   "cell_type": "markdown",
   "metadata": {},
   "source": [
    "Assigning the Significance Level as 0.1 and comparing the p-values for each SIGNIFICANT Independent Variable, we find that ACTION, ANIMATED, ADDICT (Transformed) and CNTWAIT3 are STILL significant. Although the p-value for for PG has increased dramatically and is now well above the Significance Level. <br>\n",
    "* p-value of PG : 0.134\n",
    "* p-value of ACTION : 0.005\n",
    "* p-value of ANIMATED : 0.096\n",
    "* p-value of ADDICT(Transformed) : 0.010\n",
    "* p-value of CNTWAIT3 : 0.000\n",
    "\n",
    "The  value |t| also displays the same behaviour. It has fallen for PG but has increased for the other significant independent variables. . \n",
    "\n"
   ]
  },
  {
   "attachments": {},
   "cell_type": "markdown",
   "metadata": {},
   "source": [
    "### Compare the models developed so far\n",
    "\n",
    "Based on the value of $R^{2}$ and Adjusted $R^{2}$, we would choose the LR Model that used only the SIGNIFICANT VARIABLES obtained from the regression run on all the INDEPENDENT (transformed where needed) VARIABLES (Question 6 Model), because the Adjusted R-squared from this model is the largest at 0.519. \n",
    "Although the $R^{2}$ is not the largest amongst the models run until now, this is mostly due to the fact that the terms included are significantly less.\n"
   ]
  },
  {
   "cell_type": "code",
   "execution_count": null,
   "metadata": {},
   "outputs": [
    {
     "data": {
      "text/html": [
       "<div>\n",
       "<style scoped>\n",
       "    .dataframe tbody tr th:only-of-type {\n",
       "        vertical-align: middle;\n",
       "    }\n",
       "\n",
       "    .dataframe tbody tr th {\n",
       "        vertical-align: top;\n",
       "    }\n",
       "\n",
       "    .dataframe thead th {\n",
       "        text-align: right;\n",
       "    }\n",
       "</style>\n",
       "<table border=\"1\" class=\"dataframe\">\n",
       "  <thead>\n",
       "    <tr style=\"text-align: right;\">\n",
       "      <th></th>\n",
       "      <th>LogTAddict</th>\n",
       "      <th>LogTCmngS</th>\n",
       "      <th>LogTFandango</th>\n",
       "      <th>cntwait3</th>\n",
       "    </tr>\n",
       "  </thead>\n",
       "  <tbody>\n",
       "    <tr>\n",
       "      <th>0</th>\n",
       "      <td>8.969605</td>\n",
       "      <td>2.302585</td>\n",
       "      <td>4.969813</td>\n",
       "      <td>0.49</td>\n",
       "    </tr>\n",
       "    <tr>\n",
       "      <th>1</th>\n",
       "      <td>8.654692</td>\n",
       "      <td>4.077537</td>\n",
       "      <td>6.148468</td>\n",
       "      <td>0.79</td>\n",
       "    </tr>\n",
       "    <tr>\n",
       "      <th>2</th>\n",
       "      <td>6.745236</td>\n",
       "      <td>3.178054</td>\n",
       "      <td>5.288267</td>\n",
       "      <td>0.36</td>\n",
       "    </tr>\n",
       "    <tr>\n",
       "      <th>3</th>\n",
       "      <td>9.637306</td>\n",
       "      <td>4.532599</td>\n",
       "      <td>7.483244</td>\n",
       "      <td>0.76</td>\n",
       "    </tr>\n",
       "    <tr>\n",
       "      <th>4</th>\n",
       "      <td>8.428198</td>\n",
       "      <td>3.401197</td>\n",
       "      <td>7.011214</td>\n",
       "      <td>0.53</td>\n",
       "    </tr>\n",
       "    <tr>\n",
       "      <th>...</th>\n",
       "      <td>...</td>\n",
       "      <td>...</td>\n",
       "      <td>...</td>\n",
       "      <td>...</td>\n",
       "    </tr>\n",
       "    <tr>\n",
       "      <th>57</th>\n",
       "      <td>9.114435</td>\n",
       "      <td>4.219508</td>\n",
       "      <td>6.472346</td>\n",
       "      <td>0.70</td>\n",
       "    </tr>\n",
       "    <tr>\n",
       "      <th>58</th>\n",
       "      <td>8.066521</td>\n",
       "      <td>4.543295</td>\n",
       "      <td>3.663562</td>\n",
       "      <td>0.62</td>\n",
       "    </tr>\n",
       "    <tr>\n",
       "      <th>59</th>\n",
       "      <td>9.774745</td>\n",
       "      <td>4.060443</td>\n",
       "      <td>4.804021</td>\n",
       "      <td>0.53</td>\n",
       "    </tr>\n",
       "    <tr>\n",
       "      <th>60</th>\n",
       "      <td>9.269521</td>\n",
       "      <td>6.386879</td>\n",
       "      <td>6.744059</td>\n",
       "      <td>0.71</td>\n",
       "    </tr>\n",
       "    <tr>\n",
       "      <th>61</th>\n",
       "      <td>8.956824</td>\n",
       "      <td>3.091042</td>\n",
       "      <td>5.662960</td>\n",
       "      <td>0.47</td>\n",
       "    </tr>\n",
       "  </tbody>\n",
       "</table>\n",
       "<p>62 rows × 4 columns</p>\n",
       "</div>"
      ],
      "text/plain": [
       "    LogTAddict  LogTCmngS  LogTFandango  cntwait3\n",
       "0     8.969605   2.302585      4.969813      0.49\n",
       "1     8.654692   4.077537      6.148468      0.79\n",
       "2     6.745236   3.178054      5.288267      0.36\n",
       "3     9.637306   4.532599      7.483244      0.76\n",
       "4     8.428198   3.401197      7.011214      0.53\n",
       "..         ...        ...           ...       ...\n",
       "57    9.114435   4.219508      6.472346      0.70\n",
       "58    8.066521   4.543295      3.663562      0.62\n",
       "59    9.774745   4.060443      4.804021      0.53\n",
       "60    9.269521   6.386879      6.744059      0.71\n",
       "61    8.956824   3.091042      5.662960      0.47\n",
       "\n",
       "[62 rows x 4 columns]"
      ]
     },
     "metadata": {},
     "output_type": "display_data"
    }
   ],
   "source": [
    "# Creating a dataframe with the transformed and untransformed buzz variables\n",
    "df6 = df4.copy()\n",
    "df6 = df6.drop(['G','PG','PG13','starpowr','sequel','action','comedy','animated','horror','const','LogTBudget'], axis = 1)\n",
    "df6"
   ]
  },
  {
   "cell_type": "markdown",
   "metadata": {},
   "source": [
    "<b><u> PRINCIPAL COMPONENT ANALYSIS OF \"BUZZ\" VARIABLES </u></b>"
   ]
  },
  {
   "cell_type": "markdown",
   "metadata": {},
   "source": [
    "* <u>STEP 1 : Standardize the Data</u><br>\n",
    "   "
   ]
  },
  {
   "cell_type": "code",
   "execution_count": null,
   "metadata": {},
   "outputs": [],
   "source": [
    "sc = prep.StandardScaler()\n",
    "sBuzz = pd.DataFrame(sc.fit_transform(df6), columns = df6.columns)\n",
    "\n",
    "# calculate the sample standard deviation of the result and scale by dividing with it \n",
    "\n",
    "sc.scale_ = np.std(sBuzz, axis=0, ddof=1).to_list()\n",
    "sBuzz = sBuzz/sc.scale_"
   ]
  },
  {
   "cell_type": "code",
   "execution_count": null,
   "metadata": {},
   "outputs": [
    {
     "data": {
      "text/html": [
       "<div>\n",
       "<style scoped>\n",
       "    .dataframe tbody tr th:only-of-type {\n",
       "        vertical-align: middle;\n",
       "    }\n",
       "\n",
       "    .dataframe tbody tr th {\n",
       "        vertical-align: top;\n",
       "    }\n",
       "\n",
       "    .dataframe thead th {\n",
       "        text-align: right;\n",
       "    }\n",
       "</style>\n",
       "<table border=\"1\" class=\"dataframe\">\n",
       "  <thead>\n",
       "    <tr style=\"text-align: right;\">\n",
       "      <th></th>\n",
       "      <th>LogTAddict</th>\n",
       "      <th>LogTCmngS</th>\n",
       "      <th>LogTFandango</th>\n",
       "      <th>cntwait3</th>\n",
       "    </tr>\n",
       "  </thead>\n",
       "  <tbody>\n",
       "    <tr>\n",
       "      <th>0</th>\n",
       "      <td>0.803754</td>\n",
       "      <td>-1.090305</td>\n",
       "      <td>-1.141892</td>\n",
       "      <td>0.048398</td>\n",
       "    </tr>\n",
       "    <tr>\n",
       "      <th>1</th>\n",
       "      <td>0.487415</td>\n",
       "      <td>0.393889</td>\n",
       "      <td>0.220592</td>\n",
       "      <td>1.963723</td>\n",
       "    </tr>\n",
       "    <tr>\n",
       "      <th>2</th>\n",
       "      <td>-1.430683</td>\n",
       "      <td>-0.358249</td>\n",
       "      <td>-0.773771</td>\n",
       "      <td>-0.781576</td>\n",
       "    </tr>\n",
       "    <tr>\n",
       "      <th>3</th>\n",
       "      <td>1.474477</td>\n",
       "      <td>0.774406</td>\n",
       "      <td>1.763547</td>\n",
       "      <td>1.772190</td>\n",
       "    </tr>\n",
       "    <tr>\n",
       "      <th>4</th>\n",
       "      <td>0.259896</td>\n",
       "      <td>-0.171659</td>\n",
       "      <td>1.217896</td>\n",
       "      <td>0.303775</td>\n",
       "    </tr>\n",
       "    <tr>\n",
       "      <th>...</th>\n",
       "      <td>...</td>\n",
       "      <td>...</td>\n",
       "      <td>...</td>\n",
       "      <td>...</td>\n",
       "    </tr>\n",
       "    <tr>\n",
       "      <th>57</th>\n",
       "      <td>0.949239</td>\n",
       "      <td>0.512603</td>\n",
       "      <td>0.594984</td>\n",
       "      <td>1.389125</td>\n",
       "    </tr>\n",
       "    <tr>\n",
       "      <th>58</th>\n",
       "      <td>-0.103418</td>\n",
       "      <td>0.783350</td>\n",
       "      <td>-2.651873</td>\n",
       "      <td>0.878372</td>\n",
       "    </tr>\n",
       "    <tr>\n",
       "      <th>59</th>\n",
       "      <td>1.612538</td>\n",
       "      <td>0.379595</td>\n",
       "      <td>-1.333542</td>\n",
       "      <td>0.303775</td>\n",
       "    </tr>\n",
       "    <tr>\n",
       "      <th>60</th>\n",
       "      <td>1.105027</td>\n",
       "      <td>2.324933</td>\n",
       "      <td>0.909074</td>\n",
       "      <td>1.452970</td>\n",
       "    </tr>\n",
       "    <tr>\n",
       "      <th>61</th>\n",
       "      <td>0.790914</td>\n",
       "      <td>-0.431007</td>\n",
       "      <td>-0.340638</td>\n",
       "      <td>-0.079290</td>\n",
       "    </tr>\n",
       "  </tbody>\n",
       "</table>\n",
       "<p>62 rows × 4 columns</p>\n",
       "</div>"
      ],
      "text/plain": [
       "    LogTAddict  LogTCmngS  LogTFandango  cntwait3\n",
       "0     0.803754  -1.090305     -1.141892  0.048398\n",
       "1     0.487415   0.393889      0.220592  1.963723\n",
       "2    -1.430683  -0.358249     -0.773771 -0.781576\n",
       "3     1.474477   0.774406      1.763547  1.772190\n",
       "4     0.259896  -0.171659      1.217896  0.303775\n",
       "..         ...        ...           ...       ...\n",
       "57    0.949239   0.512603      0.594984  1.389125\n",
       "58   -0.103418   0.783350     -2.651873  0.878372\n",
       "59    1.612538   0.379595     -1.333542  0.303775\n",
       "60    1.105027   2.324933      0.909074  1.452970\n",
       "61    0.790914  -0.431007     -0.340638 -0.079290\n",
       "\n",
       "[62 rows x 4 columns]"
      ]
     },
     "metadata": {},
     "output_type": "display_data"
    }
   ],
   "source": [
    "sBuzz"
   ]
  },
  {
   "cell_type": "markdown",
   "metadata": {},
   "source": [
    "* <u>STEP 2 : Perform PCA on the 4 independent 'buzz' variables</u><br>\n",
    "   "
   ]
  },
  {
   "cell_type": "code",
   "execution_count": null,
   "metadata": {},
   "outputs": [],
   "source": [
    "PCA4 = PCA()\n",
    "# fit calculates parameters; transform applies the transformation\n",
    "PCS4 = PCA4.fit_transform(sBuzz)"
   ]
  },
  {
   "cell_type": "code",
   "execution_count": null,
   "metadata": {},
   "outputs": [
    {
     "name": "stdout",
     "output_type": "stream",
     "text": [
      "\n",
      "Eigen Values of Correlation Matrix\n",
      "[2.41420026 0.77519959 0.45214886 0.3584513 ]\n"
     ]
    }
   ],
   "source": [
    "print('\\nEigen Values of Correlation Matrix')\n",
    "print(PCA4.explained_variance_)"
   ]
  },
  {
   "cell_type": "code",
   "execution_count": null,
   "metadata": {},
   "outputs": [
    {
     "data": {
      "text/plain": [
       "[]"
      ]
     },
     "metadata": {},
     "output_type": "display_data"
    },
    {
     "data": {
      "image/png": "[encoded data removed]",
      "text/plain": [
       "<Figure size 360x360 with 1 Axes>"
      ]
     },
     "metadata": {},
     "output_type": "display_data"
    }
   ],
   "source": [
    "plt.figure(figsize=(5, 5))\n",
    "plt.xlabel(\"Principal Component\")\n",
    "plt.ylabel(\"Eigen Values\")\n",
    "plt.xticks(np.arange(1, 5)) \n",
    "plt.plot(np.arange(1,5), PCA4.explained_variance_)\n",
    "plt.title(\"Scree Plot for Eigen Values\")\n",
    "plt.scatter(np.arange(1,5), PCA4.explained_variance_, s = 100)\n",
    "plt.plot()"
   ]
  },
  {
   "cell_type": "markdown",
   "metadata": {},
   "source": [
    "<b><u> FRACTION OF VARIANCE EXPLAINED BY EACH COMPONENT </u></b>"
   ]
  },
  {
   "cell_type": "code",
   "execution_count": null,
   "metadata": {},
   "outputs": [
    {
     "name": "stdout",
     "output_type": "stream",
     "text": [
      "\n",
      "Explained Variance Ratios\n"
     ]
    },
    {
     "data": {
      "text/plain": [
       "array([0.60355006, 0.1937999 , 0.11303721, 0.08961282])"
      ]
     },
     "metadata": {},
     "output_type": "display_data"
    }
   ],
   "source": [
    "print('\\nExplained Variance Ratios')\n",
    "ExpVarPCA4 = PCA4.explained_variance_ratio_\n",
    "ExpVarPCA4"
   ]
  },
  {
   "cell_type": "markdown",
   "metadata": {},
   "source": [
    "Principal Component 1 (PC1) : Explains 60.35% of the variance <i>(Approximate Fraction : 3/5)</i> <br>\n",
    "Principal Component 2 (PC2) : Explains 19.38% of the variance <i>(Approximate Fraction : 1/5)</i><br>\n",
    "Principal Component 3 (PC3) : Explains 11.30% of the variance <i>(Approximate Fraction : 1/10)</i><br>\n",
    "Principal Component 4 (PC4) : Explains 8.96% of the variance <i>(Approximate Fraction : 1/10)</i><br>"
   ]
  },
  {
   "cell_type": "code",
   "execution_count": null,
   "metadata": {},
   "outputs": [
    {
     "data": {
      "text/plain": [
       "1.0"
      ]
     },
     "metadata": {},
     "output_type": "display_data"
    }
   ],
   "source": [
    "1/10 + 1/10 + 1/5 + 3/5 # Fraction explained by each Principal Component adds up to 1."
   ]
  },
  {
   "cell_type": "code",
   "execution_count": null,
   "metadata": {},
   "outputs": [
    {
     "name": "stdout",
     "output_type": "stream",
     "text": [
      "\n",
      "Cumulative sum of the explained variance\n",
      "[0.60355006 0.79734996 0.91038718 1.        ]\n"
     ]
    }
   ],
   "source": [
    "ExpVarSum4 = np.cumsum(ExpVarPCA4)\n",
    "print('\\nCumulative sum of the explained variance')\n",
    "print(ExpVarSum4)"
   ]
  },
  {
   "cell_type": "code",
   "execution_count": null,
   "metadata": {},
   "outputs": [
    {
     "data": {
      "image/png": "[encoded data removed]",
      "text/plain": [
       "<Figure size 360x360 with 1 Axes>"
      ]
     },
     "metadata": {},
     "output_type": "display_data"
    }
   ],
   "source": [
    "# plot of explained variance\n",
    "plt.figure(figsize=(5, 5))\n",
    "plt.xlabel(\"Principal Component\")\n",
    "plt.ylabel(\"Proportion of Variance\")\n",
    "plt.xticks(np.arange(1, 5)) \n",
    "plt.plot(np.arange(1,5), ExpVarPCA4,label='Proportion of Variance Explained')\n",
    "plt.scatter(np.arange(1,5), ExpVarPCA4, s = 100)\n",
    "plt.scatter(np.arange(1,5), ExpVarSum4, s = 50)\n",
    "plt.plot(np.arange(1,5), ExpVarSum4,label='Cumulative Variance Explained')\n",
    "plt.title(\"Scree Plot of Explained Variance and Cumulative Explained Variance\")\n",
    "plt.legend(bbox_to_anchor=(0.29, 0.7), loc='upper left', borderaxespad=0, fancybox = True, framealpha = 0)\n",
    "plt.show()"
   ]
  },
  {
   "cell_type": "code",
   "execution_count": null,
   "metadata": {},
   "outputs": [
    {
     "name": "stdout",
     "output_type": "stream",
     "text": [
      "\n",
      "Principal Components\n",
      "[[ 0.51126957  0.54886633  0.37659341  0.54362357]\n",
      " [ 0.33932725  0.18491386 -0.91352693  0.1270135 ]\n",
      " [-0.77445054  0.29212109 -0.15349213  0.5397516 ]\n",
      " [ 0.15390517 -0.76106365 -0.00927995  0.63008666]]\n",
      "\n",
      "Explained Variance Proportion by Component\n",
      "[0.60355006 0.1937999  0.11303721 0.08961282]\n",
      "\n",
      "Eigen Values of Correlation Matrix\n",
      "[2.41420026 0.77519959 0.45214886 0.3584513 ]\n"
     ]
    }
   ],
   "source": [
    "# print components\n",
    "print('\\nPrincipal Components')\n",
    "print(PCA4.components_)\n",
    "print('\\nExplained Variance Proportion by Component')\n",
    "print(ExpVarPCA4)\n",
    "print('\\nEigen Values of Correlation Matrix')\n",
    "print(PCA4.explained_variance_)"
   ]
  },
  {
   "cell_type": "code",
   "execution_count": null,
   "metadata": {},
   "outputs": [
    {
     "name": "stdout",
     "output_type": "stream",
     "text": [
      "         PC1       PC2       PC3       PC4\n",
      "0  -0.591216  1.120419 -0.739575  0.994585\n",
      "1   1.615992  0.286131  0.763648  1.010510\n",
      "2  -1.644376  0.055875  0.700252 -0.432820\n",
      "3   2.806445 -0.742427 -0.229837  0.737825\n",
      "4   0.662450 -1.017549 -0.274396  0.350745\n",
      "..       ...       ...       ...       ...\n",
      "57  1.745896  0.049794  0.073061  0.625717\n",
      "58 -0.144094  2.643883  1.190069 -0.034036\n",
      "59  0.695724  1.874180 -0.769292  0.163062\n",
      "60  2.973264  0.158961  0.468080 -0.692292\n",
      "61 -0.003581  0.489791 -0.728942  0.402951\n",
      "\n",
      "[62 rows x 4 columns]\n"
     ]
    }
   ],
   "source": [
    "PCS4df = pd.DataFrame(PCS4, columns = ['PC1', 'PC2', 'PC3', 'PC4'])\n",
    "print(PCS4df)"
   ]
  },
  {
   "cell_type": "markdown",
   "metadata": {},
   "source": [
    "<b><u> PRINCIPAL COMPONENT SELECTION AS PER KAISER'S RULE </u></b>\n",
    "\n",
    "As per Kaiser's Rule, we only choose Prinicipal Components which have Eigenvalues > 1. <br>\n",
    "In our case, only PC1 has an Eigenvalue greater than 1 and hence only ONE Principal Component is chosen. "
   ]
  },
  {
   "cell_type": "code",
   "execution_count": null,
   "metadata": {},
   "outputs": [
    {
     "data": {
      "text/plain": [
       "array([0.60355006, 0.79734996, 0.91038718, 1.        ])"
      ]
     },
     "metadata": {},
     "output_type": "display_data"
    }
   ],
   "source": [
    "ExpVarSum4"
   ]
  },
  {
   "cell_type": "markdown",
   "metadata": {},
   "source": [
    "<b><u> PRINCIPAL COMPONENT SELECTION USING VARIANCE THRESHOLDS OF 60%, 70%, 80% and 90% </u></b>\n",
    "\n",
    "As per choosing principal components based on Thresholds, a percentage value is set for the thresholdand and the first 'k' Principal Components that account for a percentage of total variation <b>greater</b> than this threshold are chosen. \n",
    "\n",
    "* <u>STEP 1 : Threshold = 60%</u><br>\n",
    "The FIRST Principal Component accounts for 60.35% of the total variation which is slightly greater than the Threshold. <br>\n",
    "Therefore, only the FIRST COMPONENT will be chosen when the Threshold is set to 60% (PC1).\n",
    "\n",
    "\n",
    "* <u>STEP 2 : Threshold = 70%</u><br>\n",
    "The FIRST and SECOND Principal Component together account for 79.73% of the total variation which is greater than the Threshold Percentage. <br>\n",
    "Therefore, the FIRST TWO COMPONENTS will be chosen when the Threshold is set to 70% (PC1 and PC2).\n",
    "\n",
    "* <u>STEP 3 : Threshold = 80%</u><br>\n",
    "The FIRST, SECOND and THIRD Principal Components together account for 91.04% of the total variation which is greater than the Threshold Percentage. <br>\n",
    "Therefore, the FIRST THREE COMPONENTS will be chosen when the Threshold is set to 80% (PC1, PC2 and PC3).\n",
    "\n",
    "\n",
    "* <u>STEP 4 : Threshold = 90%</u><br>\n",
    "The FIRST, SECOND and THIRD Principal Components together account for 91.04% of the total variation which is slightly greater than the Threshold Percentage. <br>\n",
    "Therefore, the FIRST THREE COMPONENTS will be chosen when the Threshold is set to 90% (PC1, PC2 and PC3).\n",
    "\n",
    "      \n",
    "   \n",
    "\n"
   ]
  },
  {
   "cell_type": "code",
   "execution_count": null,
   "metadata": {},
   "outputs": [
    {
     "data": {
      "text/html": [
       "<div>\n",
       "<style scoped>\n",
       "    .dataframe tbody tr th:only-of-type {\n",
       "        vertical-align: middle;\n",
       "    }\n",
       "\n",
       "    .dataframe tbody tr th {\n",
       "        vertical-align: top;\n",
       "    }\n",
       "\n",
       "    .dataframe thead th {\n",
       "        text-align: right;\n",
       "    }\n",
       "</style>\n",
       "<table border=\"1\" class=\"dataframe\">\n",
       "  <thead>\n",
       "    <tr style=\"text-align: right;\">\n",
       "      <th></th>\n",
       "      <th>G</th>\n",
       "      <th>PG</th>\n",
       "      <th>PG13</th>\n",
       "      <th>starpowr</th>\n",
       "      <th>sequel</th>\n",
       "      <th>action</th>\n",
       "      <th>comedy</th>\n",
       "      <th>animated</th>\n",
       "      <th>horror</th>\n",
       "      <th>LogTBudget</th>\n",
       "      <th>const</th>\n",
       "    </tr>\n",
       "  </thead>\n",
       "  <tbody>\n",
       "    <tr>\n",
       "      <th>0</th>\n",
       "      <td>0</td>\n",
       "      <td>0</td>\n",
       "      <td>0</td>\n",
       "      <td>19.83</td>\n",
       "      <td>0</td>\n",
       "      <td>0</td>\n",
       "      <td>1</td>\n",
       "      <td>0</td>\n",
       "      <td>0</td>\n",
       "      <td>3.332205</td>\n",
       "      <td>1.0</td>\n",
       "    </tr>\n",
       "    <tr>\n",
       "      <th>1</th>\n",
       "      <td>0</td>\n",
       "      <td>1</td>\n",
       "      <td>0</td>\n",
       "      <td>32.69</td>\n",
       "      <td>1</td>\n",
       "      <td>0</td>\n",
       "      <td>0</td>\n",
       "      <td>1</td>\n",
       "      <td>0</td>\n",
       "      <td>5.010635</td>\n",
       "      <td>1.0</td>\n",
       "    </tr>\n",
       "    <tr>\n",
       "      <th>2</th>\n",
       "      <td>0</td>\n",
       "      <td>0</td>\n",
       "      <td>0</td>\n",
       "      <td>15.69</td>\n",
       "      <td>0</td>\n",
       "      <td>0</td>\n",
       "      <td>1</td>\n",
       "      <td>0</td>\n",
       "      <td>0</td>\n",
       "      <td>3.621671</td>\n",
       "      <td>1.0</td>\n",
       "    </tr>\n",
       "    <tr>\n",
       "      <th>3</th>\n",
       "      <td>0</td>\n",
       "      <td>0</td>\n",
       "      <td>1</td>\n",
       "      <td>23.62</td>\n",
       "      <td>1</td>\n",
       "      <td>1</td>\n",
       "      <td>0</td>\n",
       "      <td>0</td>\n",
       "      <td>0</td>\n",
       "      <td>5.298317</td>\n",
       "      <td>1.0</td>\n",
       "    </tr>\n",
       "    <tr>\n",
       "      <th>4</th>\n",
       "      <td>0</td>\n",
       "      <td>1</td>\n",
       "      <td>0</td>\n",
       "      <td>19.02</td>\n",
       "      <td>0</td>\n",
       "      <td>0</td>\n",
       "      <td>0</td>\n",
       "      <td>1</td>\n",
       "      <td>0</td>\n",
       "      <td>5.010635</td>\n",
       "      <td>1.0</td>\n",
       "    </tr>\n",
       "    <tr>\n",
       "      <th>...</th>\n",
       "      <td>...</td>\n",
       "      <td>...</td>\n",
       "      <td>...</td>\n",
       "      <td>...</td>\n",
       "      <td>...</td>\n",
       "      <td>...</td>\n",
       "      <td>...</td>\n",
       "      <td>...</td>\n",
       "      <td>...</td>\n",
       "      <td>...</td>\n",
       "      <td>...</td>\n",
       "    </tr>\n",
       "    <tr>\n",
       "      <th>57</th>\n",
       "      <td>0</td>\n",
       "      <td>1</td>\n",
       "      <td>0</td>\n",
       "      <td>34.86</td>\n",
       "      <td>0</td>\n",
       "      <td>0</td>\n",
       "      <td>0</td>\n",
       "      <td>1</td>\n",
       "      <td>0</td>\n",
       "      <td>5.164786</td>\n",
       "      <td>1.0</td>\n",
       "    </tr>\n",
       "    <tr>\n",
       "      <th>58</th>\n",
       "      <td>0</td>\n",
       "      <td>0</td>\n",
       "      <td>1</td>\n",
       "      <td>4.25</td>\n",
       "      <td>0</td>\n",
       "      <td>1</td>\n",
       "      <td>0</td>\n",
       "      <td>0</td>\n",
       "      <td>0</td>\n",
       "      <td>3.091042</td>\n",
       "      <td>1.0</td>\n",
       "    </tr>\n",
       "    <tr>\n",
       "      <th>59</th>\n",
       "      <td>0</td>\n",
       "      <td>0</td>\n",
       "      <td>1</td>\n",
       "      <td>5.96</td>\n",
       "      <td>0</td>\n",
       "      <td>0</td>\n",
       "      <td>0</td>\n",
       "      <td>0</td>\n",
       "      <td>1</td>\n",
       "      <td>2.815409</td>\n",
       "      <td>1.0</td>\n",
       "    </tr>\n",
       "    <tr>\n",
       "      <th>60</th>\n",
       "      <td>0</td>\n",
       "      <td>0</td>\n",
       "      <td>1</td>\n",
       "      <td>16.62</td>\n",
       "      <td>1</td>\n",
       "      <td>1</td>\n",
       "      <td>0</td>\n",
       "      <td>0</td>\n",
       "      <td>0</td>\n",
       "      <td>4.442651</td>\n",
       "      <td>1.0</td>\n",
       "    </tr>\n",
       "    <tr>\n",
       "      <th>61</th>\n",
       "      <td>0</td>\n",
       "      <td>0</td>\n",
       "      <td>0</td>\n",
       "      <td>16.09</td>\n",
       "      <td>0</td>\n",
       "      <td>0</td>\n",
       "      <td>1</td>\n",
       "      <td>0</td>\n",
       "      <td>0</td>\n",
       "      <td>2.302585</td>\n",
       "      <td>1.0</td>\n",
       "    </tr>\n",
       "  </tbody>\n",
       "</table>\n",
       "<p>62 rows × 11 columns</p>\n",
       "</div>"
      ],
      "text/plain": [
       "    G  PG  PG13  starpowr  sequel  action  comedy  animated  horror  \\\n",
       "0   0   0     0     19.83       0       0       1         0       0   \n",
       "1   0   1     0     32.69       1       0       0         1       0   \n",
       "2   0   0     0     15.69       0       0       1         0       0   \n",
       "3   0   0     1     23.62       1       1       0         0       0   \n",
       "4   0   1     0     19.02       0       0       0         1       0   \n",
       ".. ..  ..   ...       ...     ...     ...     ...       ...     ...   \n",
       "57  0   1     0     34.86       0       0       0         1       0   \n",
       "58  0   0     1      4.25       0       1       0         0       0   \n",
       "59  0   0     1      5.96       0       0       0         0       1   \n",
       "60  0   0     1     16.62       1       1       0         0       0   \n",
       "61  0   0     0     16.09       0       0       1         0       0   \n",
       "\n",
       "    LogTBudget  const  \n",
       "0     3.332205    1.0  \n",
       "1     5.010635    1.0  \n",
       "2     3.621671    1.0  \n",
       "3     5.298317    1.0  \n",
       "4     5.010635    1.0  \n",
       "..         ...    ...  \n",
       "57    5.164786    1.0  \n",
       "58    3.091042    1.0  \n",
       "59    2.815409    1.0  \n",
       "60    4.442651    1.0  \n",
       "61    2.302585    1.0  \n",
       "\n",
       "[62 rows x 11 columns]"
      ]
     },
     "metadata": {},
     "output_type": "display_data"
    }
   ],
   "source": [
    "df2"
   ]
  },
  {
   "cell_type": "markdown",
   "metadata": {},
   "source": [
    "<b><u> RUNNING A LINEAR REGRESSION </u></b>\n",
    " * <u>STEP 1 : Identify and Specify the Dependent Variable </u><br>\n",
    "   The transformed variable \"box\" is still kept as dependent Variable"
   ]
  },
  {
   "cell_type": "markdown",
   "metadata": {},
   "source": [
    "* <u>STEP 2 : Setup the Independent Variable </u><br>\n",
    "   Assigning a dataframe with Independent Variables (Without Buzz Variables) and all 4 PCA Components."
   ]
  },
  {
   "cell_type": "code",
   "execution_count": null,
   "metadata": {},
   "outputs": [
    {
     "data": {
      "text/html": [
       "<div>\n",
       "<style scoped>\n",
       "    .dataframe tbody tr th:only-of-type {\n",
       "        vertical-align: middle;\n",
       "    }\n",
       "\n",
       "    .dataframe tbody tr th {\n",
       "        vertical-align: top;\n",
       "    }\n",
       "\n",
       "    .dataframe thead th {\n",
       "        text-align: right;\n",
       "    }\n",
       "</style>\n",
       "<table border=\"1\" class=\"dataframe\">\n",
       "  <thead>\n",
       "    <tr style=\"text-align: right;\">\n",
       "      <th></th>\n",
       "      <th>G</th>\n",
       "      <th>PG</th>\n",
       "      <th>PG13</th>\n",
       "      <th>starpowr</th>\n",
       "      <th>sequel</th>\n",
       "      <th>action</th>\n",
       "      <th>comedy</th>\n",
       "      <th>animated</th>\n",
       "      <th>horror</th>\n",
       "      <th>LogTBudget</th>\n",
       "      <th>const</th>\n",
       "      <th>PC1</th>\n",
       "      <th>PC2</th>\n",
       "      <th>PC3</th>\n",
       "      <th>PC4</th>\n",
       "    </tr>\n",
       "  </thead>\n",
       "  <tbody>\n",
       "    <tr>\n",
       "      <th>0</th>\n",
       "      <td>0</td>\n",
       "      <td>0</td>\n",
       "      <td>0</td>\n",
       "      <td>19.83</td>\n",
       "      <td>0</td>\n",
       "      <td>0</td>\n",
       "      <td>1</td>\n",
       "      <td>0</td>\n",
       "      <td>0</td>\n",
       "      <td>3.332205</td>\n",
       "      <td>1.0</td>\n",
       "      <td>-0.591216</td>\n",
       "      <td>1.120419</td>\n",
       "      <td>-0.739575</td>\n",
       "      <td>0.994585</td>\n",
       "    </tr>\n",
       "    <tr>\n",
       "      <th>1</th>\n",
       "      <td>0</td>\n",
       "      <td>1</td>\n",
       "      <td>0</td>\n",
       "      <td>32.69</td>\n",
       "      <td>1</td>\n",
       "      <td>0</td>\n",
       "      <td>0</td>\n",
       "      <td>1</td>\n",
       "      <td>0</td>\n",
       "      <td>5.010635</td>\n",
       "      <td>1.0</td>\n",
       "      <td>1.615992</td>\n",
       "      <td>0.286131</td>\n",
       "      <td>0.763648</td>\n",
       "      <td>1.010510</td>\n",
       "    </tr>\n",
       "    <tr>\n",
       "      <th>2</th>\n",
       "      <td>0</td>\n",
       "      <td>0</td>\n",
       "      <td>0</td>\n",
       "      <td>15.69</td>\n",
       "      <td>0</td>\n",
       "      <td>0</td>\n",
       "      <td>1</td>\n",
       "      <td>0</td>\n",
       "      <td>0</td>\n",
       "      <td>3.621671</td>\n",
       "      <td>1.0</td>\n",
       "      <td>-1.644376</td>\n",
       "      <td>0.055875</td>\n",
       "      <td>0.700252</td>\n",
       "      <td>-0.432820</td>\n",
       "    </tr>\n",
       "    <tr>\n",
       "      <th>3</th>\n",
       "      <td>0</td>\n",
       "      <td>0</td>\n",
       "      <td>1</td>\n",
       "      <td>23.62</td>\n",
       "      <td>1</td>\n",
       "      <td>1</td>\n",
       "      <td>0</td>\n",
       "      <td>0</td>\n",
       "      <td>0</td>\n",
       "      <td>5.298317</td>\n",
       "      <td>1.0</td>\n",
       "      <td>2.806445</td>\n",
       "      <td>-0.742427</td>\n",
       "      <td>-0.229837</td>\n",
       "      <td>0.737825</td>\n",
       "    </tr>\n",
       "    <tr>\n",
       "      <th>4</th>\n",
       "      <td>0</td>\n",
       "      <td>1</td>\n",
       "      <td>0</td>\n",
       "      <td>19.02</td>\n",
       "      <td>0</td>\n",
       "      <td>0</td>\n",
       "      <td>0</td>\n",
       "      <td>1</td>\n",
       "      <td>0</td>\n",
       "      <td>5.010635</td>\n",
       "      <td>1.0</td>\n",
       "      <td>0.662450</td>\n",
       "      <td>-1.017549</td>\n",
       "      <td>-0.274396</td>\n",
       "      <td>0.350745</td>\n",
       "    </tr>\n",
       "    <tr>\n",
       "      <th>...</th>\n",
       "      <td>...</td>\n",
       "      <td>...</td>\n",
       "      <td>...</td>\n",
       "      <td>...</td>\n",
       "      <td>...</td>\n",
       "      <td>...</td>\n",
       "      <td>...</td>\n",
       "      <td>...</td>\n",
       "      <td>...</td>\n",
       "      <td>...</td>\n",
       "      <td>...</td>\n",
       "      <td>...</td>\n",
       "      <td>...</td>\n",
       "      <td>...</td>\n",
       "      <td>...</td>\n",
       "    </tr>\n",
       "    <tr>\n",
       "      <th>57</th>\n",
       "      <td>0</td>\n",
       "      <td>1</td>\n",
       "      <td>0</td>\n",
       "      <td>34.86</td>\n",
       "      <td>0</td>\n",
       "      <td>0</td>\n",
       "      <td>0</td>\n",
       "      <td>1</td>\n",
       "      <td>0</td>\n",
       "      <td>5.164786</td>\n",
       "      <td>1.0</td>\n",
       "      <td>1.745896</td>\n",
       "      <td>0.049794</td>\n",
       "      <td>0.073061</td>\n",
       "      <td>0.625717</td>\n",
       "    </tr>\n",
       "    <tr>\n",
       "      <th>58</th>\n",
       "      <td>0</td>\n",
       "      <td>0</td>\n",
       "      <td>1</td>\n",
       "      <td>4.25</td>\n",
       "      <td>0</td>\n",
       "      <td>1</td>\n",
       "      <td>0</td>\n",
       "      <td>0</td>\n",
       "      <td>0</td>\n",
       "      <td>3.091042</td>\n",
       "      <td>1.0</td>\n",
       "      <td>-0.144094</td>\n",
       "      <td>2.643883</td>\n",
       "      <td>1.190069</td>\n",
       "      <td>-0.034036</td>\n",
       "    </tr>\n",
       "    <tr>\n",
       "      <th>59</th>\n",
       "      <td>0</td>\n",
       "      <td>0</td>\n",
       "      <td>1</td>\n",
       "      <td>5.96</td>\n",
       "      <td>0</td>\n",
       "      <td>0</td>\n",
       "      <td>0</td>\n",
       "      <td>0</td>\n",
       "      <td>1</td>\n",
       "      <td>2.815409</td>\n",
       "      <td>1.0</td>\n",
       "      <td>0.695724</td>\n",
       "      <td>1.874180</td>\n",
       "      <td>-0.769292</td>\n",
       "      <td>0.163062</td>\n",
       "    </tr>\n",
       "    <tr>\n",
       "      <th>60</th>\n",
       "      <td>0</td>\n",
       "      <td>0</td>\n",
       "      <td>1</td>\n",
       "      <td>16.62</td>\n",
       "      <td>1</td>\n",
       "      <td>1</td>\n",
       "      <td>0</td>\n",
       "      <td>0</td>\n",
       "      <td>0</td>\n",
       "      <td>4.442651</td>\n",
       "      <td>1.0</td>\n",
       "      <td>2.973264</td>\n",
       "      <td>0.158961</td>\n",
       "      <td>0.468080</td>\n",
       "      <td>-0.692292</td>\n",
       "    </tr>\n",
       "    <tr>\n",
       "      <th>61</th>\n",
       "      <td>0</td>\n",
       "      <td>0</td>\n",
       "      <td>0</td>\n",
       "      <td>16.09</td>\n",
       "      <td>0</td>\n",
       "      <td>0</td>\n",
       "      <td>1</td>\n",
       "      <td>0</td>\n",
       "      <td>0</td>\n",
       "      <td>2.302585</td>\n",
       "      <td>1.0</td>\n",
       "      <td>-0.003581</td>\n",
       "      <td>0.489791</td>\n",
       "      <td>-0.728942</td>\n",
       "      <td>0.402951</td>\n",
       "    </tr>\n",
       "  </tbody>\n",
       "</table>\n",
       "<p>62 rows × 15 columns</p>\n",
       "</div>"
      ],
      "text/plain": [
       "    G  PG  PG13  starpowr  sequel  action  comedy  animated  horror  \\\n",
       "0   0   0     0     19.83       0       0       1         0       0   \n",
       "1   0   1     0     32.69       1       0       0         1       0   \n",
       "2   0   0     0     15.69       0       0       1         0       0   \n",
       "3   0   0     1     23.62       1       1       0         0       0   \n",
       "4   0   1     0     19.02       0       0       0         1       0   \n",
       ".. ..  ..   ...       ...     ...     ...     ...       ...     ...   \n",
       "57  0   1     0     34.86       0       0       0         1       0   \n",
       "58  0   0     1      4.25       0       1       0         0       0   \n",
       "59  0   0     1      5.96       0       0       0         0       1   \n",
       "60  0   0     1     16.62       1       1       0         0       0   \n",
       "61  0   0     0     16.09       0       0       1         0       0   \n",
       "\n",
       "    LogTBudget  const       PC1       PC2       PC3       PC4  \n",
       "0     3.332205    1.0 -0.591216  1.120419 -0.739575  0.994585  \n",
       "1     5.010635    1.0  1.615992  0.286131  0.763648  1.010510  \n",
       "2     3.621671    1.0 -1.644376  0.055875  0.700252 -0.432820  \n",
       "3     5.298317    1.0  2.806445 -0.742427 -0.229837  0.737825  \n",
       "4     5.010635    1.0  0.662450 -1.017549 -0.274396  0.350745  \n",
       "..         ...    ...       ...       ...       ...       ...  \n",
       "57    5.164786    1.0  1.745896  0.049794  0.073061  0.625717  \n",
       "58    3.091042    1.0 -0.144094  2.643883  1.190069 -0.034036  \n",
       "59    2.815409    1.0  0.695724  1.874180 -0.769292  0.163062  \n",
       "60    4.442651    1.0  2.973264  0.158961  0.468080 -0.692292  \n",
       "61    2.302585    1.0 -0.003581  0.489791 -0.728942  0.402951  \n",
       "\n",
       "[62 rows x 15 columns]"
      ]
     },
     "metadata": {},
     "output_type": "display_data"
    }
   ],
   "source": [
    "df8 = df2.copy()\n",
    "df8\n",
    "# Adding the PCA Components\n",
    "df8['PC1'] = PCS4df['PC1']\n",
    "df8['PC2'] = PCS4df['PC2']\n",
    "df8['PC3'] = PCS4df['PC3']\n",
    "df8['PC4'] = PCS4df['PC4']\n",
    "df8"
   ]
  },
  {
   "cell_type": "markdown",
   "metadata": {},
   "source": [
    "* <u>STEP 3 : Run the Linear Regression </u><br>\n",
    "  "
   ]
  },
  {
   "cell_type": "code",
   "execution_count": null,
   "metadata": {},
   "outputs": [
    {
     "name": "stdout",
     "output_type": "stream",
     "text": [
      "                            OLS Regression Results                            \n",
      "==============================================================================\n",
      "Dep. Variable:                LogTBox   R-squared:                       0.624\n",
      "Model:                            OLS   Adj. R-squared:                  0.512\n",
      "Method:                 Least Squares   F-statistic:                     5.576\n",
      "Date:                Sat, 10 Sep 2022   Prob (F-statistic):           3.77e-06\n",
      "Time:                        18:26:11   Log-Likelihood:                -53.492\n",
      "No. Observations:                  62   AIC:                             137.0\n",
      "Df Residuals:                      47   BIC:                             168.9\n",
      "Df Model:                          14                                         \n",
      "Covariance Type:            nonrobust                                         \n",
      "==============================================================================\n",
      "                 coef    std err          t      P>|t|      [0.025      0.975]\n",
      "------------------------------------------------------------------------------\n",
      "G              0.6375      0.600      1.063      0.293      -0.569       1.844\n",
      "PG             0.6054      0.316      1.913      0.062      -0.031       1.242\n",
      "PG13           0.2171      0.220      0.986      0.329      -0.226       0.660\n",
      "starpowr       0.0012      0.013      0.089      0.930      -0.026       0.028\n",
      "sequel         0.4277      0.305      1.402      0.167      -0.186       1.041\n",
      "action        -0.8419      0.301     -2.801      0.007      -1.447      -0.237\n",
      "comedy        -0.0720      0.255     -0.282      0.779      -0.586       0.442\n",
      "animated      -0.8965      0.437     -2.050      0.046      -1.776      -0.017\n",
      "horror         0.3233      0.370      0.874      0.386      -0.421       1.067\n",
      "LogTBudget     0.2344      0.187      1.256      0.215      -0.141       0.610\n",
      "const         15.5293      0.675     22.991      0.000      14.170      16.888\n",
      "PC1            0.4183      0.079      5.279      0.000       0.259       0.578\n",
      "PC2            0.1424      0.106      1.341      0.186      -0.071       0.356\n",
      "PC3            0.0091      0.159      0.057      0.955      -0.311       0.329\n",
      "PC4            0.2474      0.180      1.376      0.175      -0.114       0.609\n",
      "==============================================================================\n",
      "Omnibus:                        1.099   Durbin-Watson:                   2.087\n",
      "Prob(Omnibus):                  0.577   Jarque-Bera (JB):                0.502\n",
      "Skew:                          -0.150   Prob(JB):                        0.778\n",
      "Kurtosis:                       3.322   Cond. No.                         179.\n",
      "==============================================================================\n",
      "\n",
      "Notes:\n",
      "[1] Standard Errors assume that the covariance matrix of the errors is correctly specified.\n"
     ]
    }
   ],
   "source": [
    "LinReg5 = sm.OLS(y, df8).fit()\n",
    "print(LinReg5.summary())"
   ]
  },
  {
   "cell_type": "markdown",
   "metadata": {},
   "source": [
    "<b><u> $R^{2}$ AND ADJUSTED $R^{2}$ VALUES </u></b><br>\n",
    "\n",
    "* $R^{2}$ Value = 0.624 <br>\n",
    "* Adjusted $R^{2}$ Value = 0.512 <br>\n",
    "\n",
    "The new $R^{2}$ and Adjusted $R^{2}$ values match the ones that we got in Question 5 (LinReg3). \n",
    "LinReg3 was based on all the independent variables, including the buzz variables.<br>\n",
    "LinReg5 is based on all independent variables, excluding buzz but including the Principal Components based on the Buzz Variables. \n"
   ]
  },
  {
   "cell_type": "markdown",
   "metadata": {},
   "source": [
    "<b><u> VARIABLE SIGNIFICANCE TESTING WITH SIGNIFICANCE AT 0.1 </u></b><br>"
   ]
  },
  {
   "cell_type": "markdown",
   "metadata": {},
   "source": [
    "Assigning the Significance Level as 0.1 and comparing the p-values for each Independent Variable, we find that only PG, ACTION, ANIMATED and PC1 are significant. Rest of the variables display a p-value lower than 0.1 and are considered insignificant.<br>\n",
    "* p-value of PG : 0.062\n",
    "* p-value of ACTION : 0.007\n",
    "* p-value of ANIMATED : 0.046\n",
    "* p-value of PC1 : 0.000\n",
    "\n",
    "PC1 is the only Principal Component that is Significant"
   ]
  },
  {
   "cell_type": "markdown",
   "metadata": {},
   "source": [
    "<b><u> ABOUT THE MODEL </u></b><br>"
   ]
  },
  {
   "cell_type": "markdown",
   "metadata": {},
   "source": [
    "The Linear Regression Model obtained here displays a very close resemblance to the one obtained in Question 5 wherein all the independent variables were used (including buzz variables). The  $R^{2}$, Adjusted  $R^{2}$ and most of the p-values are an exact copy. Except, in this case PC1 is shown to be significant whereas the one in Q5 showed 2 \"buzz\" variables (Transformed Addict and cntwait3) to be significant. <br>\n"
   ]
  },
  {
   "cell_type": "markdown",
   "metadata": {},
   "source": [
    "### REGRESSION BASED ON KAISER'S RULE \n",
    "As per Kaiser's Rule, we only choose Prinicipal Components which have Eigenvalues > 1. <br>\n",
    "In our case, only PC1 has an Eigenvalue greater than 1 and hence only ONE Principal Component is chosen. "
   ]
  },
  {
   "cell_type": "markdown",
   "metadata": {},
   "source": [
    "<b><u> RUNNING A LINEAR REGRESSION </u></b>\n",
    " * <u>STEP 1 : Identify and Specify the Dependent Variable </u><br>\n",
    "   The transformed variable \"box\" is still kept as dependent Variable"
   ]
  },
  {
   "cell_type": "markdown",
   "metadata": {},
   "source": [
    "* <u>STEP 2 : Setup the Independent Variable </u><br>\n",
    "   Assigning only PC1 to be the Independent Variable as per Kaiser's Rule"
   ]
  },
  {
   "cell_type": "code",
   "execution_count": null,
   "metadata": {},
   "outputs": [
    {
     "data": {
      "text/html": [
       "<div>\n",
       "<style scoped>\n",
       "    .dataframe tbody tr th:only-of-type {\n",
       "        vertical-align: middle;\n",
       "    }\n",
       "\n",
       "    .dataframe tbody tr th {\n",
       "        vertical-align: top;\n",
       "    }\n",
       "\n",
       "    .dataframe thead th {\n",
       "        text-align: right;\n",
       "    }\n",
       "</style>\n",
       "<table border=\"1\" class=\"dataframe\">\n",
       "  <thead>\n",
       "    <tr style=\"text-align: right;\">\n",
       "      <th></th>\n",
       "      <th>PC1</th>\n",
       "      <th>const</th>\n",
       "    </tr>\n",
       "  </thead>\n",
       "  <tbody>\n",
       "    <tr>\n",
       "      <th>0</th>\n",
       "      <td>-0.591216</td>\n",
       "      <td>1.0</td>\n",
       "    </tr>\n",
       "    <tr>\n",
       "      <th>1</th>\n",
       "      <td>1.615992</td>\n",
       "      <td>1.0</td>\n",
       "    </tr>\n",
       "    <tr>\n",
       "      <th>2</th>\n",
       "      <td>-1.644376</td>\n",
       "      <td>1.0</td>\n",
       "    </tr>\n",
       "    <tr>\n",
       "      <th>3</th>\n",
       "      <td>2.806445</td>\n",
       "      <td>1.0</td>\n",
       "    </tr>\n",
       "    <tr>\n",
       "      <th>4</th>\n",
       "      <td>0.662450</td>\n",
       "      <td>1.0</td>\n",
       "    </tr>\n",
       "    <tr>\n",
       "      <th>...</th>\n",
       "      <td>...</td>\n",
       "      <td>...</td>\n",
       "    </tr>\n",
       "    <tr>\n",
       "      <th>57</th>\n",
       "      <td>1.745896</td>\n",
       "      <td>1.0</td>\n",
       "    </tr>\n",
       "    <tr>\n",
       "      <th>58</th>\n",
       "      <td>-0.144094</td>\n",
       "      <td>1.0</td>\n",
       "    </tr>\n",
       "    <tr>\n",
       "      <th>59</th>\n",
       "      <td>0.695724</td>\n",
       "      <td>1.0</td>\n",
       "    </tr>\n",
       "    <tr>\n",
       "      <th>60</th>\n",
       "      <td>2.973264</td>\n",
       "      <td>1.0</td>\n",
       "    </tr>\n",
       "    <tr>\n",
       "      <th>61</th>\n",
       "      <td>-0.003581</td>\n",
       "      <td>1.0</td>\n",
       "    </tr>\n",
       "  </tbody>\n",
       "</table>\n",
       "<p>62 rows × 2 columns</p>\n",
       "</div>"
      ],
      "text/plain": [
       "         PC1  const\n",
       "0  -0.591216    1.0\n",
       "1   1.615992    1.0\n",
       "2  -1.644376    1.0\n",
       "3   2.806445    1.0\n",
       "4   0.662450    1.0\n",
       "..       ...    ...\n",
       "57  1.745896    1.0\n",
       "58 -0.144094    1.0\n",
       "59  0.695724    1.0\n",
       "60  2.973264    1.0\n",
       "61 -0.003581    1.0\n",
       "\n",
       "[62 rows x 2 columns]"
      ]
     },
     "metadata": {},
     "output_type": "display_data"
    }
   ],
   "source": [
    "df9 = PCS4df.copy()\n",
    "df9 = df9.drop(['PC2','PC3','PC4'], axis = 1)\n",
    "df9"
   ]
  },
  {
   "cell_type": "markdown",
   "metadata": {},
   "source": [
    "* <u>STEP 3 : Run the Linear Regression </u><br>\n",
    "\n",
    "  "
   ]
  },
  {
   "cell_type": "code",
   "execution_count": null,
   "metadata": {},
   "outputs": [
    {
     "name": "stdout",
     "output_type": "stream",
     "text": [
      "                            OLS Regression Results                            \n",
      "==============================================================================\n",
      "Dep. Variable:                LogTBox   R-squared:                       0.413\n",
      "Model:                            OLS   Adj. R-squared:                  0.403\n",
      "Method:                 Least Squares   F-statistic:                     42.15\n",
      "Date:                Sat, 10 Sep 2022   Prob (F-statistic):           1.82e-08\n",
      "Time:                        21:11:26   Log-Likelihood:                -67.334\n",
      "No. Observations:                  62   AIC:                             138.7\n",
      "Df Residuals:                      60   BIC:                             142.9\n",
      "Df Model:                           1                                         \n",
      "Covariance Type:            nonrobust                                         \n",
      "==============================================================================\n",
      "                 coef    std err          t      P>|t|      [0.025      0.975]\n",
      "------------------------------------------------------------------------------\n",
      "PC1            0.3898      0.060      6.492      0.000       0.270       0.510\n",
      "const         16.4799      0.093    178.077      0.000      16.295      16.665\n",
      "==============================================================================\n",
      "Omnibus:                        8.041   Durbin-Watson:                   1.707\n",
      "Prob(Omnibus):                  0.018   Jarque-Bera (JB):                7.308\n",
      "Skew:                          -0.765   Prob(JB):                       0.0259\n",
      "Kurtosis:                       3.700   Cond. No.                         1.54\n",
      "==============================================================================\n",
      "\n",
      "Notes:\n",
      "[1] Standard Errors assume that the covariance matrix of the errors is correctly specified.\n"
     ]
    }
   ],
   "source": [
    "LinReg6 = sm.OLS(y, df9).fit()\n",
    "print(LinReg6.summary())\n"
   ]
  },
  {
   "cell_type": "markdown",
   "metadata": {},
   "source": [
    "<b><u> $R^{2}$ AND ADJUSTED $R^{2}$ VALUES </u></b><br>\n",
    "\n",
    "Both the $R^{2}$ value and the Adjusted $R^{2}$ values decreased in comparison to the previous Linear Regression <br>\n",
    "* $R^{2}$ Value = 0.413 <br>\n",
    "* Adjusted $R^{2}$ Value = 0.403 <br>\n",
    "\n",
    "Principal Component 1 accounts for 40.3% of the variance in the Box Office Revenue Collected"
   ]
  },
  {
   "cell_type": "markdown",
   "metadata": {},
   "source": [
    "<b><u> VARIABLE SIGNIFICANCE TESTING WITH SIGNIFICANCE AT 0.1 </u></b><br>"
   ]
  },
  {
   "cell_type": "markdown",
   "metadata": {},
   "source": [
    "Assigning the Significance Level as 0.1 and comparing the p-values for PC1, we find that PC1 is STILL significant.  <br>\n",
    "* p-value of PC1 : 0.000"
   ]
  },
  {
   "cell_type": "markdown",
   "metadata": {},
   "source": [
    "### LINEAR REGRESSION BASED ON PRINCIPAL COMPONENT SELECTION USING EXPLAINED VARIANCE THRESHOLD OF 60%\n",
    "\n",
    "The Linear Regression Model created for a Principal Component selected using a Variance Threshold of 60% will be the same as the one created based on Kaiser's Rule as both rules allow the selection of ONLY the FIRST Principal Component. Therefore, the Linear Regression Model will be the same. "
   ]
  },
  {
   "cell_type": "markdown",
   "metadata": {},
   "source": [
    "### LINEAR REGRESSION BASED ON PRINCIPAL COMPONENT SELECTION USING EXPLAINED VARIANCE THRESHOLD OF 70%\n",
    "\n",
    "The FIRST and SECOND Principal Component together account for 79.73% of the total variation which is greater than the Threshold Percentage.\n",
    "Therefore, the FIRST TWO COMPONENTS will be chosen when the Threshold is set to 70% (PC1 and PC2).\n"
   ]
  },
  {
   "cell_type": "markdown",
   "metadata": {},
   "source": [
    "<b><u> RUNNING A LINEAR REGRESSION </u></b>\n",
    " * <u>STEP 1 : Identify and Specify the Dependent Variable </u><br>\n",
    "   The transformed variable \"box\" is still kept as dependent Variable"
   ]
  },
  {
   "cell_type": "markdown",
   "metadata": {},
   "source": [
    "* <u>STEP 2 : Setup the Independent Variable </u><br>\n",
    "   Assigning PC1 and PC2 to be the Independent Variables as per PC Selection using Explained Variance Threshold of 70%"
   ]
  },
  {
   "cell_type": "code",
   "execution_count": null,
   "metadata": {},
   "outputs": [
    {
     "data": {
      "text/html": [
       "<div>\n",
       "<style scoped>\n",
       "    .dataframe tbody tr th:only-of-type {\n",
       "        vertical-align: middle;\n",
       "    }\n",
       "\n",
       "    .dataframe tbody tr th {\n",
       "        vertical-align: top;\n",
       "    }\n",
       "\n",
       "    .dataframe thead th {\n",
       "        text-align: right;\n",
       "    }\n",
       "</style>\n",
       "<table border=\"1\" class=\"dataframe\">\n",
       "  <thead>\n",
       "    <tr style=\"text-align: right;\">\n",
       "      <th></th>\n",
       "      <th>PC1</th>\n",
       "      <th>PC2</th>\n",
       "      <th>const</th>\n",
       "    </tr>\n",
       "  </thead>\n",
       "  <tbody>\n",
       "    <tr>\n",
       "      <th>0</th>\n",
       "      <td>-0.591216</td>\n",
       "      <td>1.120419</td>\n",
       "      <td>1.0</td>\n",
       "    </tr>\n",
       "    <tr>\n",
       "      <th>1</th>\n",
       "      <td>1.615992</td>\n",
       "      <td>0.286131</td>\n",
       "      <td>1.0</td>\n",
       "    </tr>\n",
       "    <tr>\n",
       "      <th>2</th>\n",
       "      <td>-1.644376</td>\n",
       "      <td>0.055875</td>\n",
       "      <td>1.0</td>\n",
       "    </tr>\n",
       "    <tr>\n",
       "      <th>3</th>\n",
       "      <td>2.806445</td>\n",
       "      <td>-0.742427</td>\n",
       "      <td>1.0</td>\n",
       "    </tr>\n",
       "    <tr>\n",
       "      <th>4</th>\n",
       "      <td>0.662450</td>\n",
       "      <td>-1.017549</td>\n",
       "      <td>1.0</td>\n",
       "    </tr>\n",
       "    <tr>\n",
       "      <th>...</th>\n",
       "      <td>...</td>\n",
       "      <td>...</td>\n",
       "      <td>...</td>\n",
       "    </tr>\n",
       "    <tr>\n",
       "      <th>57</th>\n",
       "      <td>1.745896</td>\n",
       "      <td>0.049794</td>\n",
       "      <td>1.0</td>\n",
       "    </tr>\n",
       "    <tr>\n",
       "      <th>58</th>\n",
       "      <td>-0.144094</td>\n",
       "      <td>2.643883</td>\n",
       "      <td>1.0</td>\n",
       "    </tr>\n",
       "    <tr>\n",
       "      <th>59</th>\n",
       "      <td>0.695724</td>\n",
       "      <td>1.874180</td>\n",
       "      <td>1.0</td>\n",
       "    </tr>\n",
       "    <tr>\n",
       "      <th>60</th>\n",
       "      <td>2.973264</td>\n",
       "      <td>0.158961</td>\n",
       "      <td>1.0</td>\n",
       "    </tr>\n",
       "    <tr>\n",
       "      <th>61</th>\n",
       "      <td>-0.003581</td>\n",
       "      <td>0.489791</td>\n",
       "      <td>1.0</td>\n",
       "    </tr>\n",
       "  </tbody>\n",
       "</table>\n",
       "<p>62 rows × 3 columns</p>\n",
       "</div>"
      ],
      "text/plain": [
       "         PC1       PC2  const\n",
       "0  -0.591216  1.120419    1.0\n",
       "1   1.615992  0.286131    1.0\n",
       "2  -1.644376  0.055875    1.0\n",
       "3   2.806445 -0.742427    1.0\n",
       "4   0.662450 -1.017549    1.0\n",
       "..       ...       ...    ...\n",
       "57  1.745896  0.049794    1.0\n",
       "58 -0.144094  2.643883    1.0\n",
       "59  0.695724  1.874180    1.0\n",
       "60  2.973264  0.158961    1.0\n",
       "61 -0.003581  0.489791    1.0\n",
       "\n",
       "[62 rows x 3 columns]"
      ]
     },
     "metadata": {},
     "output_type": "display_data"
    }
   ],
   "source": [
    "df10 = PCS4df.copy()\n",
    "df10 = df10.drop(['PC3','PC4'], axis = 1)\n",
    "df10"
   ]
  },
  {
   "cell_type": "markdown",
   "metadata": {},
   "source": [
    "* <u>STEP 3 : Run the Linear Regression </u><br>\n",
    "\n",
    "  "
   ]
  },
  {
   "cell_type": "code",
   "execution_count": null,
   "metadata": {},
   "outputs": [
    {
     "name": "stdout",
     "output_type": "stream",
     "text": [
      "                            OLS Regression Results                            \n",
      "==============================================================================\n",
      "Dep. Variable:                LogTBox   R-squared:                       0.416\n",
      "Model:                            OLS   Adj. R-squared:                  0.397\n",
      "Method:                 Least Squares   F-statistic:                     21.05\n",
      "Date:                Sat, 10 Sep 2022   Prob (F-statistic):           1.26e-07\n",
      "Time:                        23:22:39   Log-Likelihood:                -67.135\n",
      "No. Observations:                  62   AIC:                             140.3\n",
      "Df Residuals:                      59   BIC:                             146.7\n",
      "Df Model:                           2                                         \n",
      "Covariance Type:            nonrobust                                         \n",
      "==============================================================================\n",
      "                 coef    std err          t      P>|t|      [0.025      0.975]\n",
      "------------------------------------------------------------------------------\n",
      "PC1            0.3898      0.060      6.459      0.000       0.269       0.511\n",
      "PC2            0.0657      0.107      0.617      0.540      -0.147       0.279\n",
      "const         16.4799      0.093    177.156      0.000      16.294      16.666\n",
      "==============================================================================\n",
      "Omnibus:                        8.607   Durbin-Watson:                   1.700\n",
      "Prob(Omnibus):                  0.014   Jarque-Bera (JB):                7.973\n",
      "Skew:                          -0.805   Prob(JB):                       0.0186\n",
      "Kurtosis:                       3.705   Cond. No.                         1.76\n",
      "==============================================================================\n",
      "\n",
      "Notes:\n",
      "[1] Standard Errors assume that the covariance matrix of the errors is correctly specified.\n"
     ]
    }
   ],
   "source": [
    "LinReg7 = sm.OLS(y, df10).fit()\n",
    "print(LinReg7.summary())\n"
   ]
  },
  {
   "cell_type": "markdown",
   "metadata": {},
   "source": [
    "<b><u> $R^{2}$ AND ADJUSTED $R^{2}$ VALUES </u></b><br>\n",
    "\n",
    "While the $R^{2}$ value increased by a minute value, the Adjusted $R^{2}$ value has a significant decrease in comparison to the previous Linear Regression involving only PC1 <br>\n",
    "* $R^{2}$ Value = 0.416 <br>\n",
    "* Adjusted $R^{2}$ Value = 0.397 <br>\n"
   ]
  },
  {
   "cell_type": "markdown",
   "metadata": {},
   "source": [
    "<b><u> VARIABLE SIGNIFICANCE TESTING WITH SIGNIFICANCE AT 0.1 </u></b><br>"
   ]
  },
  {
   "cell_type": "markdown",
   "metadata": {},
   "source": [
    "Assigning the Significance Level as 0.1 and comparing the p-values for PC1 and PC2, we find that ONLY PC1 is STILL significant. p-value of PC2 is well above the the significance level. <br>\n",
    "* p-value of PC1 : 0.000\n",
    "* p-value of PC2 : 0.540\n",
    "\n"
   ]
  },
  {
   "cell_type": "markdown",
   "metadata": {},
   "source": [
    "### LINEAR REGRESSION BASED ON PRINCIPAL COMPONENT SELECTION USING EXPLAINED VARIANCE THRESHOLD OF 80%\n",
    "\n",
    "The FIRST, SECOND and THIRD Principal Components together account for 91.04% of the total variation which is greater than the Threshold Percentage.\n",
    "Therefore, the FIRST THREE COMPONENTS will be chosen when the Threshold is set to 80% (PC1, PC2 and PC3)."
   ]
  },
  {
   "cell_type": "markdown",
   "metadata": {},
   "source": [
    "<b><u> RUNNING A LINEAR REGRESSION </u></b>\n",
    " * <u>STEP 1 : Identify and Specify the Dependent Variable </u><br>\n",
    "   The transformed variable \"box\" is still kept as dependent Variable"
   ]
  },
  {
   "cell_type": "markdown",
   "metadata": {},
   "source": [
    "* <u>STEP 2 : Setup the Independent Variable </u><br>\n",
    "   Assigning PC1, PC2 and PC3 to be the Independent Variables as per PC Selection using Explained Variance Threshold of 80%"
   ]
  },
  {
   "cell_type": "code",
   "execution_count": null,
   "metadata": {},
   "outputs": [
    {
     "data": {
      "text/html": [
       "<div>\n",
       "<style scoped>\n",
       "    .dataframe tbody tr th:only-of-type {\n",
       "        vertical-align: middle;\n",
       "    }\n",
       "\n",
       "    .dataframe tbody tr th {\n",
       "        vertical-align: top;\n",
       "    }\n",
       "\n",
       "    .dataframe thead th {\n",
       "        text-align: right;\n",
       "    }\n",
       "</style>\n",
       "<table border=\"1\" class=\"dataframe\">\n",
       "  <thead>\n",
       "    <tr style=\"text-align: right;\">\n",
       "      <th></th>\n",
       "      <th>PC1</th>\n",
       "      <th>PC2</th>\n",
       "      <th>PC3</th>\n",
       "      <th>const</th>\n",
       "    </tr>\n",
       "  </thead>\n",
       "  <tbody>\n",
       "    <tr>\n",
       "      <th>0</th>\n",
       "      <td>-0.591216</td>\n",
       "      <td>1.120419</td>\n",
       "      <td>-0.739575</td>\n",
       "      <td>1.0</td>\n",
       "    </tr>\n",
       "    <tr>\n",
       "      <th>1</th>\n",
       "      <td>1.615992</td>\n",
       "      <td>0.286131</td>\n",
       "      <td>0.763648</td>\n",
       "      <td>1.0</td>\n",
       "    </tr>\n",
       "    <tr>\n",
       "      <th>2</th>\n",
       "      <td>-1.644376</td>\n",
       "      <td>0.055875</td>\n",
       "      <td>0.700252</td>\n",
       "      <td>1.0</td>\n",
       "    </tr>\n",
       "    <tr>\n",
       "      <th>3</th>\n",
       "      <td>2.806445</td>\n",
       "      <td>-0.742427</td>\n",
       "      <td>-0.229837</td>\n",
       "      <td>1.0</td>\n",
       "    </tr>\n",
       "    <tr>\n",
       "      <th>4</th>\n",
       "      <td>0.662450</td>\n",
       "      <td>-1.017549</td>\n",
       "      <td>-0.274396</td>\n",
       "      <td>1.0</td>\n",
       "    </tr>\n",
       "    <tr>\n",
       "      <th>...</th>\n",
       "      <td>...</td>\n",
       "      <td>...</td>\n",
       "      <td>...</td>\n",
       "      <td>...</td>\n",
       "    </tr>\n",
       "    <tr>\n",
       "      <th>57</th>\n",
       "      <td>1.745896</td>\n",
       "      <td>0.049794</td>\n",
       "      <td>0.073061</td>\n",
       "      <td>1.0</td>\n",
       "    </tr>\n",
       "    <tr>\n",
       "      <th>58</th>\n",
       "      <td>-0.144094</td>\n",
       "      <td>2.643883</td>\n",
       "      <td>1.190069</td>\n",
       "      <td>1.0</td>\n",
       "    </tr>\n",
       "    <tr>\n",
       "      <th>59</th>\n",
       "      <td>0.695724</td>\n",
       "      <td>1.874180</td>\n",
       "      <td>-0.769292</td>\n",
       "      <td>1.0</td>\n",
       "    </tr>\n",
       "    <tr>\n",
       "      <th>60</th>\n",
       "      <td>2.973264</td>\n",
       "      <td>0.158961</td>\n",
       "      <td>0.468080</td>\n",
       "      <td>1.0</td>\n",
       "    </tr>\n",
       "    <tr>\n",
       "      <th>61</th>\n",
       "      <td>-0.003581</td>\n",
       "      <td>0.489791</td>\n",
       "      <td>-0.728942</td>\n",
       "      <td>1.0</td>\n",
       "    </tr>\n",
       "  </tbody>\n",
       "</table>\n",
       "<p>62 rows × 4 columns</p>\n",
       "</div>"
      ],
      "text/plain": [
       "         PC1       PC2       PC3  const\n",
       "0  -0.591216  1.120419 -0.739575    1.0\n",
       "1   1.615992  0.286131  0.763648    1.0\n",
       "2  -1.644376  0.055875  0.700252    1.0\n",
       "3   2.806445 -0.742427 -0.229837    1.0\n",
       "4   0.662450 -1.017549 -0.274396    1.0\n",
       "..       ...       ...       ...    ...\n",
       "57  1.745896  0.049794  0.073061    1.0\n",
       "58 -0.144094  2.643883  1.190069    1.0\n",
       "59  0.695724  1.874180 -0.769292    1.0\n",
       "60  2.973264  0.158961  0.468080    1.0\n",
       "61 -0.003581  0.489791 -0.728942    1.0\n",
       "\n",
       "[62 rows x 4 columns]"
      ]
     },
     "metadata": {},
     "output_type": "display_data"
    }
   ],
   "source": [
    "df11 = PCS4df.copy()\n",
    "df11 = df11.drop(['PC4'], axis = 1)\n",
    "df11"
   ]
  },
  {
   "cell_type": "markdown",
   "metadata": {},
   "source": [
    "* <u>STEP 3 : Run the Linear Regression </u><br>\n",
    "  "
   ]
  },
  {
   "cell_type": "code",
   "execution_count": null,
   "metadata": {},
   "outputs": [
    {
     "name": "stdout",
     "output_type": "stream",
     "text": [
      "                            OLS Regression Results                            \n",
      "==============================================================================\n",
      "Dep. Variable:                LogTBox   R-squared:                       0.419\n",
      "Model:                            OLS   Adj. R-squared:                  0.389\n",
      "Method:                 Least Squares   F-statistic:                     13.93\n",
      "Date:                Sun, 11 Sep 2022   Prob (F-statistic):           5.96e-07\n",
      "Time:                        00:14:42   Log-Likelihood:                -67.006\n",
      "No. Observations:                  62   AIC:                             142.0\n",
      "Df Residuals:                      58   BIC:                             150.5\n",
      "Df Model:                           3                                         \n",
      "Covariance Type:            nonrobust                                         \n",
      "==============================================================================\n",
      "                 coef    std err          t      P>|t|      [0.025      0.975]\n",
      "------------------------------------------------------------------------------\n",
      "PC1            0.3898      0.061      6.417      0.000       0.268       0.511\n",
      "PC2            0.0657      0.107      0.613      0.542      -0.149       0.280\n",
      "PC3            0.0690      0.140      0.491      0.625      -0.212       0.350\n",
      "const         16.4799      0.094    176.013      0.000      16.293      16.667\n",
      "==============================================================================\n",
      "Omnibus:                        9.389   Durbin-Watson:                   1.682\n",
      "Prob(Omnibus):                  0.009   Jarque-Bera (JB):                8.920\n",
      "Skew:                          -0.857   Prob(JB):                       0.0116\n",
      "Kurtosis:                       3.717   Cond. No.                         2.31\n",
      "==============================================================================\n",
      "\n",
      "Notes:\n",
      "[1] Standard Errors assume that the covariance matrix of the errors is correctly specified.\n"
     ]
    }
   ],
   "source": [
    "LinReg8 = sm.OLS(y, df11).fit()\n",
    "print(LinReg8.summary())\n"
   ]
  },
  {
   "cell_type": "markdown",
   "metadata": {},
   "source": [
    "<b><u> $R^{2}$ AND ADJUSTED $R^{2}$ VALUES </u></b><br>\n",
    "\n",
    "While the $R^{2}$ value increased by a minute value, the Adjusted $R^{2}$ value has a significant decrease in comparison to the previous Linear Regression involving PC1 and PC2 <br>\n",
    "* $R^{2}$ Value = 0.419 <br>\n",
    "* Adjusted $R^{2}$ Value = 0.389 <br>\n"
   ]
  },
  {
   "cell_type": "markdown",
   "metadata": {},
   "source": [
    "<b><u> VARIABLE SIGNIFICANCE TESTING WITH SIGNIFICANCE AT 0.1 </u></b><br>"
   ]
  },
  {
   "cell_type": "markdown",
   "metadata": {},
   "source": [
    "Assigning the Significance Level as 0.1 and comparing the p-values for PC1, PC2and PC3; we find that ONLY PC1 is STILL significant. P-value of PC2 and PC3 are well above the significance level. <br>\n",
    "* p-value of PC1 : 0.000\n",
    "* p-value of PC2 : 0.542\n",
    "* p-value of PC3 : 0.625\n",
    "\n",
    "\n"
   ]
  },
  {
   "cell_type": "markdown",
   "metadata": {},
   "source": [
    "### LINEAR REGRESSION BASED ON PRINCIPAL COMPONENT SELECTION USING EXPLAINED VARIANCE THRESHOLD OF 90%\n",
    "\n",
    "The FIRST, SECOND and THIRD Principal Components together account for 91.04% of the total variation which is greater than the Threshold Percentage.\n",
    "Therefore, the FIRST THREE COMPONENTS will be chosen when the Threshold is set to 90% (PC1, PC2 and PC3).\n",
    "\n",
    "Since the same Principal Components are being used, we can say that the Linear Regression Model based on PC Selection using Explained Variance Threshold of 90% will be the exact same as the previous model. "
   ]
  },
  {
   "cell_type": "markdown",
   "metadata": {},
   "source": [
    "### LINEAR REGRESSION USING ALL 4 PRINCIPAL COMPONENTS"
   ]
  },
  {
   "cell_type": "markdown",
   "metadata": {},
   "source": [
    "<b><u> RUNNING A LINEAR REGRESSION </u></b>\n",
    " * <u>STEP 1 : Identify and Specify the Dependent Variable </u><br>\n",
    "   The transformed variable \"box\" is still kept as dependent Variable"
   ]
  },
  {
   "cell_type": "markdown",
   "metadata": {},
   "source": [
    "* <u>STEP 2 : Setup the Independent Variable </u><br>\n",
    "   Assigning PC1, PC2, PC3 and PC4 to be the Independent Variables."
   ]
  },
  {
   "cell_type": "code",
   "execution_count": null,
   "metadata": {},
   "outputs": [
    {
     "data": {
      "text/html": [
       "<div>\n",
       "<style scoped>\n",
       "    .dataframe tbody tr th:only-of-type {\n",
       "        vertical-align: middle;\n",
       "    }\n",
       "\n",
       "    .dataframe tbody tr th {\n",
       "        vertical-align: top;\n",
       "    }\n",
       "\n",
       "    .dataframe thead th {\n",
       "        text-align: right;\n",
       "    }\n",
       "</style>\n",
       "<table border=\"1\" class=\"dataframe\">\n",
       "  <thead>\n",
       "    <tr style=\"text-align: right;\">\n",
       "      <th></th>\n",
       "      <th>PC1</th>\n",
       "      <th>PC2</th>\n",
       "      <th>PC3</th>\n",
       "      <th>PC4</th>\n",
       "      <th>const</th>\n",
       "    </tr>\n",
       "  </thead>\n",
       "  <tbody>\n",
       "    <tr>\n",
       "      <th>0</th>\n",
       "      <td>-0.591216</td>\n",
       "      <td>1.120419</td>\n",
       "      <td>-0.739575</td>\n",
       "      <td>0.994585</td>\n",
       "      <td>1.0</td>\n",
       "    </tr>\n",
       "    <tr>\n",
       "      <th>1</th>\n",
       "      <td>1.615992</td>\n",
       "      <td>0.286131</td>\n",
       "      <td>0.763648</td>\n",
       "      <td>1.010510</td>\n",
       "      <td>1.0</td>\n",
       "    </tr>\n",
       "    <tr>\n",
       "      <th>2</th>\n",
       "      <td>-1.644376</td>\n",
       "      <td>0.055875</td>\n",
       "      <td>0.700252</td>\n",
       "      <td>-0.432820</td>\n",
       "      <td>1.0</td>\n",
       "    </tr>\n",
       "    <tr>\n",
       "      <th>3</th>\n",
       "      <td>2.806445</td>\n",
       "      <td>-0.742427</td>\n",
       "      <td>-0.229837</td>\n",
       "      <td>0.737825</td>\n",
       "      <td>1.0</td>\n",
       "    </tr>\n",
       "    <tr>\n",
       "      <th>4</th>\n",
       "      <td>0.662450</td>\n",
       "      <td>-1.017549</td>\n",
       "      <td>-0.274396</td>\n",
       "      <td>0.350745</td>\n",
       "      <td>1.0</td>\n",
       "    </tr>\n",
       "    <tr>\n",
       "      <th>...</th>\n",
       "      <td>...</td>\n",
       "      <td>...</td>\n",
       "      <td>...</td>\n",
       "      <td>...</td>\n",
       "      <td>...</td>\n",
       "    </tr>\n",
       "    <tr>\n",
       "      <th>57</th>\n",
       "      <td>1.745896</td>\n",
       "      <td>0.049794</td>\n",
       "      <td>0.073061</td>\n",
       "      <td>0.625717</td>\n",
       "      <td>1.0</td>\n",
       "    </tr>\n",
       "    <tr>\n",
       "      <th>58</th>\n",
       "      <td>-0.144094</td>\n",
       "      <td>2.643883</td>\n",
       "      <td>1.190069</td>\n",
       "      <td>-0.034036</td>\n",
       "      <td>1.0</td>\n",
       "    </tr>\n",
       "    <tr>\n",
       "      <th>59</th>\n",
       "      <td>0.695724</td>\n",
       "      <td>1.874180</td>\n",
       "      <td>-0.769292</td>\n",
       "      <td>0.163062</td>\n",
       "      <td>1.0</td>\n",
       "    </tr>\n",
       "    <tr>\n",
       "      <th>60</th>\n",
       "      <td>2.973264</td>\n",
       "      <td>0.158961</td>\n",
       "      <td>0.468080</td>\n",
       "      <td>-0.692292</td>\n",
       "      <td>1.0</td>\n",
       "    </tr>\n",
       "    <tr>\n",
       "      <th>61</th>\n",
       "      <td>-0.003581</td>\n",
       "      <td>0.489791</td>\n",
       "      <td>-0.728942</td>\n",
       "      <td>0.402951</td>\n",
       "      <td>1.0</td>\n",
       "    </tr>\n",
       "  </tbody>\n",
       "</table>\n",
       "<p>62 rows × 5 columns</p>\n",
       "</div>"
      ],
      "text/plain": [
       "         PC1       PC2       PC3       PC4  const\n",
       "0  -0.591216  1.120419 -0.739575  0.994585    1.0\n",
       "1   1.615992  0.286131  0.763648  1.010510    1.0\n",
       "2  -1.644376  0.055875  0.700252 -0.432820    1.0\n",
       "3   2.806445 -0.742427 -0.229837  0.737825    1.0\n",
       "4   0.662450 -1.017549 -0.274396  0.350745    1.0\n",
       "..       ...       ...       ...       ...    ...\n",
       "57  1.745896  0.049794  0.073061  0.625717    1.0\n",
       "58 -0.144094  2.643883  1.190069 -0.034036    1.0\n",
       "59  0.695724  1.874180 -0.769292  0.163062    1.0\n",
       "60  2.973264  0.158961  0.468080 -0.692292    1.0\n",
       "61 -0.003581  0.489791 -0.728942  0.402951    1.0\n",
       "\n",
       "[62 rows x 5 columns]"
      ]
     },
     "metadata": {},
     "output_type": "display_data"
    }
   ],
   "source": [
    "df12 = PCS4df.copy()\n",
    "df12"
   ]
  },
  {
   "cell_type": "markdown",
   "metadata": {},
   "source": [
    "* <u>STEP 3 : Run the Linear Regression </u><br>\n",
    "  "
   ]
  },
  {
   "cell_type": "code",
   "execution_count": null,
   "metadata": {},
   "outputs": [
    {
     "name": "stdout",
     "output_type": "stream",
     "text": [
      "                            OLS Regression Results                            \n",
      "==============================================================================\n",
      "Dep. Variable:                LogTBox   R-squared:                       0.473\n",
      "Model:                            OLS   Adj. R-squared:                  0.436\n",
      "Method:                 Least Squares   F-statistic:                     12.78\n",
      "Date:                Sun, 11 Sep 2022   Prob (F-statistic):           1.72e-07\n",
      "Time:                        00:24:54   Log-Likelihood:                -63.980\n",
      "No. Observations:                  62   AIC:                             138.0\n",
      "Df Residuals:                      57   BIC:                             148.6\n",
      "Df Model:                           4                                         \n",
      "Covariance Type:            nonrobust                                         \n",
      "==============================================================================\n",
      "                 coef    std err          t      P>|t|      [0.025      0.975]\n",
      "------------------------------------------------------------------------------\n",
      "PC1            0.3898      0.058      6.680      0.000       0.273       0.507\n",
      "PC2            0.0657      0.103      0.638      0.526      -0.141       0.272\n",
      "PC3            0.0690      0.135      0.512      0.611      -0.201       0.339\n",
      "PC4            0.3662      0.151      2.418      0.019       0.063       0.669\n",
      "const         16.4799      0.090    183.218      0.000      16.300      16.660\n",
      "==============================================================================\n",
      "Omnibus:                        4.480   Durbin-Watson:                   1.691\n",
      "Prob(Omnibus):                  0.106   Jarque-Bera (JB):                3.513\n",
      "Skew:                          -0.496   Prob(JB):                        0.173\n",
      "Kurtosis:                       3.613   Cond. No.                         2.60\n",
      "==============================================================================\n",
      "\n",
      "Notes:\n",
      "[1] Standard Errors assume that the covariance matrix of the errors is correctly specified.\n"
     ]
    }
   ],
   "source": [
    "LinReg9 = sm.OLS(y, df12).fit()\n",
    "print(LinReg9.summary())\n"
   ]
  },
  {
   "cell_type": "markdown",
   "metadata": {},
   "source": [
    "<b><u> $R^{2}$ AND ADJUSTED $R^{2}$ VALUES </u></b><br>\n",
    "\n",
    "Both the $R^{2}$ value and the Adjusted $R^{2}$ value have a significant increase in comparison to the previous Linear Regression involving PC1, PC2 and PC3 <br>\n",
    "* $R^{2}$ Value = 0.473 <br>\n",
    "* Adjusted $R^{2}$ Value = 0.436 <br>\n"
   ]
  },
  {
   "cell_type": "markdown",
   "metadata": {},
   "source": [
    "<b><u> VARIABLE SIGNIFICANCE TESTING WITH SIGNIFICANCE AT 0.1 </u></b><br>"
   ]
  },
  {
   "cell_type": "markdown",
   "metadata": {},
   "source": [
    "Assigning the Significance Level as 0.1 and comparing the p-values for PC1, PC2, PC3 and PC4; we find that both PC1 and PC4 are STILL significant. P-value of PC2 and PC3 is well above the significance level. <br>\n",
    "* p-value of PC1 : 0.000\n",
    "* p-value of PC2 : 0.526\n",
    "* p-value of PC3 : 0.611\n",
    "* p-value of PC4 : 0.019\n"
   ]
  },
  {
   "cell_type": "markdown",
   "metadata": {},
   "source": [
    "### RECOMMENDATIONS"
   ]
  },
  {
   "cell_type": "markdown",
   "metadata": {},
   "source": [
    "#### Values obtained from different Linear Regression Models are listed below:\n",
    "\n",
    "<b><u> 1) PRINCIPAL COMPONENT SELECTION BASED ON KAISER'S RULE AND USING EXPLAINED VARIANCE THRESHOLD OF 60% </u></b>\n",
    "* $R^{2}$ Value = 0.473 <br>\n",
    "* Adjusted $R^{2}$ Value = 0.436 <br>\n",
    "* p-value of PC1 = 0.000 <br>\n",
    "* Significant Variable = 1 (PC1)\n",
    "\n",
    "<b><u> 2) PRINCIPAL COMPONENT SELECTION USING EXPLAINED VARIANCE THRESHOLD OF 70% </u></b>\n",
    "* $R^{2}$ Value = 0.416 <br>\n",
    "* Adjusted $R^{2}$ Value = 0.397 <br>\n",
    "* p-value of PC1 = 0.000 <br>\n",
    "* p-value of PC2 = 0.540 <br>\n",
    "* Significant Variable = 1 (PC1)\n",
    "\n",
    "<b><u> 3) PRINCIPAL COMPONENT SELECTION USING EXPLAINED VARIANCE THRESHOLD OF 80% and 90% </u></b>\n",
    "* $R^{2}$ Value = 0.419 <br>\n",
    "* Adjusted $R^{2}$ Value = 0.389 <br>\n",
    "* p-value of PC1 = 0.000 <br>\n",
    "* p-value of PC2 = 0.542 <br>\n",
    "* p-value of PC3 = 0.625 <br>\n",
    "* Significant Variable = 1 (PC1)\n",
    "\n",
    "<b><u> 4) USING ALL PRINCIPAL COMPONENTS </u></b>\n",
    "* $R^{2}$ Value = 0.473 <br>\n",
    "* Adjusted $R^{2}$ Value = 0.436 <br>\n",
    "* p-value of PC1 = 0.000 <br>\n",
    "* p-value of PC2 = 0.526 <br>\n",
    "* p-value of PC3 = 0.611 <br>\n",
    "* p-value of PC4 = 0.019 <br>\n",
    "* Significant Variables = 2 (PC1 and PC4)\n"
   ]
  },
  {
   "cell_type": "markdown",
   "metadata": {},
   "source": [
    "Based on the values listed above, I would recommend the Linear Regression Model using all the Principal Components as the most ideal one. As despite having more terms, the Adjusted $R^{2}$ value is significantly higher compared to others even though the value often decreases to accommodate an increase in the number of terms. <br>\n",
    "It also shows that PC4 is still a Significant Variable as well and is the only model with 2 Significant Variables. \n",
    "Hence, I would recommend the Linear Regression Model using all the Principal Components. "
   ]
  },
  {
   "cell_type": "code",
   "execution_count": null,
   "metadata": {},
   "outputs": [
    {
     "data": {
      "text/html": [
       "<div>\n",
       "<style scoped>\n",
       "    .dataframe tbody tr th:only-of-type {\n",
       "        vertical-align: middle;\n",
       "    }\n",
       "\n",
       "    .dataframe tbody tr th {\n",
       "        vertical-align: top;\n",
       "    }\n",
       "\n",
       "    .dataframe thead th {\n",
       "        text-align: right;\n",
       "    }\n",
       "</style>\n",
       "<table border=\"1\" class=\"dataframe\">\n",
       "  <thead>\n",
       "    <tr style=\"text-align: right;\">\n",
       "      <th></th>\n",
       "      <th>starpowr</th>\n",
       "      <th>LogTBudget</th>\n",
       "      <th>LogTAddict</th>\n",
       "      <th>LogTCmngS</th>\n",
       "      <th>LogTFandango</th>\n",
       "      <th>cntwait3</th>\n",
       "    </tr>\n",
       "  </thead>\n",
       "  <tbody>\n",
       "    <tr>\n",
       "      <th>0</th>\n",
       "      <td>19.83</td>\n",
       "      <td>3.332205</td>\n",
       "      <td>8.969605</td>\n",
       "      <td>2.302585</td>\n",
       "      <td>4.969813</td>\n",
       "      <td>0.49</td>\n",
       "    </tr>\n",
       "    <tr>\n",
       "      <th>1</th>\n",
       "      <td>32.69</td>\n",
       "      <td>5.010635</td>\n",
       "      <td>8.654692</td>\n",
       "      <td>4.077537</td>\n",
       "      <td>6.148468</td>\n",
       "      <td>0.79</td>\n",
       "    </tr>\n",
       "    <tr>\n",
       "      <th>2</th>\n",
       "      <td>15.69</td>\n",
       "      <td>3.621671</td>\n",
       "      <td>6.745236</td>\n",
       "      <td>3.178054</td>\n",
       "      <td>5.288267</td>\n",
       "      <td>0.36</td>\n",
       "    </tr>\n",
       "    <tr>\n",
       "      <th>3</th>\n",
       "      <td>23.62</td>\n",
       "      <td>5.298317</td>\n",
       "      <td>9.637306</td>\n",
       "      <td>4.532599</td>\n",
       "      <td>7.483244</td>\n",
       "      <td>0.76</td>\n",
       "    </tr>\n",
       "    <tr>\n",
       "      <th>4</th>\n",
       "      <td>19.02</td>\n",
       "      <td>5.010635</td>\n",
       "      <td>8.428198</td>\n",
       "      <td>3.401197</td>\n",
       "      <td>7.011214</td>\n",
       "      <td>0.53</td>\n",
       "    </tr>\n",
       "    <tr>\n",
       "      <th>...</th>\n",
       "      <td>...</td>\n",
       "      <td>...</td>\n",
       "      <td>...</td>\n",
       "      <td>...</td>\n",
       "      <td>...</td>\n",
       "      <td>...</td>\n",
       "    </tr>\n",
       "    <tr>\n",
       "      <th>57</th>\n",
       "      <td>34.86</td>\n",
       "      <td>5.164786</td>\n",
       "      <td>9.114435</td>\n",
       "      <td>4.219508</td>\n",
       "      <td>6.472346</td>\n",
       "      <td>0.70</td>\n",
       "    </tr>\n",
       "    <tr>\n",
       "      <th>58</th>\n",
       "      <td>4.25</td>\n",
       "      <td>3.091042</td>\n",
       "      <td>8.066521</td>\n",
       "      <td>4.543295</td>\n",
       "      <td>3.663562</td>\n",
       "      <td>0.62</td>\n",
       "    </tr>\n",
       "    <tr>\n",
       "      <th>59</th>\n",
       "      <td>5.96</td>\n",
       "      <td>2.815409</td>\n",
       "      <td>9.774745</td>\n",
       "      <td>4.060443</td>\n",
       "      <td>4.804021</td>\n",
       "      <td>0.53</td>\n",
       "    </tr>\n",
       "    <tr>\n",
       "      <th>60</th>\n",
       "      <td>16.62</td>\n",
       "      <td>4.442651</td>\n",
       "      <td>9.269521</td>\n",
       "      <td>6.386879</td>\n",
       "      <td>6.744059</td>\n",
       "      <td>0.71</td>\n",
       "    </tr>\n",
       "    <tr>\n",
       "      <th>61</th>\n",
       "      <td>16.09</td>\n",
       "      <td>2.302585</td>\n",
       "      <td>8.956824</td>\n",
       "      <td>3.091042</td>\n",
       "      <td>5.662960</td>\n",
       "      <td>0.47</td>\n",
       "    </tr>\n",
       "  </tbody>\n",
       "</table>\n",
       "<p>62 rows × 6 columns</p>\n",
       "</div>"
      ],
      "text/plain": [
       "    starpowr  LogTBudget  LogTAddict  LogTCmngS  LogTFandango  cntwait3\n",
       "0      19.83    3.332205    8.969605   2.302585      4.969813      0.49\n",
       "1      32.69    5.010635    8.654692   4.077537      6.148468      0.79\n",
       "2      15.69    3.621671    6.745236   3.178054      5.288267      0.36\n",
       "3      23.62    5.298317    9.637306   4.532599      7.483244      0.76\n",
       "4      19.02    5.010635    8.428198   3.401197      7.011214      0.53\n",
       "..       ...         ...         ...        ...           ...       ...\n",
       "57     34.86    5.164786    9.114435   4.219508      6.472346      0.70\n",
       "58      4.25    3.091042    8.066521   4.543295      3.663562      0.62\n",
       "59      5.96    2.815409    9.774745   4.060443      4.804021      0.53\n",
       "60     16.62    4.442651    9.269521   6.386879      6.744059      0.71\n",
       "61     16.09    2.302585    8.956824   3.091042      5.662960      0.47\n",
       "\n",
       "[62 rows x 6 columns]"
      ]
     },
     "metadata": {},
     "output_type": "display_data"
    }
   ],
   "source": [
    "#Creating a dataframe with the transformed & untransformed buzz variables and continuous variables (LogTBudget and starpowr)\n",
    "df13 = df4.copy()\n",
    "df13 = df13.drop(['G','PG','PG13','sequel','action','comedy','animated','horror','const'], axis = 1)\n",
    "df13"
   ]
  },
  {
   "cell_type": "markdown",
   "metadata": {},
   "source": [
    "<b><u> PRINCIPAL COMPONENT ANALYSIS OF \"BUZZ\" AND CONTINUOUS VARIABLES </u></b>"
   ]
  },
  {
   "cell_type": "markdown",
   "metadata": {},
   "source": [
    "* <u>STEP 1 : Standardize the Data</u><br>\n",
    "   "
   ]
  },
  {
   "cell_type": "code",
   "execution_count": null,
   "metadata": {},
   "outputs": [],
   "source": [
    "sc = prep.StandardScaler()\n",
    "sBuCon = pd.DataFrame(sc.fit_transform(df13), columns = df13.columns)\n",
    "\n",
    "# calculate the sample standard deviation of the result and scale by dividing with it \n",
    "\n",
    "sc.scale_ = np.std(sBuCon, axis=0, ddof=1).to_list()\n",
    "sBuCon = sBuCon/sc.scale_"
   ]
  },
  {
   "cell_type": "code",
   "execution_count": null,
   "metadata": {},
   "outputs": [
    {
     "data": {
      "text/html": [
       "<div>\n",
       "<style scoped>\n",
       "    .dataframe tbody tr th:only-of-type {\n",
       "        vertical-align: middle;\n",
       "    }\n",
       "\n",
       "    .dataframe tbody tr th {\n",
       "        vertical-align: top;\n",
       "    }\n",
       "\n",
       "    .dataframe thead th {\n",
       "        text-align: right;\n",
       "    }\n",
       "</style>\n",
       "<table border=\"1\" class=\"dataframe\">\n",
       "  <thead>\n",
       "    <tr style=\"text-align: right;\">\n",
       "      <th></th>\n",
       "      <th>starpowr</th>\n",
       "      <th>LogTBudget</th>\n",
       "      <th>LogTAddict</th>\n",
       "      <th>LogTCmngS</th>\n",
       "      <th>LogTFandango</th>\n",
       "      <th>cntwait3</th>\n",
       "    </tr>\n",
       "  </thead>\n",
       "  <tbody>\n",
       "    <tr>\n",
       "      <th>0</th>\n",
       "      <td>0.202644</td>\n",
       "      <td>-0.525394</td>\n",
       "      <td>0.803754</td>\n",
       "      <td>-1.090305</td>\n",
       "      <td>-1.141892</td>\n",
       "      <td>0.048398</td>\n",
       "    </tr>\n",
       "    <tr>\n",
       "      <th>1</th>\n",
       "      <td>1.651723</td>\n",
       "      <td>1.780188</td>\n",
       "      <td>0.487415</td>\n",
       "      <td>0.393889</td>\n",
       "      <td>0.220592</td>\n",
       "      <td>1.963723</td>\n",
       "    </tr>\n",
       "    <tr>\n",
       "      <th>2</th>\n",
       "      <td>-0.263855</td>\n",
       "      <td>-0.127768</td>\n",
       "      <td>-1.430683</td>\n",
       "      <td>-0.358249</td>\n",
       "      <td>-0.773771</td>\n",
       "      <td>-0.781576</td>\n",
       "    </tr>\n",
       "    <tr>\n",
       "      <th>3</th>\n",
       "      <td>0.629705</td>\n",
       "      <td>2.175363</td>\n",
       "      <td>1.474477</td>\n",
       "      <td>0.774406</td>\n",
       "      <td>1.763547</td>\n",
       "      <td>1.772190</td>\n",
       "    </tr>\n",
       "    <tr>\n",
       "      <th>4</th>\n",
       "      <td>0.111373</td>\n",
       "      <td>1.780188</td>\n",
       "      <td>0.259896</td>\n",
       "      <td>-0.171659</td>\n",
       "      <td>1.217896</td>\n",
       "      <td>0.303775</td>\n",
       "    </tr>\n",
       "    <tr>\n",
       "      <th>...</th>\n",
       "      <td>...</td>\n",
       "      <td>...</td>\n",
       "      <td>...</td>\n",
       "      <td>...</td>\n",
       "      <td>...</td>\n",
       "      <td>...</td>\n",
       "    </tr>\n",
       "    <tr>\n",
       "      <th>57</th>\n",
       "      <td>1.896241</td>\n",
       "      <td>1.991937</td>\n",
       "      <td>0.949239</td>\n",
       "      <td>0.512603</td>\n",
       "      <td>0.594984</td>\n",
       "      <td>1.389125</td>\n",
       "    </tr>\n",
       "    <tr>\n",
       "      <th>58</th>\n",
       "      <td>-1.552927</td>\n",
       "      <td>-0.856667</td>\n",
       "      <td>-0.103418</td>\n",
       "      <td>0.783350</td>\n",
       "      <td>-2.651873</td>\n",
       "      <td>0.878372</td>\n",
       "    </tr>\n",
       "    <tr>\n",
       "      <th>59</th>\n",
       "      <td>-1.360242</td>\n",
       "      <td>-1.235292</td>\n",
       "      <td>1.612538</td>\n",
       "      <td>0.379595</td>\n",
       "      <td>-1.333542</td>\n",
       "      <td>0.303775</td>\n",
       "    </tr>\n",
       "    <tr>\n",
       "      <th>60</th>\n",
       "      <td>-0.159062</td>\n",
       "      <td>0.999975</td>\n",
       "      <td>1.105027</td>\n",
       "      <td>2.324933</td>\n",
       "      <td>0.909074</td>\n",
       "      <td>1.452970</td>\n",
       "    </tr>\n",
       "    <tr>\n",
       "      <th>61</th>\n",
       "      <td>-0.218783</td>\n",
       "      <td>-1.939734</td>\n",
       "      <td>0.790914</td>\n",
       "      <td>-0.431007</td>\n",
       "      <td>-0.340638</td>\n",
       "      <td>-0.079290</td>\n",
       "    </tr>\n",
       "  </tbody>\n",
       "</table>\n",
       "<p>62 rows × 6 columns</p>\n",
       "</div>"
      ],
      "text/plain": [
       "    starpowr  LogTBudget  LogTAddict  LogTCmngS  LogTFandango  cntwait3\n",
       "0   0.202644   -0.525394    0.803754  -1.090305     -1.141892  0.048398\n",
       "1   1.651723    1.780188    0.487415   0.393889      0.220592  1.963723\n",
       "2  -0.263855   -0.127768   -1.430683  -0.358249     -0.773771 -0.781576\n",
       "3   0.629705    2.175363    1.474477   0.774406      1.763547  1.772190\n",
       "4   0.111373    1.780188    0.259896  -0.171659      1.217896  0.303775\n",
       "..       ...         ...         ...        ...           ...       ...\n",
       "57  1.896241    1.991937    0.949239   0.512603      0.594984  1.389125\n",
       "58 -1.552927   -0.856667   -0.103418   0.783350     -2.651873  0.878372\n",
       "59 -1.360242   -1.235292    1.612538   0.379595     -1.333542  0.303775\n",
       "60 -0.159062    0.999975    1.105027   2.324933      0.909074  1.452970\n",
       "61 -0.218783   -1.939734    0.790914  -0.431007     -0.340638 -0.079290\n",
       "\n",
       "[62 rows x 6 columns]"
      ]
     },
     "metadata": {},
     "output_type": "display_data"
    }
   ],
   "source": [
    "sBuCon"
   ]
  },
  {
   "cell_type": "markdown",
   "metadata": {},
   "source": [
    "* <u>STEP 2 : Perform PCA on the 4 independent 'buzz' variables</u><br>\n",
    "   "
   ]
  },
  {
   "cell_type": "code",
   "execution_count": null,
   "metadata": {},
   "outputs": [],
   "source": [
    "PCA6 = PCA()\n",
    "# fit calculates parameters; transform applies the transformation\n",
    "PCS6 = PCA6.fit_transform(sBuCon)"
   ]
  },
  {
   "cell_type": "code",
   "execution_count": null,
   "metadata": {},
   "outputs": [
    {
     "name": "stdout",
     "output_type": "stream",
     "text": [
      "\n",
      "Eigen Values of Correlation Matrix\n",
      "[2.83823382 1.45442671 0.70232212 0.44299297 0.34049709 0.2215273 ]\n"
     ]
    }
   ],
   "source": [
    "print('\\nEigen Values of Correlation Matrix')\n",
    "print(PCA6.explained_variance_)"
   ]
  },
  {
   "cell_type": "code",
   "execution_count": null,
   "metadata": {},
   "outputs": [
    {
     "data": {
      "text/plain": [
       "[]"
      ]
     },
     "metadata": {},
     "output_type": "display_data"
    },
    {
     "data": {
      "image/png": "[encoded data removed]",
      "text/plain": [
       "<Figure size 360x360 with 1 Axes>"
      ]
     },
     "metadata": {},
     "output_type": "display_data"
    }
   ],
   "source": [
    "plt.figure(figsize=(5, 5))\n",
    "plt.xlabel(\"Principal Component\")\n",
    "plt.ylabel(\"Eigen Values\")\n",
    "plt.xticks(np.arange(1, 7)) \n",
    "plt.plot(np.arange(1,7), PCA6.explained_variance_)\n",
    "plt.title(\"Scree Plot for Eigen Values\")\n",
    "plt.scatter(np.arange(1,7), PCA6.explained_variance_, s = 100)\n",
    "plt.plot()"
   ]
  },
  {
   "cell_type": "markdown",
   "metadata": {},
   "source": [
    "<b><u> FRACTION OF VARIANCE EXPLAINED BY EACH COMPONENT </u></b>"
   ]
  },
  {
   "cell_type": "code",
   "execution_count": null,
   "metadata": {},
   "outputs": [
    {
     "name": "stdout",
     "output_type": "stream",
     "text": [
      "\n",
      "Explained Variance Ratios\n"
     ]
    },
    {
     "data": {
      "text/plain": [
       "array([0.47303897, 0.24240445, 0.11705369, 0.07383216, 0.05674951,\n",
       "       0.03692122])"
      ]
     },
     "metadata": {},
     "output_type": "display_data"
    }
   ],
   "source": [
    "print('\\nExplained Variance Ratios')\n",
    "ExpVarPCA6 = PCA6.explained_variance_ratio_\n",
    "ExpVarPCA6"
   ]
  },
  {
   "cell_type": "markdown",
   "metadata": {},
   "source": [
    "Principal Component 1 (PC1) : Explains 47.30% of the variance <i>(Approximate Fraction : 1/2) </i><br>\n",
    "Principal Component 2 (PC2) : Explains 24.24% of the variance <i>(Approximate Fraction : 1/4) </i><br>\n",
    "Principal Component 3 (PC3) : Explains 11.70% of the variance <i>(Approximate Fraction : 1/10) </i><br>\n",
    "Principal Component 4 (PC4) : Explains 7.38% of the variance <i>(Approximate Fraction : 1/15) </i><br>\n",
    "Principal Component 5 (PC5) : Explains 5.67% of the variance <i>(Approximate Fraction : 1/20) </i><br>\n",
    "    Principal Component 6 (PC6) : Explains 3.69% of the variance <i>(Approximate Fraction : 1/30)</i> <br>"
   ]
  },
  {
   "cell_type": "code",
   "execution_count": null,
   "metadata": {},
   "outputs": [
    {
     "data": {
      "text/plain": [
       "1.0"
      ]
     },
     "metadata": {},
     "output_type": "display_data"
    }
   ],
   "source": [
    "1/2 + 1/4 + 1/10 + 1/15 + 1/20 + 1/30 # Fraction explained by each Principal Component adds up to 1."
   ]
  },
  {
   "cell_type": "code",
   "execution_count": null,
   "metadata": {},
   "outputs": [
    {
     "name": "stdout",
     "output_type": "stream",
     "text": [
      "\n",
      "Cumulative sum of the explained variance\n",
      "[0.47303897 0.71544342 0.83249711 0.90632927 0.96307878 1.        ]\n"
     ]
    }
   ],
   "source": [
    "ExpVarSum6 = np.cumsum(ExpVarPCA6)\n",
    "print('\\nCumulative sum of the explained variance')\n",
    "print(ExpVarSum6)"
   ]
  },
  {
   "cell_type": "code",
   "execution_count": null,
   "metadata": {},
   "outputs": [
    {
     "data": {
      "image/png": "[encoded data removed]",
      "text/plain": [
       "<Figure size 432x432 with 1 Axes>"
      ]
     },
     "metadata": {},
     "output_type": "display_data"
    }
   ],
   "source": [
    "# plot of explained variance\n",
    "plt.figure(figsize=(6, 6))\n",
    "plt.xlabel(\"Principal Component\")\n",
    "plt.ylabel(\"Proportion of Variance\")\n",
    "plt.xticks(np.arange(1, 7)) \n",
    "plt.plot(np.arange(1,7), ExpVarPCA6,label='Proportion of Variance Explained')\n",
    "plt.scatter(np.arange(1,7), ExpVarPCA6, s = 100)\n",
    "plt.scatter(np.arange(1,7), ExpVarSum6, s = 50)\n",
    "plt.title(\"Scree Plot of Variance Explained and Cumulative Variance Explained\")\n",
    "plt.plot(np.arange(1,7), ExpVarSum6,label='Cumulative Variance Explained')\n",
    "plt.legend(bbox_to_anchor=(0.29, 0.7), loc='upper left', borderaxespad=0, fancybox = True, framealpha = 0)\n",
    "plt.show()"
   ]
  },
  {
   "cell_type": "code",
   "execution_count": null,
   "metadata": {},
   "outputs": [
    {
     "name": "stdout",
     "output_type": "stream",
     "text": [
      "\n",
      "Principal Components\n",
      "[[-0.24354716 -0.434969   -0.40048435 -0.42290479 -0.3804649  -0.51720116]\n",
      " [-0.66977854 -0.40782831  0.40376224  0.45426654 -0.11178511  0.05652287]\n",
      " [ 0.24917939  0.07030385  0.19651156 -0.0031937  -0.88743515  0.32680094]\n",
      " [ 0.1751475  -0.11952631  0.79075495 -0.48920846  0.11412638 -0.27819718]\n",
      " [-0.53090539  0.78223141  0.07914513 -0.16018966 -0.15227696 -0.22614273]\n",
      " [ 0.34271552  0.11559798  0.08008871  0.5914369  -0.13782705 -0.7028336 ]]\n",
      "\n",
      "Explained Variance Proportion by Component\n",
      "[0.47303897 0.24240445 0.11705369 0.07383216 0.05674951 0.03692122]\n",
      "\n",
      "Eigen Values of Correlation Matrix\n",
      "[2.83823382 1.45442671 0.70232212 0.44299297 0.34049709 0.2215273 ]\n"
     ]
    }
   ],
   "source": [
    "# print components\n",
    "print('\\nPrincipal Components')\n",
    "print(PCA6.components_)\n",
    "print('\\nExplained Variance Proportion by Component')\n",
    "print(ExpVarPCA6)\n",
    "print('\\nEigen Values of Correlation Matrix')\n",
    "print(PCA6.explained_variance_)"
   ]
  },
  {
   "cell_type": "code",
   "execution_count": null,
   "metadata": {},
   "outputs": [
    {
     "data": {
      "text/html": [
       "<div>\n",
       "<style scoped>\n",
       "    .dataframe tbody tr th:only-of-type {\n",
       "        vertical-align: middle;\n",
       "    }\n",
       "\n",
       "    .dataframe tbody tr th {\n",
       "        vertical-align: top;\n",
       "    }\n",
       "\n",
       "    .dataframe thead th {\n",
       "        text-align: right;\n",
       "    }\n",
       "</style>\n",
       "<table border=\"1\" class=\"dataframe\">\n",
       "  <thead>\n",
       "    <tr style=\"text-align: right;\">\n",
       "      <th></th>\n",
       "      <th>PC1</th>\n",
       "      <th>PC2</th>\n",
       "      <th>PC3</th>\n",
       "      <th>PC4</th>\n",
       "      <th>PC5</th>\n",
       "      <th>PC6</th>\n",
       "    </tr>\n",
       "  </thead>\n",
       "  <tbody>\n",
       "    <tr>\n",
       "      <th>0</th>\n",
       "      <td>0.727800</td>\n",
       "      <td>0.038162</td>\n",
       "      <td>1.204158</td>\n",
       "      <td>1.123466</td>\n",
       "      <td>-0.117357</td>\n",
       "      <td>-0.448392</td>\n",
       "    </tr>\n",
       "    <tr>\n",
       "      <th>1</th>\n",
       "      <td>-2.637946</td>\n",
       "      <td>-1.370233</td>\n",
       "      <td>1.077239</td>\n",
       "      <td>-0.251879</td>\n",
       "      <td>0.013417</td>\n",
       "      <td>-0.366720</td>\n",
       "    </tr>\n",
       "    <tr>\n",
       "      <th>2</th>\n",
       "      <td>1.542932</td>\n",
       "      <td>-0.469245</td>\n",
       "      <td>0.076520</td>\n",
       "      <td>-0.857879</td>\n",
       "      <td>0.278870</td>\n",
       "      <td>0.224304</td>\n",
       "    </tr>\n",
       "    <tr>\n",
       "      <th>3</th>\n",
       "      <td>-3.605130</td>\n",
       "      <td>-0.458782</td>\n",
       "      <td>-0.388755</td>\n",
       "      <td>0.345631</td>\n",
       "      <td>0.690654</td>\n",
       "      <td>-0.445240</td>\n",
       "    </tr>\n",
       "    <tr>\n",
       "      <th>4</th>\n",
       "      <td>-1.453419</td>\n",
       "      <td>-0.892621</td>\n",
       "      <td>-0.777003</td>\n",
       "      <td>0.150703</td>\n",
       "      <td>1.127304</td>\n",
       "      <td>-0.218117</td>\n",
       "    </tr>\n",
       "    <tr>\n",
       "      <th>...</th>\n",
       "      <td>...</td>\n",
       "      <td>...</td>\n",
       "      <td>...</td>\n",
       "      <td>...</td>\n",
       "      <td>...</td>\n",
       "      <td>...</td>\n",
       "    </tr>\n",
       "    <tr>\n",
       "      <th>57</th>\n",
       "      <td>-2.870020</td>\n",
       "      <td>-1.454298</td>\n",
       "      <td>0.723402</td>\n",
       "      <td>0.275331</td>\n",
       "      <td>0.139703</td>\n",
       "      <td>0.201002</td>\n",
       "    </tr>\n",
       "    <tr>\n",
       "      <th>58</th>\n",
       "      <td>1.015619</td>\n",
       "      <td>2.049672</td>\n",
       "      <td>2.170410</td>\n",
       "      <td>-1.181606</td>\n",
       "      <td>0.225858</td>\n",
       "      <td>-0.428071</td>\n",
       "    </tr>\n",
       "    <tr>\n",
       "      <th>59</th>\n",
       "      <td>0.412522</td>\n",
       "      <td>2.404608</td>\n",
       "      <td>1.172586</td>\n",
       "      <td>0.762127</td>\n",
       "      <td>-0.042936</td>\n",
       "      <td>-0.285026</td>\n",
       "    </tr>\n",
       "    <tr>\n",
       "      <th>60</th>\n",
       "      <td>-2.919339</td>\n",
       "      <td>1.181531</td>\n",
       "      <td>-0.091520</td>\n",
       "      <td>-0.711417</td>\n",
       "      <td>0.114676</td>\n",
       "      <td>0.378143</td>\n",
       "    </tr>\n",
       "    <tr>\n",
       "      <th>61</th>\n",
       "      <td>0.933144</td>\n",
       "      <td>1.094761</td>\n",
       "      <td>0.242295</td>\n",
       "      <td>1.012984</td>\n",
       "      <td>-1.199726</td>\n",
       "      <td>-0.388103</td>\n",
       "    </tr>\n",
       "  </tbody>\n",
       "</table>\n",
       "<p>62 rows × 6 columns</p>\n",
       "</div>"
      ],
      "text/plain": [
       "         PC1       PC2       PC3       PC4       PC5       PC6\n",
       "0   0.727800  0.038162  1.204158  1.123466 -0.117357 -0.448392\n",
       "1  -2.637946 -1.370233  1.077239 -0.251879  0.013417 -0.366720\n",
       "2   1.542932 -0.469245  0.076520 -0.857879  0.278870  0.224304\n",
       "3  -3.605130 -0.458782 -0.388755  0.345631  0.690654 -0.445240\n",
       "4  -1.453419 -0.892621 -0.777003  0.150703  1.127304 -0.218117\n",
       "..       ...       ...       ...       ...       ...       ...\n",
       "57 -2.870020 -1.454298  0.723402  0.275331  0.139703  0.201002\n",
       "58  1.015619  2.049672  2.170410 -1.181606  0.225858 -0.428071\n",
       "59  0.412522  2.404608  1.172586  0.762127 -0.042936 -0.285026\n",
       "60 -2.919339  1.181531 -0.091520 -0.711417  0.114676  0.378143\n",
       "61  0.933144  1.094761  0.242295  1.012984 -1.199726 -0.388103\n",
       "\n",
       "[62 rows x 6 columns]"
      ]
     },
     "metadata": {},
     "output_type": "display_data"
    }
   ],
   "source": [
    "PCS6df = pd.DataFrame(PCS6, columns = ['PC1', 'PC2', 'PC3', 'PC4','PC5','PC6'])\n",
    "PCS6df"
   ]
  },
  {
   "cell_type": "markdown",
   "metadata": {},
   "source": [
    "<b><u> PRINCIPAL COMPONENT SELECTION AS PER KAISER'S RULE </u></b>\n",
    "\n",
    "As per Kaiser's Rule, we only choose Prinicipal Components which have Eigenvalues > 1. <br>\n",
    "In our case, only PC1 and PC2 have an Eigenvalue greater than 1 and hence only TWO Principal Component are chosen. "
   ]
  },
  {
   "cell_type": "code",
   "execution_count": null,
   "metadata": {},
   "outputs": [
    {
     "data": {
      "text/plain": [
       "array([0.47303897, 0.71544342, 0.83249711, 0.90632927, 0.96307878,\n",
       "       1.        ])"
      ]
     },
     "metadata": {},
     "output_type": "display_data"
    }
   ],
   "source": [
    "ExpVarSum6"
   ]
  },
  {
   "cell_type": "markdown",
   "metadata": {},
   "source": [
    "<b><u> PRINCIPAL COMPONENT SELECTION USING VARIANCE THRESHOLDS OF 60%, 70%, 80% and 90% </u></b>\n",
    "\n",
    "As per choosing principal components based on Thresholds, a percentage value is set for the thresholdand and the first 'k' Principal Components that account for a percentage of total variation <b>greater</b> than this threshold are chosen. \n",
    "\n",
    "* <u>STEP 1 : Threshold = 60%</u><br>\n",
    "The FIRST and SECOND Principal Components together account for 71.54% of the total variation which is slightly greater than the Threshold. <br>\n",
    "Therefore, only the FIRST TWO COMPONENTS will be chosen when the Threshold is set to 60% (PC1 and PC2).\n",
    "\n",
    "\n",
    "* <u>STEP 2 : Threshold = 70%</u><br>\n",
    "The FIRST and SECOND Principal Components together account for 71.54% of the total variation which is slightly greater than the Threshold. <br>\n",
    "Therefore, the FIRST TWO COMPONENTS will be chosen when the Threshold is set to 70% (PC1 and PC2).\n",
    "\n",
    "* <u>STEP 3 : Threshold = 80%</u><br>\n",
    "The FIRST, SECOND and THIRD Principal Components together account for 83.24% of the total variation which is greater than the Threshold Percentage. <br>\n",
    "Therefore, the FIRST THREE COMPONENTS will be chosen when the Threshold is set to 80% (PC1, PC2 and PC3).\n",
    "\n",
    "\n",
    "* <u>STEP 4 : Threshold = 90%</u><br>\n",
    "The FIRST, SECOND, THIRD and FOURTH Principal Components together account for 90.63% of the total variation which is slightly greater than the Threshold Percentage. <br>\n",
    "Therefore, the FIRST FOUR COMPONENTS will be chosen when the Threshold is set to 90% (PC1, PC2, PC3 and PC4).\n",
    "\n",
    "      \n",
    "   \n",
    "\n"
   ]
  },
  {
   "cell_type": "markdown",
   "metadata": {},
   "source": [
    "### REGRESSION BASED ON KAISER'S RULE \n",
    "As per Kaiser's Rule, we only choose Prinicipal Components which have Eigenvalues > 1. <br>\n",
    "In our case, PC1 and PC2 have an Eigenvalue greater than 1 and hence only TWO Principal Components are chosen. "
   ]
  },
  {
   "cell_type": "markdown",
   "metadata": {},
   "source": [
    "<b><u> RUNNING A LINEAR REGRESSION </u></b>\n",
    " * <u>STEP 1 : Identify and Specify the Dependent Variable </u><br>\n",
    "   The transformed variable \"box\" is still kept as dependent Variable"
   ]
  },
  {
   "cell_type": "markdown",
   "metadata": {},
   "source": [
    "* <u>STEP 2 : Setup the Independent Variable </u><br>\n",
    "   Assigning PC1 and PC2 as the Independent Variable as per Kaiser's Rule"
   ]
  },
  {
   "cell_type": "code",
   "execution_count": null,
   "metadata": {},
   "outputs": [
    {
     "data": {
      "text/html": [
       "<div>\n",
       "<style scoped>\n",
       "    .dataframe tbody tr th:only-of-type {\n",
       "        vertical-align: middle;\n",
       "    }\n",
       "\n",
       "    .dataframe tbody tr th {\n",
       "        vertical-align: top;\n",
       "    }\n",
       "\n",
       "    .dataframe thead th {\n",
       "        text-align: right;\n",
       "    }\n",
       "</style>\n",
       "<table border=\"1\" class=\"dataframe\">\n",
       "  <thead>\n",
       "    <tr style=\"text-align: right;\">\n",
       "      <th></th>\n",
       "      <th>PC1</th>\n",
       "      <th>PC2</th>\n",
       "      <th>const</th>\n",
       "    </tr>\n",
       "  </thead>\n",
       "  <tbody>\n",
       "    <tr>\n",
       "      <th>0</th>\n",
       "      <td>0.727800</td>\n",
       "      <td>0.038162</td>\n",
       "      <td>1.0</td>\n",
       "    </tr>\n",
       "    <tr>\n",
       "      <th>1</th>\n",
       "      <td>-2.637946</td>\n",
       "      <td>-1.370233</td>\n",
       "      <td>1.0</td>\n",
       "    </tr>\n",
       "    <tr>\n",
       "      <th>2</th>\n",
       "      <td>1.542932</td>\n",
       "      <td>-0.469245</td>\n",
       "      <td>1.0</td>\n",
       "    </tr>\n",
       "    <tr>\n",
       "      <th>3</th>\n",
       "      <td>-3.605130</td>\n",
       "      <td>-0.458782</td>\n",
       "      <td>1.0</td>\n",
       "    </tr>\n",
       "    <tr>\n",
       "      <th>4</th>\n",
       "      <td>-1.453419</td>\n",
       "      <td>-0.892621</td>\n",
       "      <td>1.0</td>\n",
       "    </tr>\n",
       "    <tr>\n",
       "      <th>...</th>\n",
       "      <td>...</td>\n",
       "      <td>...</td>\n",
       "      <td>...</td>\n",
       "    </tr>\n",
       "    <tr>\n",
       "      <th>57</th>\n",
       "      <td>-2.870020</td>\n",
       "      <td>-1.454298</td>\n",
       "      <td>1.0</td>\n",
       "    </tr>\n",
       "    <tr>\n",
       "      <th>58</th>\n",
       "      <td>1.015619</td>\n",
       "      <td>2.049672</td>\n",
       "      <td>1.0</td>\n",
       "    </tr>\n",
       "    <tr>\n",
       "      <th>59</th>\n",
       "      <td>0.412522</td>\n",
       "      <td>2.404608</td>\n",
       "      <td>1.0</td>\n",
       "    </tr>\n",
       "    <tr>\n",
       "      <th>60</th>\n",
       "      <td>-2.919339</td>\n",
       "      <td>1.181531</td>\n",
       "      <td>1.0</td>\n",
       "    </tr>\n",
       "    <tr>\n",
       "      <th>61</th>\n",
       "      <td>0.933144</td>\n",
       "      <td>1.094761</td>\n",
       "      <td>1.0</td>\n",
       "    </tr>\n",
       "  </tbody>\n",
       "</table>\n",
       "<p>62 rows × 3 columns</p>\n",
       "</div>"
      ],
      "text/plain": [
       "         PC1       PC2  const\n",
       "0   0.727800  0.038162    1.0\n",
       "1  -2.637946 -1.370233    1.0\n",
       "2   1.542932 -0.469245    1.0\n",
       "3  -3.605130 -0.458782    1.0\n",
       "4  -1.453419 -0.892621    1.0\n",
       "..       ...       ...    ...\n",
       "57 -2.870020 -1.454298    1.0\n",
       "58  1.015619  2.049672    1.0\n",
       "59  0.412522  2.404608    1.0\n",
       "60 -2.919339  1.181531    1.0\n",
       "61  0.933144  1.094761    1.0\n",
       "\n",
       "[62 rows x 3 columns]"
      ]
     },
     "metadata": {},
     "output_type": "display_data"
    }
   ],
   "source": [
    "df14 = PCS6df.copy()\n",
    "df14 = df14.drop(['PC3','PC4','PC5','PC6'], axis = 1)\n",
    "df14['const'] = 1.0\n",
    "df14"
   ]
  },
  {
   "cell_type": "markdown",
   "metadata": {},
   "source": [
    "* <u>STEP 3 : Run the Linear Regression </u><br>\n",
    "  "
   ]
  },
  {
   "cell_type": "code",
   "execution_count": null,
   "metadata": {},
   "outputs": [
    {
     "name": "stdout",
     "output_type": "stream",
     "text": [
      "                            OLS Regression Results                            \n",
      "==============================================================================\n",
      "Dep. Variable:                LogTBox   R-squared:                       0.431\n",
      "Model:                            OLS   Adj. R-squared:                  0.411\n",
      "Method:                 Least Squares   F-statistic:                     22.31\n",
      "Date:                Sun, 11 Sep 2022   Prob (F-statistic):           6.10e-08\n",
      "Time:                        19:15:16   Log-Likelihood:                -66.372\n",
      "No. Observations:                  62   AIC:                             138.7\n",
      "Df Residuals:                      59   BIC:                             145.1\n",
      "Df Model:                           2                                         \n",
      "Covariance Type:            nonrobust                                         \n",
      "==============================================================================\n",
      "                 coef    std err          t      P>|t|      [0.025      0.975]\n",
      "------------------------------------------------------------------------------\n",
      "PC1           -0.3632      0.055     -6.605      0.000      -0.473      -0.253\n",
      "PC2            0.0762      0.077      0.992      0.325      -0.077       0.230\n",
      "const         16.4799      0.092    179.349      0.000      16.296      16.664\n",
      "==============================================================================\n",
      "Omnibus:                        9.150   Durbin-Watson:                   1.673\n",
      "Prob(Omnibus):                  0.010   Jarque-Bera (JB):                8.658\n",
      "Skew:                          -0.801   Prob(JB):                       0.0132\n",
      "Kurtosis:                       3.886   Cond. No.                         1.67\n",
      "==============================================================================\n",
      "\n",
      "Notes:\n",
      "[1] Standard Errors assume that the covariance matrix of the errors is correctly specified.\n"
     ]
    }
   ],
   "source": [
    "LinReg10 = sm.OLS(y, df14).fit()\n",
    "print(LinReg10.summary())\n"
   ]
  },
  {
   "cell_type": "markdown",
   "metadata": {},
   "source": [
    "<b><u> $R^{2}$ AND ADJUSTED $R^{2}$ VALUES </u></b><br>\n",
    "\n",
    "* $R^{2}$ Value = 0.431 <br>\n",
    "* Adjusted $R^{2}$ Value = 0.411 <br>\n"
   ]
  },
  {
   "cell_type": "markdown",
   "metadata": {},
   "source": [
    "<b><u> VARIABLE SIGNIFICANCE TESTING WITH SIGNIFICANCE AT 0.1 </u></b><br>"
   ]
  },
  {
   "cell_type": "markdown",
   "metadata": {},
   "source": [
    "Assigning the Significance Level as 0.1 and comparing the p-values for PC1 and PC2, we find that ONLY PC1 is STILL significant.  <br>\n",
    "* p-value of PC1 : 0.000\n",
    "* p-value of PC2 : 0.325\n",
    "\n",
    "\n"
   ]
  },
  {
   "cell_type": "markdown",
   "metadata": {},
   "source": [
    "### LINEAR REGRESSION BASED ON PRINCIPAL COMPONENT SELECTION USING EXPLAINED VARIANCE THRESHOLD OF 60% and 70%\n",
    "The FIRST and SECOND Principal Components together account for 71.54% of the total variation which is greater than the Threshold.\n",
    "Therefore, the FIRST TWO COMPONENTS will be chosen when the Threshold is set to 60% and 70% (PC1 and PC2).\n",
    "\n",
    "The Linear Regression Model created for a Principal Component selected using a Variance Threshold of 60% and 70% will be the same as the one created based on Kaiser's Rule as both rules allow the selection of ONLY the FIRST 2 Principal Components (PC1 and PC2). Therefore, the Linear Regression Model will be the same. "
   ]
  },
  {
   "cell_type": "markdown",
   "metadata": {},
   "source": [
    "### LINEAR REGRESSION BASED ON PRINCIPAL COMPONENT SELECTION USING EXPLAINED VARIANCE THRESHOLD OF 80%\n",
    "\n",
    "The FIRST, SECOND and THIRD Principal Components together account for 83.24% of the total variation which is greater than the Threshold Percentage.\n",
    "Therefore, the FIRST THREE COMPONENTS will be chosen when the Threshold is set to 80% (PC1, PC2 and PC3).\n"
   ]
  },
  {
   "cell_type": "markdown",
   "metadata": {},
   "source": [
    "<b><u> RUNNING A LINEAR REGRESSION </u></b>\n",
    " * <u>STEP 1 : Identify and Specify the Dependent Variable </u><br>\n",
    "   The transformed variable \"box\" is still kept as dependent Variable"
   ]
  },
  {
   "cell_type": "markdown",
   "metadata": {},
   "source": [
    "* <u>STEP 2 : Setup the Independent Variable </u><br>\n",
    "   Assigning PC1, PC2 and PC3 to be the Independent Variables as per PC Selection using Explained Variance Threshold of 80%"
   ]
  },
  {
   "cell_type": "code",
   "execution_count": null,
   "metadata": {},
   "outputs": [
    {
     "data": {
      "text/html": [
       "<div>\n",
       "<style scoped>\n",
       "    .dataframe tbody tr th:only-of-type {\n",
       "        vertical-align: middle;\n",
       "    }\n",
       "\n",
       "    .dataframe tbody tr th {\n",
       "        vertical-align: top;\n",
       "    }\n",
       "\n",
       "    .dataframe thead th {\n",
       "        text-align: right;\n",
       "    }\n",
       "</style>\n",
       "<table border=\"1\" class=\"dataframe\">\n",
       "  <thead>\n",
       "    <tr style=\"text-align: right;\">\n",
       "      <th></th>\n",
       "      <th>PC1</th>\n",
       "      <th>PC2</th>\n",
       "      <th>PC3</th>\n",
       "      <th>const</th>\n",
       "    </tr>\n",
       "  </thead>\n",
       "  <tbody>\n",
       "    <tr>\n",
       "      <th>0</th>\n",
       "      <td>0.727800</td>\n",
       "      <td>0.038162</td>\n",
       "      <td>1.204158</td>\n",
       "      <td>1.0</td>\n",
       "    </tr>\n",
       "    <tr>\n",
       "      <th>1</th>\n",
       "      <td>-2.637946</td>\n",
       "      <td>-1.370233</td>\n",
       "      <td>1.077239</td>\n",
       "      <td>1.0</td>\n",
       "    </tr>\n",
       "    <tr>\n",
       "      <th>2</th>\n",
       "      <td>1.542932</td>\n",
       "      <td>-0.469245</td>\n",
       "      <td>0.076520</td>\n",
       "      <td>1.0</td>\n",
       "    </tr>\n",
       "    <tr>\n",
       "      <th>3</th>\n",
       "      <td>-3.605130</td>\n",
       "      <td>-0.458782</td>\n",
       "      <td>-0.388755</td>\n",
       "      <td>1.0</td>\n",
       "    </tr>\n",
       "    <tr>\n",
       "      <th>4</th>\n",
       "      <td>-1.453419</td>\n",
       "      <td>-0.892621</td>\n",
       "      <td>-0.777003</td>\n",
       "      <td>1.0</td>\n",
       "    </tr>\n",
       "    <tr>\n",
       "      <th>...</th>\n",
       "      <td>...</td>\n",
       "      <td>...</td>\n",
       "      <td>...</td>\n",
       "      <td>...</td>\n",
       "    </tr>\n",
       "    <tr>\n",
       "      <th>57</th>\n",
       "      <td>-2.870020</td>\n",
       "      <td>-1.454298</td>\n",
       "      <td>0.723402</td>\n",
       "      <td>1.0</td>\n",
       "    </tr>\n",
       "    <tr>\n",
       "      <th>58</th>\n",
       "      <td>1.015619</td>\n",
       "      <td>2.049672</td>\n",
       "      <td>2.170410</td>\n",
       "      <td>1.0</td>\n",
       "    </tr>\n",
       "    <tr>\n",
       "      <th>59</th>\n",
       "      <td>0.412522</td>\n",
       "      <td>2.404608</td>\n",
       "      <td>1.172586</td>\n",
       "      <td>1.0</td>\n",
       "    </tr>\n",
       "    <tr>\n",
       "      <th>60</th>\n",
       "      <td>-2.919339</td>\n",
       "      <td>1.181531</td>\n",
       "      <td>-0.091520</td>\n",
       "      <td>1.0</td>\n",
       "    </tr>\n",
       "    <tr>\n",
       "      <th>61</th>\n",
       "      <td>0.933144</td>\n",
       "      <td>1.094761</td>\n",
       "      <td>0.242295</td>\n",
       "      <td>1.0</td>\n",
       "    </tr>\n",
       "  </tbody>\n",
       "</table>\n",
       "<p>62 rows × 4 columns</p>\n",
       "</div>"
      ],
      "text/plain": [
       "         PC1       PC2       PC3  const\n",
       "0   0.727800  0.038162  1.204158    1.0\n",
       "1  -2.637946 -1.370233  1.077239    1.0\n",
       "2   1.542932 -0.469245  0.076520    1.0\n",
       "3  -3.605130 -0.458782 -0.388755    1.0\n",
       "4  -1.453419 -0.892621 -0.777003    1.0\n",
       "..       ...       ...       ...    ...\n",
       "57 -2.870020 -1.454298  0.723402    1.0\n",
       "58  1.015619  2.049672  2.170410    1.0\n",
       "59  0.412522  2.404608  1.172586    1.0\n",
       "60 -2.919339  1.181531 -0.091520    1.0\n",
       "61  0.933144  1.094761  0.242295    1.0\n",
       "\n",
       "[62 rows x 4 columns]"
      ]
     },
     "metadata": {},
     "output_type": "display_data"
    }
   ],
   "source": [
    "df15 = PCS6df.copy()\n",
    "df15 = df15.drop(['PC4','PC5','PC6'], axis = 1)\n",
    "df15['const'] = 1.0\n",
    "df15"
   ]
  },
  {
   "cell_type": "markdown",
   "metadata": {},
   "source": [
    "* <u>STEP 3 : Run the Linear Regression </u><br>\n",
    "  "
   ]
  },
  {
   "cell_type": "code",
   "execution_count": null,
   "metadata": {},
   "outputs": [
    {
     "name": "stdout",
     "output_type": "stream",
     "text": [
      "                            OLS Regression Results                            \n",
      "==============================================================================\n",
      "Dep. Variable:                LogTBox   R-squared:                       0.419\n",
      "Model:                            OLS   Adj. R-squared:                  0.389\n",
      "Method:                 Least Squares   F-statistic:                     13.93\n",
      "Date:                Sun, 11 Sep 2022   Prob (F-statistic):           5.96e-07\n",
      "Time:                        19:25:21   Log-Likelihood:                -67.006\n",
      "No. Observations:                  62   AIC:                             142.0\n",
      "Df Residuals:                      58   BIC:                             150.5\n",
      "Df Model:                           3                                         \n",
      "Covariance Type:            nonrobust                                         \n",
      "==============================================================================\n",
      "                 coef    std err          t      P>|t|      [0.025      0.975]\n",
      "------------------------------------------------------------------------------\n",
      "PC1            0.3898      0.061      6.417      0.000       0.268       0.511\n",
      "PC2            0.0657      0.107      0.613      0.542      -0.149       0.280\n",
      "PC3            0.0690      0.140      0.491      0.625      -0.212       0.350\n",
      "const         16.4799      0.094    176.013      0.000      16.293      16.667\n",
      "==============================================================================\n",
      "Omnibus:                        9.389   Durbin-Watson:                   1.682\n",
      "Prob(Omnibus):                  0.009   Jarque-Bera (JB):                8.920\n",
      "Skew:                          -0.857   Prob(JB):                       0.0116\n",
      "Kurtosis:                       3.717   Cond. No.                         2.31\n",
      "==============================================================================\n",
      "\n",
      "Notes:\n",
      "[1] Standard Errors assume that the covariance matrix of the errors is correctly specified.\n"
     ]
    }
   ],
   "source": [
    "LinReg11 = sm.OLS(y, df11).fit()\n",
    "print(LinReg11.summary())\n"
   ]
  },
  {
   "cell_type": "markdown",
   "metadata": {},
   "source": [
    "<b><u> $R^{2}$ AND ADJUSTED $R^{2}$ VALUES </u></b><br>\n",
    "\n",
    "While the $R^{2}$ value increased by a minute value, the Adjusted $R^{2}$ value has a significant decrease in comparison to the previous Linear Regression involving PC1 and PC2 <br>\n",
    "* $R^{2}$ Value = 0.419 <br>\n",
    "* Adjusted $R^{2}$ Value = 0.389 <br>\n"
   ]
  },
  {
   "cell_type": "markdown",
   "metadata": {},
   "source": [
    "<b><u> VARIABLE SIGNIFICANCE TESTING WITH SIGNIFICANCE AT 0.1 </u></b><br>"
   ]
  },
  {
   "cell_type": "markdown",
   "metadata": {},
   "source": [
    "Assigning the Significance Level as 0.1 and comparing the p-values for PC1 and PC2, we find that ONLY PC1 is STILL significant. p-value of PC2 and PC3 is well above significance Level. <br>\n",
    "* p-value of PC1 : 0.000\n",
    "* p-value of PC2 : 0.542\n",
    "* p-value of PC3 : 0.625\n",
    "\n"
   ]
  },
  {
   "cell_type": "markdown",
   "metadata": {},
   "source": [
    "### LINEAR REGRESSION BASED ON PRINCIPAL COMPONENT SELECTION USING EXPLAINED VARIANCE THRESHOLD OF 90%\n",
    "\n",
    "The FIRST, SECOND, THIRD and FOURTH Principal Components together account for 90.63% of the total variation which is slightly greater than the Threshold Percentage.\n",
    "Therefore, the FIRST FOUR COMPONENTS will be chosen when the Threshold is set to 90% (PC1, PC2, PC3 and PC4)."
   ]
  },
  {
   "cell_type": "markdown",
   "metadata": {},
   "source": [
    "<b><u> RUNNING A LINEAR REGRESSION </u></b>\n",
    " * <u>STEP 1 : Identify and Specify the Dependent Variable </u><br>\n",
    "   The transformed variable \"box\" is still kept as dependent Variable"
   ]
  },
  {
   "cell_type": "markdown",
   "metadata": {},
   "source": [
    "* <u>STEP 2 : Setup the Independent Variable </u><br>\n",
    "   Assigning PC1, PC2, PC3 and PC4 to be the Independent Variables as per PC Selection using Explained Variance Threshold of 90%"
   ]
  },
  {
   "cell_type": "code",
   "execution_count": null,
   "metadata": {},
   "outputs": [
    {
     "data": {
      "text/html": [
       "<div>\n",
       "<style scoped>\n",
       "    .dataframe tbody tr th:only-of-type {\n",
       "        vertical-align: middle;\n",
       "    }\n",
       "\n",
       "    .dataframe tbody tr th {\n",
       "        vertical-align: top;\n",
       "    }\n",
       "\n",
       "    .dataframe thead th {\n",
       "        text-align: right;\n",
       "    }\n",
       "</style>\n",
       "<table border=\"1\" class=\"dataframe\">\n",
       "  <thead>\n",
       "    <tr style=\"text-align: right;\">\n",
       "      <th></th>\n",
       "      <th>PC1</th>\n",
       "      <th>PC2</th>\n",
       "      <th>PC3</th>\n",
       "      <th>PC4</th>\n",
       "      <th>const</th>\n",
       "    </tr>\n",
       "  </thead>\n",
       "  <tbody>\n",
       "    <tr>\n",
       "      <th>0</th>\n",
       "      <td>0.727800</td>\n",
       "      <td>0.038162</td>\n",
       "      <td>1.204158</td>\n",
       "      <td>1.123466</td>\n",
       "      <td>1.0</td>\n",
       "    </tr>\n",
       "    <tr>\n",
       "      <th>1</th>\n",
       "      <td>-2.637946</td>\n",
       "      <td>-1.370233</td>\n",
       "      <td>1.077239</td>\n",
       "      <td>-0.251879</td>\n",
       "      <td>1.0</td>\n",
       "    </tr>\n",
       "    <tr>\n",
       "      <th>2</th>\n",
       "      <td>1.542932</td>\n",
       "      <td>-0.469245</td>\n",
       "      <td>0.076520</td>\n",
       "      <td>-0.857879</td>\n",
       "      <td>1.0</td>\n",
       "    </tr>\n",
       "    <tr>\n",
       "      <th>3</th>\n",
       "      <td>-3.605130</td>\n",
       "      <td>-0.458782</td>\n",
       "      <td>-0.388755</td>\n",
       "      <td>0.345631</td>\n",
       "      <td>1.0</td>\n",
       "    </tr>\n",
       "    <tr>\n",
       "      <th>4</th>\n",
       "      <td>-1.453419</td>\n",
       "      <td>-0.892621</td>\n",
       "      <td>-0.777003</td>\n",
       "      <td>0.150703</td>\n",
       "      <td>1.0</td>\n",
       "    </tr>\n",
       "    <tr>\n",
       "      <th>...</th>\n",
       "      <td>...</td>\n",
       "      <td>...</td>\n",
       "      <td>...</td>\n",
       "      <td>...</td>\n",
       "      <td>...</td>\n",
       "    </tr>\n",
       "    <tr>\n",
       "      <th>57</th>\n",
       "      <td>-2.870020</td>\n",
       "      <td>-1.454298</td>\n",
       "      <td>0.723402</td>\n",
       "      <td>0.275331</td>\n",
       "      <td>1.0</td>\n",
       "    </tr>\n",
       "    <tr>\n",
       "      <th>58</th>\n",
       "      <td>1.015619</td>\n",
       "      <td>2.049672</td>\n",
       "      <td>2.170410</td>\n",
       "      <td>-1.181606</td>\n",
       "      <td>1.0</td>\n",
       "    </tr>\n",
       "    <tr>\n",
       "      <th>59</th>\n",
       "      <td>0.412522</td>\n",
       "      <td>2.404608</td>\n",
       "      <td>1.172586</td>\n",
       "      <td>0.762127</td>\n",
       "      <td>1.0</td>\n",
       "    </tr>\n",
       "    <tr>\n",
       "      <th>60</th>\n",
       "      <td>-2.919339</td>\n",
       "      <td>1.181531</td>\n",
       "      <td>-0.091520</td>\n",
       "      <td>-0.711417</td>\n",
       "      <td>1.0</td>\n",
       "    </tr>\n",
       "    <tr>\n",
       "      <th>61</th>\n",
       "      <td>0.933144</td>\n",
       "      <td>1.094761</td>\n",
       "      <td>0.242295</td>\n",
       "      <td>1.012984</td>\n",
       "      <td>1.0</td>\n",
       "    </tr>\n",
       "  </tbody>\n",
       "</table>\n",
       "<p>62 rows × 5 columns</p>\n",
       "</div>"
      ],
      "text/plain": [
       "         PC1       PC2       PC3       PC4  const\n",
       "0   0.727800  0.038162  1.204158  1.123466    1.0\n",
       "1  -2.637946 -1.370233  1.077239 -0.251879    1.0\n",
       "2   1.542932 -0.469245  0.076520 -0.857879    1.0\n",
       "3  -3.605130 -0.458782 -0.388755  0.345631    1.0\n",
       "4  -1.453419 -0.892621 -0.777003  0.150703    1.0\n",
       "..       ...       ...       ...       ...    ...\n",
       "57 -2.870020 -1.454298  0.723402  0.275331    1.0\n",
       "58  1.015619  2.049672  2.170410 -1.181606    1.0\n",
       "59  0.412522  2.404608  1.172586  0.762127    1.0\n",
       "60 -2.919339  1.181531 -0.091520 -0.711417    1.0\n",
       "61  0.933144  1.094761  0.242295  1.012984    1.0\n",
       "\n",
       "[62 rows x 5 columns]"
      ]
     },
     "metadata": {},
     "output_type": "display_data"
    }
   ],
   "source": [
    "df16 = PCS6df.copy()\n",
    "df16 = df16.drop(['PC5','PC6'], axis = 1)\n",
    "df16['const'] = 1.0\n",
    "df16"
   ]
  },
  {
   "cell_type": "markdown",
   "metadata": {},
   "source": [
    "* <u>STEP 3 : Run the Linear Regression </u><br>"
   ]
  },
  {
   "cell_type": "code",
   "execution_count": null,
   "metadata": {},
   "outputs": [
    {
     "name": "stdout",
     "output_type": "stream",
     "text": [
      "                            OLS Regression Results                            \n",
      "==============================================================================\n",
      "Dep. Variable:                LogTBox   R-squared:                       0.451\n",
      "Model:                            OLS   Adj. R-squared:                  0.412\n",
      "Method:                 Least Squares   F-statistic:                     11.69\n",
      "Date:                Sun, 11 Sep 2022   Prob (F-statistic):           5.34e-07\n",
      "Time:                        19:28:10   Log-Likelihood:                -65.262\n",
      "No. Observations:                  62   AIC:                             140.5\n",
      "Df Residuals:                      57   BIC:                             151.2\n",
      "Df Model:                           4                                         \n",
      "Covariance Type:            nonrobust                                         \n",
      "==============================================================================\n",
      "                 coef    std err          t      P>|t|      [0.025      0.975]\n",
      "------------------------------------------------------------------------------\n",
      "PC1           -0.3632      0.055     -6.610      0.000      -0.473      -0.253\n",
      "PC2            0.0762      0.077      0.993      0.325      -0.078       0.230\n",
      "PC3            0.1503      0.110      1.360      0.179      -0.071       0.371\n",
      "PC4            0.0662      0.139      0.476      0.636      -0.212       0.345\n",
      "const         16.4799      0.092    179.467      0.000      16.296      16.664\n",
      "==============================================================================\n",
      "Omnibus:                        7.903   Durbin-Watson:                   1.632\n",
      "Prob(Omnibus):                  0.019   Jarque-Bera (JB):                7.152\n",
      "Skew:                          -0.741   Prob(JB):                       0.0280\n",
      "Kurtosis:                       3.755   Cond. No.                         2.53\n",
      "==============================================================================\n",
      "\n",
      "Notes:\n",
      "[1] Standard Errors assume that the covariance matrix of the errors is correctly specified.\n"
     ]
    }
   ],
   "source": [
    "LinReg12 = sm.OLS(y, df16).fit()\n",
    "print(LinReg12.summary())\n"
   ]
  },
  {
   "cell_type": "markdown",
   "metadata": {},
   "source": [
    "<b><u> $R^{2}$ AND ADJUSTED $R^{2}$ VALUES </u></b><br>\n",
    "\n",
    "Both the $R^{2}$ value and the Adjusted $R^{2}$ value have a significant increase in comparison to the previous Linear Regression involving PC1, PC2 and PC3 <br>\n",
    "* $R^{2}$ Value = 0.451 <br>\n",
    "* Adjusted $R^{2}$ Value = 0.412 <br>"
   ]
  },
  {
   "cell_type": "markdown",
   "metadata": {},
   "source": [
    "<b><u> VARIABLE SIGNIFICANCE TESTING WITH SIGNIFICANCE AT 0.1 </u></b><br>"
   ]
  },
  {
   "cell_type": "markdown",
   "metadata": {},
   "source": [
    "Assigning the Significance Level as 0.1 and comparing the p-values for PC1, PC2, PC3 and PC4; we find that ONLY PC1 is STILL significant. P-value of PC2, PC3 and PC4 are well above the significance level. <br>\n",
    "* p-value of PC1 : 0.000\n",
    "* p-value of PC2 : 0.325\n",
    "* p-value of PC3 : 0.179\n",
    "* p-value of PC4 : 0.636\n",
    "\n"
   ]
  },
  {
   "cell_type": "markdown",
   "metadata": {},
   "source": [
    "### LINEAR REGRESSION USING ALL 6 PRINCIPAL COMPONENTS"
   ]
  },
  {
   "cell_type": "markdown",
   "metadata": {},
   "source": [
    "<b><u> RUNNING A LINEAR REGRESSION </u></b>\n",
    " * <u>STEP 1 : Identify and Specify the Dependent Variable </u><br>\n",
    "   The transformed variable \"box\" is still kept as dependent Variable"
   ]
  },
  {
   "cell_type": "markdown",
   "metadata": {},
   "source": [
    "* <u>STEP 2 : Setup the Independent Variable </u><br>\n",
    "   Assigning PC1, PC2, PC3, PC4, PC5 and PC6 to be the Independent Variables."
   ]
  },
  {
   "cell_type": "code",
   "execution_count": null,
   "metadata": {},
   "outputs": [
    {
     "data": {
      "text/html": [
       "<div>\n",
       "<style scoped>\n",
       "    .dataframe tbody tr th:only-of-type {\n",
       "        vertical-align: middle;\n",
       "    }\n",
       "\n",
       "    .dataframe tbody tr th {\n",
       "        vertical-align: top;\n",
       "    }\n",
       "\n",
       "    .dataframe thead th {\n",
       "        text-align: right;\n",
       "    }\n",
       "</style>\n",
       "<table border=\"1\" class=\"dataframe\">\n",
       "  <thead>\n",
       "    <tr style=\"text-align: right;\">\n",
       "      <th></th>\n",
       "      <th>PC1</th>\n",
       "      <th>PC2</th>\n",
       "      <th>PC3</th>\n",
       "      <th>PC4</th>\n",
       "      <th>PC5</th>\n",
       "      <th>PC6</th>\n",
       "      <th>const</th>\n",
       "    </tr>\n",
       "  </thead>\n",
       "  <tbody>\n",
       "    <tr>\n",
       "      <th>0</th>\n",
       "      <td>0.727800</td>\n",
       "      <td>0.038162</td>\n",
       "      <td>1.204158</td>\n",
       "      <td>1.123466</td>\n",
       "      <td>-0.117357</td>\n",
       "      <td>-0.448392</td>\n",
       "      <td>1.0</td>\n",
       "    </tr>\n",
       "    <tr>\n",
       "      <th>1</th>\n",
       "      <td>-2.637946</td>\n",
       "      <td>-1.370233</td>\n",
       "      <td>1.077239</td>\n",
       "      <td>-0.251879</td>\n",
       "      <td>0.013417</td>\n",
       "      <td>-0.366720</td>\n",
       "      <td>1.0</td>\n",
       "    </tr>\n",
       "    <tr>\n",
       "      <th>2</th>\n",
       "      <td>1.542932</td>\n",
       "      <td>-0.469245</td>\n",
       "      <td>0.076520</td>\n",
       "      <td>-0.857879</td>\n",
       "      <td>0.278870</td>\n",
       "      <td>0.224304</td>\n",
       "      <td>1.0</td>\n",
       "    </tr>\n",
       "    <tr>\n",
       "      <th>3</th>\n",
       "      <td>-3.605130</td>\n",
       "      <td>-0.458782</td>\n",
       "      <td>-0.388755</td>\n",
       "      <td>0.345631</td>\n",
       "      <td>0.690654</td>\n",
       "      <td>-0.445240</td>\n",
       "      <td>1.0</td>\n",
       "    </tr>\n",
       "    <tr>\n",
       "      <th>4</th>\n",
       "      <td>-1.453419</td>\n",
       "      <td>-0.892621</td>\n",
       "      <td>-0.777003</td>\n",
       "      <td>0.150703</td>\n",
       "      <td>1.127304</td>\n",
       "      <td>-0.218117</td>\n",
       "      <td>1.0</td>\n",
       "    </tr>\n",
       "    <tr>\n",
       "      <th>...</th>\n",
       "      <td>...</td>\n",
       "      <td>...</td>\n",
       "      <td>...</td>\n",
       "      <td>...</td>\n",
       "      <td>...</td>\n",
       "      <td>...</td>\n",
       "      <td>...</td>\n",
       "    </tr>\n",
       "    <tr>\n",
       "      <th>57</th>\n",
       "      <td>-2.870020</td>\n",
       "      <td>-1.454298</td>\n",
       "      <td>0.723402</td>\n",
       "      <td>0.275331</td>\n",
       "      <td>0.139703</td>\n",
       "      <td>0.201002</td>\n",
       "      <td>1.0</td>\n",
       "    </tr>\n",
       "    <tr>\n",
       "      <th>58</th>\n",
       "      <td>1.015619</td>\n",
       "      <td>2.049672</td>\n",
       "      <td>2.170410</td>\n",
       "      <td>-1.181606</td>\n",
       "      <td>0.225858</td>\n",
       "      <td>-0.428071</td>\n",
       "      <td>1.0</td>\n",
       "    </tr>\n",
       "    <tr>\n",
       "      <th>59</th>\n",
       "      <td>0.412522</td>\n",
       "      <td>2.404608</td>\n",
       "      <td>1.172586</td>\n",
       "      <td>0.762127</td>\n",
       "      <td>-0.042936</td>\n",
       "      <td>-0.285026</td>\n",
       "      <td>1.0</td>\n",
       "    </tr>\n",
       "    <tr>\n",
       "      <th>60</th>\n",
       "      <td>-2.919339</td>\n",
       "      <td>1.181531</td>\n",
       "      <td>-0.091520</td>\n",
       "      <td>-0.711417</td>\n",
       "      <td>0.114676</td>\n",
       "      <td>0.378143</td>\n",
       "      <td>1.0</td>\n",
       "    </tr>\n",
       "    <tr>\n",
       "      <th>61</th>\n",
       "      <td>0.933144</td>\n",
       "      <td>1.094761</td>\n",
       "      <td>0.242295</td>\n",
       "      <td>1.012984</td>\n",
       "      <td>-1.199726</td>\n",
       "      <td>-0.388103</td>\n",
       "      <td>1.0</td>\n",
       "    </tr>\n",
       "  </tbody>\n",
       "</table>\n",
       "<p>62 rows × 7 columns</p>\n",
       "</div>"
      ],
      "text/plain": [
       "         PC1       PC2       PC3       PC4       PC5       PC6  const\n",
       "0   0.727800  0.038162  1.204158  1.123466 -0.117357 -0.448392    1.0\n",
       "1  -2.637946 -1.370233  1.077239 -0.251879  0.013417 -0.366720    1.0\n",
       "2   1.542932 -0.469245  0.076520 -0.857879  0.278870  0.224304    1.0\n",
       "3  -3.605130 -0.458782 -0.388755  0.345631  0.690654 -0.445240    1.0\n",
       "4  -1.453419 -0.892621 -0.777003  0.150703  1.127304 -0.218117    1.0\n",
       "..       ...       ...       ...       ...       ...       ...    ...\n",
       "57 -2.870020 -1.454298  0.723402  0.275331  0.139703  0.201002    1.0\n",
       "58  1.015619  2.049672  2.170410 -1.181606  0.225858 -0.428071    1.0\n",
       "59  0.412522  2.404608  1.172586  0.762127 -0.042936 -0.285026    1.0\n",
       "60 -2.919339  1.181531 -0.091520 -0.711417  0.114676  0.378143    1.0\n",
       "61  0.933144  1.094761  0.242295  1.012984 -1.199726 -0.388103    1.0\n",
       "\n",
       "[62 rows x 7 columns]"
      ]
     },
     "metadata": {},
     "output_type": "display_data"
    }
   ],
   "source": [
    "df17 = PCS6df.copy()\n",
    "df17['const'] = 1.0\n",
    "df17"
   ]
  },
  {
   "cell_type": "markdown",
   "metadata": {},
   "source": [
    "* <u>STEP 3 : Run the Linear Regression </u><br>\n",
    "\n",
    "  "
   ]
  },
  {
   "cell_type": "code",
   "execution_count": null,
   "metadata": {},
   "outputs": [
    {
     "name": "stdout",
     "output_type": "stream",
     "text": [
      "                            OLS Regression Results                            \n",
      "==============================================================================\n",
      "Dep. Variable:                LogTBox   R-squared:                       0.475\n",
      "Model:                            OLS   Adj. R-squared:                  0.418\n",
      "Method:                 Least Squares   F-statistic:                     8.291\n",
      "Date:                Sun, 11 Sep 2022   Prob (F-statistic):           2.07e-06\n",
      "Time:                        19:33:29   Log-Likelihood:                -63.859\n",
      "No. Observations:                  62   AIC:                             141.7\n",
      "Df Residuals:                      55   BIC:                             156.6\n",
      "Df Model:                           6                                         \n",
      "Covariance Type:            nonrobust                                         \n",
      "==============================================================================\n",
      "                 coef    std err          t      P>|t|      [0.025      0.975]\n",
      "------------------------------------------------------------------------------\n",
      "PC1           -0.3632      0.055     -6.641      0.000      -0.473      -0.254\n",
      "PC2            0.0762      0.076      0.998      0.323      -0.077       0.229\n",
      "PC3            0.1503      0.110      1.367      0.177      -0.070       0.371\n",
      "PC4            0.0662      0.138      0.478      0.634      -0.211       0.344\n",
      "PC5           -0.0606      0.158     -0.384      0.703      -0.377       0.256\n",
      "PC6           -0.3032      0.196     -1.549      0.127      -0.696       0.089\n",
      "const         16.4799      0.091    180.325      0.000      16.297      16.663\n",
      "==============================================================================\n",
      "Omnibus:                        4.879   Durbin-Watson:                   1.674\n",
      "Prob(Omnibus):                  0.087   Jarque-Bera (JB):                3.913\n",
      "Skew:                          -0.521   Prob(JB):                        0.141\n",
      "Kurtosis:                       3.655   Cond. No.                         3.58\n",
      "==============================================================================\n",
      "\n",
      "Notes:\n",
      "[1] Standard Errors assume that the covariance matrix of the errors is correctly specified.\n"
     ]
    }
   ],
   "source": [
    "LinReg13 = sm.OLS(y, df17).fit()\n",
    "print(LinReg13.summary())\n"
   ]
  },
  {
   "cell_type": "markdown",
   "metadata": {},
   "source": [
    "<b><u> $R^{2}$ AND ADJUSTED $R^{2}$ VALUES </u></b><br>\n",
    "\n",
    "dBoth the $R^{2}$ value and the Adjusted $R^{2}$ value have a significant increase in comparison to the previous Linear Regression involving PC1, PC2, PC3 and PC4.  <br>\n",
    "* $R^{2}$ Value = 0.475 <br>\n",
    "* Adjusted $R^{2}$ Value = 0.418 <br>\n"
   ]
  },
  {
   "cell_type": "markdown",
   "metadata": {},
   "source": [
    "<b><u> VARIABLE SIGNIFICANCE TESTING WITH SIGNIFICANCE AT 0.1 </u></b><br>"
   ]
  },
  {
   "cell_type": "markdown",
   "metadata": {},
   "source": [
    "Assigning the Significance Level as 0.1 and comparing the p-values for PC1, PC2, PC3 and PC4; we find that only PC1 is STILL significant. P-value of others are above significance level. Although p-value of PC3 and PC6 is quite close to the significance level. <br>\n",
    "* p-value of PC1 : 0.000\n",
    "* p-value of PC2 : 0.323\n",
    "* p-value of PC3 : 0.177\n",
    "* p-value of PC4 : 0.634\n",
    "* p-value of PC5 : 0.703\n",
    "* p-value of PC6 : 0.127\n"
   ]
  },
  {
   "cell_type": "markdown",
   "metadata": {},
   "source": [
    "### RECOMMENDATIONS"
   ]
  },
  {
   "cell_type": "markdown",
   "metadata": {},
   "source": [
    "#### Values obtained from different Linear Regression Models are listed below:\n",
    "\n",
    "<b><u> 1) PRINCIPAL COMPONENT SELECTION BASED ON KAISER'S RULE AND USING EXPLAINED VARIANCE THRESHOLD OF 60% and 70% </u></b>\n",
    "* $R^{2}$ Value = 0.431 <br>\n",
    "* Adjusted $R^{2}$ Value = 0.411 <br>\n",
    "* p-value of PC1 = 0.000 <br>\n",
    "* p-value of PC2 = 0.325 <br>\n",
    "* Significant Variable = 1 (PC1)\n",
    "\n",
    "<b><u> 2) PRINCIPAL COMPONENT SELECTION USING EXPLAINED VARIANCE THRESHOLD OF 80% </u></b>\n",
    "* $R^{2}$ Value = 0.419 <br>\n",
    "* Adjusted $R^{2}$ Value = 0.389 <br>\n",
    "* p-value of PC1 = 0.000 <br>\n",
    "* p-value of PC2 = 0.542 <br>\n",
    "* p-value of PC3 = 0.625 <br>\n",
    "* Significant Variable = 1 (PC1)\n",
    "\n",
    "<b><u> 3) PRINCIPAL COMPONENT SELECTION USING EXPLAINED VARIANCE THRESHOLD OF 90% </u></b>\n",
    "* $R^{2}$ Value = 0.451 <br>\n",
    "* Adjusted $R^{2}$ Value = 0.412 <br>\n",
    "* p-value of PC1 = 0.000 <br>\n",
    "* p-value of PC2 = 0.325 <br>\n",
    "* p-value of PC3 = 0.179 <br>\n",
    "* p-value of PC4 = 0.636 <br>\n",
    "* Significant Variable = 1 (PC1)\n",
    "\n"
   ]
  },
  {
   "cell_type": "markdown",
   "metadata": {},
   "source": [
    "### Recommendations for the models based on Thresholds set to be 60%, 70%, 80% and 90% while choosing Principal Components as independent variables of the model\n",
    "Based on the values listed above, I would recommend the Linear Regression Model using Principal Components 1, 2 3, and 4 (Variance Threshold = 90%) as the most ideal one. As despite having more terms, the Adjusted $R^{2}$ value is significantly higher compared to others even though the value often decreases to accommodate an increase in the number of terms. <br>\n"
   ]
  },
  {
   "cell_type": "markdown",
   "metadata": {},
   "source": [
    "Comparing the Linear Regression Models from Question 2, Question 5 and Question 9 below: <br>\n",
    "\n",
    "\n",
    "<b><u> Q2 OUTPUT <br>Linear Regression Model including Traditional Independent (Transformed as Required) Variables </u><i>[Excluding Buzz Variables] </i></b>\n",
    "* $R^{2}$  Value = 0.342\n",
    "* Adjusted  $R^{2}$  Value = 0.214\n",
    "* p-value of SEQUEL : 0.058\n",
    "* p-value of HORROR : 0.024\n",
    "* p-value of BUDGET : 0.001\n",
    "* Number of Significant Variables : 3\n",
    "\n",
    "<b><u> Q5 OUTPUT <br>Linear Regression Model including Traditional Independent Variables </u><i>[Including Buzz Variables(Transformed as Required)] </i></b>\n",
    "* $R^{2}$ Value = 0.624\n",
    "* Adjusted $R^{2}$ Value = 0.512\n",
    "* p-value of PG : 0.062\n",
    "* p-value of ACTION : 0.007\n",
    "* p-value of ANIMATED : 0.046\n",
    "* p-value of ADDICT(Transformed) : 0.035\n",
    "* p-value of CNTWAIT3 : 0.007\n",
    "* Number of Significant Variables : 5\n",
    "\n",
    "<b><u> Q9 OUTPUT<br>Linear Regression Model including Traditional Independent (Transformed as Required) Variables</u> <i>[Excluding Buzz Variables and Including Principal Components] </i></b>\n",
    "* $R^{2}$ Value = 0.624\n",
    "* Adjusted $R^{2}$ Value = 0.512\n",
    "* p-value of PG : 0.062\n",
    "* p-value of ACTION : 0.007\n",
    "* p-value of ANIMATED : 0.046\n",
    "* p-value of PC1 : 0.000\n",
    "* Number of Significant Variables : 4\n",
    "\n",
    "\n",
    "\n",
    "\n",
    "\n",
    "\n",
    "\n"
   ]
  },
  {
   "cell_type": "markdown",
   "metadata": {},
   "source": [
    "Comparing the Linear Regression Model including ONLY TRADITIONAL INDEPENDENT VARIABLES (Q2) with the one including BOTH TRADITIONAL INDEPENDENT VARIABLES AND BUZZ VARIABLES (Q5) ; we can infer that: \n",
    "* Adjusted $R^{2}$ value increases by a large margin despite the increase in the number of terms used to build the model. \n",
    "* This shows that the model including the buzz variables fits better and accounts for 51.2% of the variance as compared to the model including only traditional variables where it only accounts for 21.4% of the variance. "
   ]
  },
  {
   "cell_type": "markdown",
   "metadata": {},
   "source": [
    "Comparing the models obtained using TRADITIONAL INDEPENDENT VARIABLES AND BUZZ VARIABLES (Q5) and the one using TRADITIONAL INDEPENDENT VARIABLES AND PRINCIPAL COMPONENTS (Q9), we found that both the models are the EXACT SAME pertaining to values like $R^{2}$, Adjusted $R^{2}$ and p-values (Action, Animated and Transformed Addict). Thus we can say that both models are EQUALLY GOOD. \n",
    "Therefore we can say that both Buzz Variables and PCA help in building better models in comparison to when they are not used. We can also say that they both are EQUALLY GOOD at building better models."
   ]
  },
  {
   "cell_type": "markdown",
   "metadata": {},
   "source": [
    "<b><u> MANAGERIAL TAKEAWAYS </u></b>\n",
    "* As found through the course of this study, buzz variables seem to be very important and play a major role in the collections of box office. Producers of movies should definitely look into these factors and arrange advertising, media and marketing campaigns in the weeks before the release of the movie.\n",
    "* Sequel, Budget, Action and Animated variables have appeared multiple times across various Linear Regressions as significant variables (apart from buzz variables). These factors should also be taken into close consideration in order to an expect an increase in box office collections.\n",
    "\n",
    "<b><u> SURPRISING TAKEAWAYS </u></b>\n",
    "* We obtained the exact same results from the models in Q5 And Q9. Q5 included all the independent traditional variables (including buzz) while Q9 included independent traditional variables and Principal Components (Which are dependent on Buzz)"
   ]
  }
 ],
 "metadata": {
  "kernelspec": {
   "display_name": "Python 3",
   "language": "python",
   "name": "python3"
  },
  "language_info": {
   "name": "python",
   "version": "3.8.2"
  },
  "orig_nbformat": 4,
  "vscode": {
   "interpreter": {
    "hash": "570feb405e2e27c949193ac68f46852414290d515b0ba6e5d90d076ed2284471"
   }
  }
 },
 "nbformat": 4,
 "nbformat_minor": 2
}
